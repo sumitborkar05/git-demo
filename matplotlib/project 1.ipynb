{
 "cells": [
  {
   "cell_type": "code",
   "execution_count": 1,
   "id": "89b7b7d0",
   "metadata": {},
   "outputs": [
    {
     "name": "stdout",
     "output_type": "stream",
     "text": [
      "   Responder_id                          LanguagesWorkedWith\n",
      "0             1              HTML/CSS;Java;JavaScript;Python\n",
      "1             2                          C++;HTML/CSS;Python\n",
      "2             3                                     HTML/CSS\n",
      "3             4                          C;C++;C#;Python;SQL\n",
      "4             5  C++;HTML/CSS;Java;JavaScript;Python;SQL;VBA\n",
      "<class 'pandas.core.frame.DataFrame'>\n",
      "RangeIndex: 87569 entries, 0 to 87568\n",
      "Data columns (total 2 columns):\n",
      " #   Column               Non-Null Count  Dtype \n",
      "---  ------               --------------  ----- \n",
      " 0   Responder_id         87569 non-null  int64 \n",
      " 1   LanguagesWorkedWith  87569 non-null  object\n",
      "dtypes: int64(1), object(1)\n",
      "memory usage: 1.3+ MB\n"
     ]
    }
   ],
   "source": [
    "from collections import Counter\n",
    "import pandas as pd\n",
    "from matplotlib import pyplot as plt\n",
    "f1= pd.read_csv('Data.csv')\n",
    "print(f1.head())\n",
    "f1.info()\n",
    "\n",
    "\n",
    "\n",
    "\n",
    "\n"
   ]
  },
  {
   "cell_type": "code",
   "execution_count": 4,
   "id": "ae6d13c4",
   "metadata": {},
   "outputs": [
    {
     "ename": "SyntaxError",
     "evalue": "invalid syntax (<ipython-input-4-b3b25e64938f>, line 4)",
     "output_type": "error",
     "traceback": [
      "\u001b[1;36m  File \u001b[1;32m\"<ipython-input-4-b3b25e64938f>\"\u001b[1;36m, line \u001b[1;32m4\u001b[0m\n\u001b[1;33m    for j in (row_info):\u001b[0m\n\u001b[1;37m                       ^\u001b[0m\n\u001b[1;31mSyntaxError\u001b[0m\u001b[1;31m:\u001b[0m invalid syntax\n"
     ]
    }
   ],
   "source": [
    "lang =[]\n",
    "for i in (f1['LanguagesWorkedWith']):\n",
    "        row_info = (i.split(';')\n",
    "    for j in (row_info):\n",
    "        lang.append(j)\n",
    "lang_dict = Counter(lang)\n",
    "print(lang_dict)\n",
    "    \n"
   ]
  },
  {
   "cell_type": "code",
   "execution_count": null,
   "id": "5c67d881",
   "metadata": {},
   "outputs": [],
   "source": [
    "lang_x =lang_dict.keys()\n",
    "users_Y = lang_dict.values()\n",
    "plt.bar(lang_x,users_Y)"
   ]
  }
 ],
 "metadata": {
  "kernelspec": {
   "display_name": "Python 3",
   "language": "python",
   "name": "python3"
  },
  "language_info": {
   "codemirror_mode": {
    "name": "ipython",
    "version": 3
   },
   "file_extension": ".py",
   "mimetype": "text/x-python",
   "name": "python",
   "nbconvert_exporter": "python",
   "pygments_lexer": "ipython3",
   "version": "3.8.8"
  }
 },
 "nbformat": 4,
 "nbformat_minor": 5
}
