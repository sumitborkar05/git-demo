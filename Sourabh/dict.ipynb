{
 "cells": [
  {
   "cell_type": "code",
   "execution_count": null,
   "id": "88f69fcc",
   "metadata": {},
   "outputs": [],
   "source": [
    "makemy trip website\n",
    "mumbai to delhi\n",
    "\n",
    "spicejet\n",
    "indian airlines\n",
    "\n",
    "\n",
    "\n",
    "\n",
    "\n",
    "\n",
    "API--- Application Programming Interface\n",
    "\n",
    "json object\n",
    "\n",
    "dict \n",
    "\n",
    "\n",
    "store data in the form key value"
   ]
  },
  {
   "cell_type": "code",
   "execution_count": 1,
   "id": "6851c0e7",
   "metadata": {},
   "outputs": [],
   "source": [
    "d = {}"
   ]
  },
  {
   "cell_type": "code",
   "execution_count": 2,
   "id": "fc4cb4e5",
   "metadata": {},
   "outputs": [],
   "source": [
    "s = {} # it will create dict"
   ]
  },
  {
   "cell_type": "code",
   "execution_count": 3,
   "id": "71caec23",
   "metadata": {},
   "outputs": [],
   "source": [
    "a = {1,}"
   ]
  },
  {
   "cell_type": "code",
   "execution_count": 4,
   "id": "aa3c13c9",
   "metadata": {},
   "outputs": [
    {
     "data": {
      "text/plain": [
       "set"
      ]
     },
     "execution_count": 4,
     "metadata": {},
     "output_type": "execute_result"
    }
   ],
   "source": [
    "type(a)"
   ]
  },
  {
   "cell_type": "code",
   "execution_count": 5,
   "id": "569eba3b",
   "metadata": {},
   "outputs": [],
   "source": [
    "d = {'a':1,'b':2,'c':3}"
   ]
  },
  {
   "cell_type": "code",
   "execution_count": 6,
   "id": "5261dd6e",
   "metadata": {},
   "outputs": [
    {
     "data": {
      "text/plain": [
       "dict"
      ]
     },
     "execution_count": 6,
     "metadata": {},
     "output_type": "execute_result"
    }
   ],
   "source": [
    "type(d)"
   ]
  },
  {
   "cell_type": "code",
   "execution_count": null,
   "id": "80b337b2",
   "metadata": {},
   "outputs": [],
   "source": [
    "1.it consist in the form of key:value\n",
    "2.keys are always immutable\n",
    "3.values can be mutable or immutable\n",
    "4.it is mutable in nature---inesrt/delete/update"
   ]
  },
  {
   "cell_type": "code",
   "execution_count": 7,
   "id": "ab492d7f",
   "metadata": {},
   "outputs": [],
   "source": [
    "personal_dict = {'name':'arun','salary':45000,'company':'IBM','location':'Pune'}\n"
   ]
  },
  {
   "cell_type": "code",
   "execution_count": 8,
   "id": "bfd0ef65",
   "metadata": {},
   "outputs": [
    {
     "data": {
      "text/plain": [
       "{'name': 'arun', 'salary': 45000, 'company': 'IBM', 'location': 'Pune'}"
      ]
     },
     "execution_count": 8,
     "metadata": {},
     "output_type": "execute_result"
    }
   ],
   "source": [
    "personal_dict"
   ]
  },
  {
   "cell_type": "code",
   "execution_count": 9,
   "id": "8a28230f",
   "metadata": {},
   "outputs": [
    {
     "ename": "TypeError",
     "evalue": "unhashable type: 'list'",
     "output_type": "error",
     "traceback": [
      "\u001b[1;31m---------------------------------------------------------------------------\u001b[0m",
      "\u001b[1;31mTypeError\u001b[0m                                 Traceback (most recent call last)",
      "\u001b[1;32m<ipython-input-9-74d269cdf78b>\u001b[0m in \u001b[0;36m<module>\u001b[1;34m\u001b[0m\n\u001b[1;32m----> 1\u001b[1;33m \u001b[0md\u001b[0m \u001b[1;33m=\u001b[0m \u001b[1;33m{\u001b[0m\u001b[1;33m[\u001b[0m\u001b[1;34m'a'\u001b[0m\u001b[1;33m,\u001b[0m\u001b[1;34m'b'\u001b[0m\u001b[1;33m,\u001b[0m\u001b[1;34m'c'\u001b[0m\u001b[1;33m]\u001b[0m\u001b[1;33m:\u001b[0m\u001b[1;34m'python'\u001b[0m\u001b[1;33m}\u001b[0m\u001b[1;33m\u001b[0m\u001b[1;33m\u001b[0m\u001b[0m\n\u001b[0m",
      "\u001b[1;31mTypeError\u001b[0m: unhashable type: 'list'"
     ]
    }
   ],
   "source": [
    "d = {['a','b','c']:'python'}"
   ]
  },
  {
   "cell_type": "code",
   "execution_count": 10,
   "id": "91c9faee",
   "metadata": {},
   "outputs": [],
   "source": [
    "d = {('a','b','c'):'python'}"
   ]
  },
  {
   "cell_type": "code",
   "execution_count": 11,
   "id": "2fa81118",
   "metadata": {},
   "outputs": [
    {
     "data": {
      "text/plain": [
       "{('a', 'b', 'c'): 'python'}"
      ]
     },
     "execution_count": 11,
     "metadata": {},
     "output_type": "execute_result"
    }
   ],
   "source": [
    "d"
   ]
  },
  {
   "cell_type": "code",
   "execution_count": null,
   "id": "020840c4",
   "metadata": {},
   "outputs": [],
   "source": [
    "keys can be:\n",
    "    tuple\n",
    "    string\n",
    "    number"
   ]
  },
  {
   "cell_type": "code",
   "execution_count": 12,
   "id": "1d49322f",
   "metadata": {},
   "outputs": [],
   "source": [
    "personal_dict = {'name':'arun','salary':45000,'company':'IBM','location':'Pune'}"
   ]
  },
  {
   "cell_type": "code",
   "execution_count": 13,
   "id": "a54ea918",
   "metadata": {},
   "outputs": [
    {
     "data": {
      "text/plain": [
       "{'name': 'arun', 'salary': 45000, 'company': 'IBM', 'location': 'Pune'}"
      ]
     },
     "execution_count": 13,
     "metadata": {},
     "output_type": "execute_result"
    }
   ],
   "source": [
    "personal_dict"
   ]
  },
  {
   "cell_type": "code",
   "execution_count": null,
   "id": "af05ca5c",
   "metadata": {},
   "outputs": [],
   "source": [
    "key\n",
    "value\n",
    "key:value---- item\n",
    "{ items}"
   ]
  },
  {
   "cell_type": "code",
   "execution_count": null,
   "id": "998fa289",
   "metadata": {},
   "outputs": [],
   "source": [
    "mutable DS:\n",
    "    list\n",
    "    set\n",
    "    dict\n",
    "immutable DS:\n",
    "    tuple\n",
    "    string\n",
    "    frozenset\n",
    "    number"
   ]
  },
  {
   "cell_type": "code",
   "execution_count": null,
   "id": "fa87bfcc",
   "metadata": {},
   "outputs": [],
   "source": []
  },
  {
   "cell_type": "code",
   "execution_count": null,
   "id": "8cdffefb",
   "metadata": {},
   "outputs": [],
   "source": []
  },
  {
   "cell_type": "code",
   "execution_count": 14,
   "id": "eb5e02d8",
   "metadata": {},
   "outputs": [
    {
     "data": {
      "text/plain": [
       "{'name': 'arun', 'salary': 45000, 'company': 'IBM', 'location': 'Pune'}"
      ]
     },
     "execution_count": 14,
     "metadata": {},
     "output_type": "execute_result"
    }
   ],
   "source": [
    "personal_dict"
   ]
  },
  {
   "cell_type": "code",
   "execution_count": 15,
   "id": "677103df",
   "metadata": {},
   "outputs": [],
   "source": [
    "p = {'name':['akash','jon','justin','hari','somesh'],\n",
    "    'salary':[45000,35000,24000,56000,76000],\n",
    "    'loc':['pune','mumbai','delhi','chennai','pune']}"
   ]
  },
  {
   "cell_type": "code",
   "execution_count": 16,
   "id": "61b87db1",
   "metadata": {},
   "outputs": [
    {
     "data": {
      "text/plain": [
       "{'name': ['akash', 'jon', 'justin', 'hari', 'somesh'],\n",
       " 'salary': [45000, 35000, 24000, 56000, 76000],\n",
       " 'loc': ['pune', 'mumbai', 'delhi', 'chennai', 'pune']}"
      ]
     },
     "execution_count": 16,
     "metadata": {},
     "output_type": "execute_result"
    }
   ],
   "source": [
    "p"
   ]
  },
  {
   "cell_type": "code",
   "execution_count": 17,
   "id": "2ddb0041",
   "metadata": {},
   "outputs": [],
   "source": []
  },
  {
   "cell_type": "code",
   "execution_count": 18,
   "id": "f8aa2fb4",
   "metadata": {},
   "outputs": [],
   "source": []
  },
  {
   "cell_type": "code",
   "execution_count": 19,
   "id": "adcd569c",
   "metadata": {},
   "outputs": [
    {
     "data": {
      "text/html": [
       "<div>\n",
       "<style scoped>\n",
       "    .dataframe tbody tr th:only-of-type {\n",
       "        vertical-align: middle;\n",
       "    }\n",
       "\n",
       "    .dataframe tbody tr th {\n",
       "        vertical-align: top;\n",
       "    }\n",
       "\n",
       "    .dataframe thead th {\n",
       "        text-align: right;\n",
       "    }\n",
       "</style>\n",
       "<table border=\"1\" class=\"dataframe\">\n",
       "  <thead>\n",
       "    <tr style=\"text-align: right;\">\n",
       "      <th></th>\n",
       "      <th>name</th>\n",
       "      <th>salary</th>\n",
       "      <th>loc</th>\n",
       "    </tr>\n",
       "  </thead>\n",
       "  <tbody>\n",
       "    <tr>\n",
       "      <th>0</th>\n",
       "      <td>akash</td>\n",
       "      <td>45000</td>\n",
       "      <td>pune</td>\n",
       "    </tr>\n",
       "    <tr>\n",
       "      <th>1</th>\n",
       "      <td>jon</td>\n",
       "      <td>35000</td>\n",
       "      <td>mumbai</td>\n",
       "    </tr>\n",
       "    <tr>\n",
       "      <th>2</th>\n",
       "      <td>justin</td>\n",
       "      <td>24000</td>\n",
       "      <td>delhi</td>\n",
       "    </tr>\n",
       "    <tr>\n",
       "      <th>3</th>\n",
       "      <td>hari</td>\n",
       "      <td>56000</td>\n",
       "      <td>chennai</td>\n",
       "    </tr>\n",
       "    <tr>\n",
       "      <th>4</th>\n",
       "      <td>somesh</td>\n",
       "      <td>76000</td>\n",
       "      <td>pune</td>\n",
       "    </tr>\n",
       "  </tbody>\n",
       "</table>\n",
       "</div>"
      ],
      "text/plain": [
       "     name  salary      loc\n",
       "0   akash   45000     pune\n",
       "1     jon   35000   mumbai\n",
       "2  justin   24000    delhi\n",
       "3    hari   56000  chennai\n",
       "4  somesh   76000     pune"
      ]
     },
     "execution_count": 19,
     "metadata": {},
     "output_type": "execute_result"
    }
   ],
   "source": []
  },
  {
   "cell_type": "code",
   "execution_count": 20,
   "id": "a75b8bf6",
   "metadata": {},
   "outputs": [],
   "source": [
    "p = {'name':['akash','jon','justin','hari','somesh'],\n",
    "    'salary':[45000],\n",
    "    'loc':['pune','mumbai','delhi','chennai','pune']}"
   ]
  },
  {
   "cell_type": "code",
   "execution_count": 21,
   "id": "b5ad07e8",
   "metadata": {},
   "outputs": [
    {
     "data": {
      "text/plain": [
       "{'name': ['akash', 'jon', 'justin', 'hari', 'somesh'],\n",
       " 'salary': [45000],\n",
       " 'loc': ['pune', 'mumbai', 'delhi', 'chennai', 'pune']}"
      ]
     },
     "execution_count": 21,
     "metadata": {},
     "output_type": "execute_result"
    }
   ],
   "source": [
    "p"
   ]
  },
  {
   "cell_type": "code",
   "execution_count": 22,
   "id": "f0749815",
   "metadata": {},
   "outputs": [
    {
     "data": {
      "text/plain": [
       "{'name': ['akash', 'jon', 'justin', 'hari', 'somesh'],\n",
       " 'salary': [45000],\n",
       " 'loc': ['pune', 'mumbai', 'delhi', 'chennai', 'pune']}"
      ]
     },
     "execution_count": 22,
     "metadata": {},
     "output_type": "execute_result"
    }
   ],
   "source": [
    "p"
   ]
  },
  {
   "cell_type": "code",
   "execution_count": 23,
   "id": "4322a5f8",
   "metadata": {},
   "outputs": [
    {
     "data": {
      "text/plain": [
       "['akash', 'jon', 'justin', 'hari', 'somesh']"
      ]
     },
     "execution_count": 23,
     "metadata": {},
     "output_type": "execute_result"
    }
   ],
   "source": [
    "p['name']"
   ]
  },
  {
   "cell_type": "code",
   "execution_count": 24,
   "id": "a9c208ef",
   "metadata": {},
   "outputs": [
    {
     "data": {
      "text/plain": [
       "[45000]"
      ]
     },
     "execution_count": 24,
     "metadata": {},
     "output_type": "execute_result"
    }
   ],
   "source": [
    "p['salary']"
   ]
  },
  {
   "cell_type": "code",
   "execution_count": 25,
   "id": "a4ed5657",
   "metadata": {},
   "outputs": [
    {
     "data": {
      "text/plain": [
       "['pune', 'mumbai', 'delhi', 'chennai', 'pune']"
      ]
     },
     "execution_count": 25,
     "metadata": {},
     "output_type": "execute_result"
    }
   ],
   "source": [
    "p['loc']"
   ]
  },
  {
   "cell_type": "code",
   "execution_count": 26,
   "id": "ff0c1870",
   "metadata": {},
   "outputs": [],
   "source": [
    "#note dont use seq immutable i.e tuple"
   ]
  },
  {
   "cell_type": "code",
   "execution_count": 27,
   "id": "88c0e5c3",
   "metadata": {},
   "outputs": [],
   "source": [
    "car_details = {'name':'BMW','price':900000,'speed':120}"
   ]
  },
  {
   "cell_type": "code",
   "execution_count": 28,
   "id": "3ebdd8ef",
   "metadata": {},
   "outputs": [
    {
     "data": {
      "text/plain": [
       "{'name': 'BMW', 'price': 900000, 'speed': 120}"
      ]
     },
     "execution_count": 28,
     "metadata": {},
     "output_type": "execute_result"
    }
   ],
   "source": [
    "car_details"
   ]
  },
  {
   "cell_type": "code",
   "execution_count": 30,
   "id": "13409f84",
   "metadata": {},
   "outputs": [
    {
     "data": {
      "text/plain": [
       "'BMW'"
      ]
     },
     "execution_count": 30,
     "metadata": {},
     "output_type": "execute_result"
    }
   ],
   "source": [
    "car_details['name']"
   ]
  },
  {
   "cell_type": "code",
   "execution_count": 31,
   "id": "16c2c280",
   "metadata": {},
   "outputs": [
    {
     "data": {
      "text/plain": [
       "900000"
      ]
     },
     "execution_count": 31,
     "metadata": {},
     "output_type": "execute_result"
    }
   ],
   "source": [
    "car_details['price']"
   ]
  },
  {
   "cell_type": "code",
   "execution_count": 32,
   "id": "67b98651",
   "metadata": {},
   "outputs": [
    {
     "data": {
      "text/plain": [
       "120"
      ]
     },
     "execution_count": 32,
     "metadata": {},
     "output_type": "execute_result"
    }
   ],
   "source": [
    "car_details['speed']"
   ]
  },
  {
   "cell_type": "code",
   "execution_count": 33,
   "id": "25ebdf26",
   "metadata": {},
   "outputs": [],
   "source": [
    "#create dict\n",
    "#how to access"
   ]
  },
  {
   "cell_type": "code",
   "execution_count": 34,
   "id": "8ae7f2bb",
   "metadata": {},
   "outputs": [
    {
     "data": {
      "text/plain": [
       "{'name': ['akash', 'jon', 'justin', 'hari', 'somesh'],\n",
       " 'salary': [45000],\n",
       " 'loc': ['pune', 'mumbai', 'delhi', 'chennai', 'pune']}"
      ]
     },
     "execution_count": 34,
     "metadata": {},
     "output_type": "execute_result"
    }
   ],
   "source": [
    "p"
   ]
  },
  {
   "cell_type": "code",
   "execution_count": 37,
   "id": "6aa71d3e",
   "metadata": {},
   "outputs": [
    {
     "data": {
      "text/plain": [
       "'akash'"
      ]
     },
     "execution_count": 37,
     "metadata": {},
     "output_type": "execute_result"
    }
   ],
   "source": [
    "p['name'][0]"
   ]
  },
  {
   "cell_type": "code",
   "execution_count": 38,
   "id": "4dd09f9c",
   "metadata": {},
   "outputs": [
    {
     "data": {
      "text/plain": [
       "'chennai'"
      ]
     },
     "execution_count": 38,
     "metadata": {},
     "output_type": "execute_result"
    }
   ],
   "source": [
    "p['loc'][-2]"
   ]
  },
  {
   "cell_type": "code",
   "execution_count": 39,
   "id": "5398ae50",
   "metadata": {},
   "outputs": [
    {
     "data": {
      "text/plain": [
       "{'name': 'BMW', 'price': 900000, 'speed': 120}"
      ]
     },
     "execution_count": 39,
     "metadata": {},
     "output_type": "execute_result"
    }
   ],
   "source": [
    "car_details"
   ]
  },
  {
   "cell_type": "code",
   "execution_count": 40,
   "id": "9c2f4268",
   "metadata": {},
   "outputs": [],
   "source": [
    "# there are two ways access the value"
   ]
  },
  {
   "cell_type": "code",
   "execution_count": 43,
   "id": "4a9b28a4",
   "metadata": {},
   "outputs": [
    {
     "ename": "KeyError",
     "evalue": "'name1'",
     "output_type": "error",
     "traceback": [
      "\u001b[1;31m---------------------------------------------------------------------------\u001b[0m",
      "\u001b[1;31mKeyError\u001b[0m                                  Traceback (most recent call last)",
      "\u001b[1;32m<ipython-input-43-8176fa9bfdc5>\u001b[0m in \u001b[0;36m<module>\u001b[1;34m\u001b[0m\n\u001b[1;32m----> 1\u001b[1;33m \u001b[0mcar_details\u001b[0m\u001b[1;33m[\u001b[0m\u001b[1;34m'name1'\u001b[0m\u001b[1;33m]\u001b[0m\u001b[1;33m\u001b[0m\u001b[1;33m\u001b[0m\u001b[0m\n\u001b[0m",
      "\u001b[1;31mKeyError\u001b[0m: 'name1'"
     ]
    }
   ],
   "source": [
    "car_details['name1']"
   ]
  },
  {
   "cell_type": "code",
   "execution_count": 48,
   "id": "1b0532ab",
   "metadata": {},
   "outputs": [
    {
     "data": {
      "text/plain": [
       "'no key present'"
      ]
     },
     "execution_count": 48,
     "metadata": {},
     "output_type": "execute_result"
    }
   ],
   "source": [
    "car_details.get('name234242342','no key present')"
   ]
  },
  {
   "cell_type": "code",
   "execution_count": 49,
   "id": "7ccfba87",
   "metadata": {},
   "outputs": [
    {
     "data": {
      "text/plain": [
       "{'name': 'BMW', 'price': 900000, 'speed': 120}"
      ]
     },
     "execution_count": 49,
     "metadata": {},
     "output_type": "execute_result"
    }
   ],
   "source": [
    "car_details"
   ]
  },
  {
   "cell_type": "code",
   "execution_count": 51,
   "id": "a9e4647d",
   "metadata": {},
   "outputs": [
    {
     "ename": "KeyError",
     "evalue": "'name232323'",
     "output_type": "error",
     "traceback": [
      "\u001b[1;31m---------------------------------------------------------------------------\u001b[0m",
      "\u001b[1;31mKeyError\u001b[0m                                  Traceback (most recent call last)",
      "\u001b[1;32m<ipython-input-51-d8bca1b75281>\u001b[0m in \u001b[0;36m<module>\u001b[1;34m\u001b[0m\n\u001b[1;32m----> 1\u001b[1;33m \u001b[0mcar_details\u001b[0m\u001b[1;33m[\u001b[0m\u001b[1;34m'name232323'\u001b[0m\u001b[1;33m]\u001b[0m\u001b[1;33m\u001b[0m\u001b[1;33m\u001b[0m\u001b[0m\n\u001b[0m",
      "\u001b[1;31mKeyError\u001b[0m: 'name232323'"
     ]
    }
   ],
   "source": [
    "car_details['name232323']"
   ]
  },
  {
   "cell_type": "code",
   "execution_count": 53,
   "id": "d07e4e7b",
   "metadata": {},
   "outputs": [
    {
     "data": {
      "text/plain": [
       "'nodata'"
      ]
     },
     "execution_count": 53,
     "metadata": {},
     "output_type": "execute_result"
    }
   ],
   "source": [
    "car_details.get('kjsdanfjkasbdfjk','nodata')"
   ]
  },
  {
   "cell_type": "code",
   "execution_count": 54,
   "id": "523d5aad",
   "metadata": {},
   "outputs": [],
   "source": [
    "#insert the value into dict"
   ]
  },
  {
   "cell_type": "code",
   "execution_count": 55,
   "id": "0a4518ea",
   "metadata": {},
   "outputs": [],
   "source": [
    "car_details['color'] = 'Red'"
   ]
  },
  {
   "cell_type": "code",
   "execution_count": 56,
   "id": "acf77f60",
   "metadata": {},
   "outputs": [
    {
     "data": {
      "text/plain": [
       "{'name': 'BMW', 'price': 900000, 'speed': 120, 'color': 'Red'}"
      ]
     },
     "execution_count": 56,
     "metadata": {},
     "output_type": "execute_result"
    }
   ],
   "source": [
    "car_details"
   ]
  },
  {
   "cell_type": "code",
   "execution_count": 57,
   "id": "35c5c4ba",
   "metadata": {},
   "outputs": [],
   "source": [
    "car_details['variant'] = None"
   ]
  },
  {
   "cell_type": "code",
   "execution_count": 58,
   "id": "479aad4c",
   "metadata": {},
   "outputs": [
    {
     "data": {
      "text/plain": [
       "{'name': 'BMW', 'price': 900000, 'speed': 120, 'color': 'Red', 'variant': None}"
      ]
     },
     "execution_count": 58,
     "metadata": {},
     "output_type": "execute_result"
    }
   ],
   "source": [
    "car_details"
   ]
  },
  {
   "cell_type": "code",
   "execution_count": 60,
   "id": "8328206b",
   "metadata": {},
   "outputs": [],
   "source": [
    "car_details['asd'] = 100"
   ]
  },
  {
   "cell_type": "code",
   "execution_count": 61,
   "id": "d1e89364",
   "metadata": {},
   "outputs": [
    {
     "data": {
      "text/plain": [
       "{'name': 'BMW',\n",
       " 'price': 900000,\n",
       " 'speed': 120,\n",
       " 'color': 'Red',\n",
       " 'variant': None,\n",
       " 'asd': 100}"
      ]
     },
     "execution_count": 61,
     "metadata": {},
     "output_type": "execute_result"
    }
   ],
   "source": [
    "car_details"
   ]
  },
  {
   "cell_type": "code",
   "execution_count": 62,
   "id": "9b573d9a",
   "metadata": {},
   "outputs": [],
   "source": [
    "#multple key:value pair"
   ]
  },
  {
   "cell_type": "code",
   "execution_count": 63,
   "id": "960ad8ef",
   "metadata": {},
   "outputs": [],
   "source": [
    "car_details.update({'loc':'mumbai','isanyaccident':False})"
   ]
  },
  {
   "cell_type": "code",
   "execution_count": 64,
   "id": "6f4bb5d1",
   "metadata": {},
   "outputs": [
    {
     "data": {
      "text/plain": [
       "{'name': 'BMW',\n",
       " 'price': 900000,\n",
       " 'speed': 120,\n",
       " 'color': 'Red',\n",
       " 'variant': None,\n",
       " 'asd': 100,\n",
       " 'loc': 'mumbai',\n",
       " 'isanyaccident': False}"
      ]
     },
     "execution_count": 64,
     "metadata": {},
     "output_type": "execute_result"
    }
   ],
   "source": [
    "car_details"
   ]
  },
  {
   "cell_type": "code",
   "execution_count": 65,
   "id": "bbe53132",
   "metadata": {},
   "outputs": [],
   "source": [
    "#dict keys cannt be duplicate\n",
    "it will take latest key value pair"
   ]
  },
  {
   "cell_type": "code",
   "execution_count": 66,
   "id": "579c61a8",
   "metadata": {},
   "outputs": [],
   "source": [
    "temp = {'a':1,'b':2,'c':3}"
   ]
  },
  {
   "cell_type": "code",
   "execution_count": 67,
   "id": "4d38eadb",
   "metadata": {},
   "outputs": [
    {
     "data": {
      "text/plain": [
       "{'a': 1, 'b': 2, 'c': 3}"
      ]
     },
     "execution_count": 67,
     "metadata": {},
     "output_type": "execute_result"
    }
   ],
   "source": [
    "temp"
   ]
  },
  {
   "cell_type": "code",
   "execution_count": 68,
   "id": "188b3764",
   "metadata": {},
   "outputs": [],
   "source": [
    "temp['a'] = 100"
   ]
  },
  {
   "cell_type": "code",
   "execution_count": 69,
   "id": "e6fa4e14",
   "metadata": {},
   "outputs": [
    {
     "data": {
      "text/plain": [
       "{'a': 100, 'b': 2, 'c': 3}"
      ]
     },
     "execution_count": 69,
     "metadata": {},
     "output_type": "execute_result"
    }
   ],
   "source": [
    "temp"
   ]
  },
  {
   "cell_type": "code",
   "execution_count": 70,
   "id": "21bc5ca7",
   "metadata": {},
   "outputs": [
    {
     "ename": "KeyError",
     "evalue": "2",
     "output_type": "error",
     "traceback": [
      "\u001b[1;31m---------------------------------------------------------------------------\u001b[0m",
      "\u001b[1;31mKeyError\u001b[0m                                  Traceback (most recent call last)",
      "\u001b[1;32m<ipython-input-70-a3fbec946e53>\u001b[0m in \u001b[0;36m<module>\u001b[1;34m\u001b[0m\n\u001b[1;32m----> 1\u001b[1;33m \u001b[0mtemp\u001b[0m\u001b[1;33m[\u001b[0m\u001b[1;36m2\u001b[0m\u001b[1;33m]\u001b[0m\u001b[1;33m\u001b[0m\u001b[1;33m\u001b[0m\u001b[0m\n\u001b[0m",
      "\u001b[1;31mKeyError\u001b[0m: 2"
     ]
    }
   ],
   "source": [
    "temp[2]"
   ]
  },
  {
   "cell_type": "code",
   "execution_count": 71,
   "id": "1cb9dbf5",
   "metadata": {},
   "outputs": [
    {
     "data": {
      "text/plain": [
       "{'a': 100, 'b': 2, 'c': 3}"
      ]
     },
     "execution_count": 71,
     "metadata": {},
     "output_type": "execute_result"
    }
   ],
   "source": [
    "temp"
   ]
  },
  {
   "cell_type": "code",
   "execution_count": 72,
   "id": "5b3f014e",
   "metadata": {},
   "outputs": [],
   "source": [
    "temp['a'] = [100,200,300,400]"
   ]
  },
  {
   "cell_type": "code",
   "execution_count": 73,
   "id": "107aec64",
   "metadata": {},
   "outputs": [
    {
     "data": {
      "text/plain": [
       "{'a': [100, 200, 300, 400], 'b': 2, 'c': 3}"
      ]
     },
     "execution_count": 73,
     "metadata": {},
     "output_type": "execute_result"
    }
   ],
   "source": [
    "temp"
   ]
  },
  {
   "cell_type": "code",
   "execution_count": 74,
   "id": "018abb04",
   "metadata": {},
   "outputs": [],
   "source": [
    "temp['a1'] = 'python'"
   ]
  },
  {
   "cell_type": "code",
   "execution_count": 75,
   "id": "011b24c9",
   "metadata": {},
   "outputs": [
    {
     "data": {
      "text/plain": [
       "{'a': [100, 200, 300, 400], 'b': 2, 'c': 3, 'a1': 'python'}"
      ]
     },
     "execution_count": 75,
     "metadata": {},
     "output_type": "execute_result"
    }
   ],
   "source": [
    "temp"
   ]
  },
  {
   "cell_type": "code",
   "execution_count": 76,
   "id": "bd0ba442",
   "metadata": {},
   "outputs": [],
   "source": [
    "temp['a']='java'"
   ]
  },
  {
   "cell_type": "code",
   "execution_count": 77,
   "id": "73c2c5b1",
   "metadata": {},
   "outputs": [
    {
     "data": {
      "text/plain": [
       "{'a': 'java', 'b': 2, 'c': 3, 'a1': 'python'}"
      ]
     },
     "execution_count": 77,
     "metadata": {},
     "output_type": "execute_result"
    }
   ],
   "source": [
    "temp"
   ]
  },
  {
   "cell_type": "code",
   "execution_count": 78,
   "id": "f9f0376e",
   "metadata": {},
   "outputs": [
    {
     "data": {
      "text/plain": [
       "{'a': 'java', 'b': 2, 'c': 3, 'a1': 'python'}"
      ]
     },
     "execution_count": 78,
     "metadata": {},
     "output_type": "execute_result"
    }
   ],
   "source": [
    "temp"
   ]
  },
  {
   "cell_type": "code",
   "execution_count": 79,
   "id": "34304bf2",
   "metadata": {},
   "outputs": [
    {
     "data": {
      "text/plain": [
       "{'a': 'java', 'b': 2, 'c': 3, 'a1': 'python'}"
      ]
     },
     "execution_count": 79,
     "metadata": {},
     "output_type": "execute_result"
    }
   ],
   "source": [
    "temp"
   ]
  },
  {
   "cell_type": "code",
   "execution_count": 80,
   "id": "3672649c",
   "metadata": {},
   "outputs": [
    {
     "data": {
      "text/plain": [
       "dict_keys(['a', 'b', 'c', 'a1'])"
      ]
     },
     "execution_count": 80,
     "metadata": {},
     "output_type": "execute_result"
    }
   ],
   "source": [
    "temp.keys()"
   ]
  },
  {
   "cell_type": "code",
   "execution_count": 81,
   "id": "37978b96",
   "metadata": {},
   "outputs": [
    {
     "data": {
      "text/plain": [
       "dict_values(['java', 2, 3, 'python'])"
      ]
     },
     "execution_count": 81,
     "metadata": {},
     "output_type": "execute_result"
    }
   ],
   "source": [
    "temp.values()"
   ]
  },
  {
   "cell_type": "code",
   "execution_count": 82,
   "id": "582d358b",
   "metadata": {},
   "outputs": [
    {
     "data": {
      "text/plain": [
       "dict_items([('a', 'java'), ('b', 2), ('c', 3), ('a1', 'python')])"
      ]
     },
     "execution_count": 82,
     "metadata": {},
     "output_type": "execute_result"
    }
   ],
   "source": [
    "temp.items()"
   ]
  },
  {
   "cell_type": "code",
   "execution_count": 83,
   "id": "e8b0920a",
   "metadata": {},
   "outputs": [
    {
     "data": {
      "text/plain": [
       "{'name': 'BMW',\n",
       " 'price': 900000,\n",
       " 'speed': 120,\n",
       " 'color': 'Red',\n",
       " 'variant': None,\n",
       " 'asd': 100,\n",
       " 'loc': 'mumbai',\n",
       " 'isanyaccident': False}"
      ]
     },
     "execution_count": 83,
     "metadata": {},
     "output_type": "execute_result"
    }
   ],
   "source": [
    "car_details"
   ]
  },
  {
   "cell_type": "code",
   "execution_count": 84,
   "id": "2f499598",
   "metadata": {},
   "outputs": [
    {
     "data": {
      "text/plain": [
       "dict_keys(['name', 'price', 'speed', 'color', 'variant', 'asd', 'loc', 'isanyaccident'])"
      ]
     },
     "execution_count": 84,
     "metadata": {},
     "output_type": "execute_result"
    }
   ],
   "source": [
    "car_details.keys()"
   ]
  },
  {
   "cell_type": "code",
   "execution_count": 85,
   "id": "730dadd8",
   "metadata": {},
   "outputs": [
    {
     "data": {
      "text/plain": [
       "dict_values(['BMW', 900000, 120, 'Red', None, 100, 'mumbai', False])"
      ]
     },
     "execution_count": 85,
     "metadata": {},
     "output_type": "execute_result"
    }
   ],
   "source": [
    "car_details.values()"
   ]
  },
  {
   "cell_type": "code",
   "execution_count": 86,
   "id": "344f8ea0",
   "metadata": {},
   "outputs": [
    {
     "data": {
      "text/plain": [
       "dict_items([('name', 'BMW'), ('price', 900000), ('speed', 120), ('color', 'Red'), ('variant', None), ('asd', 100), ('loc', 'mumbai'), ('isanyaccident', False)])"
      ]
     },
     "execution_count": 86,
     "metadata": {},
     "output_type": "execute_result"
    }
   ],
   "source": [
    "car_details.items()"
   ]
  },
  {
   "cell_type": "code",
   "execution_count": 87,
   "id": "a64dfdb4",
   "metadata": {},
   "outputs": [],
   "source": [
    "emp = {'name':'Josh','salary':45000,'location':'pune'}"
   ]
  },
  {
   "cell_type": "code",
   "execution_count": 88,
   "id": "45e017e6",
   "metadata": {},
   "outputs": [],
   "source": [
    "t1 = {'dept':'it','id':101}"
   ]
  },
  {
   "cell_type": "code",
   "execution_count": 89,
   "id": "46d2201a",
   "metadata": {},
   "outputs": [],
   "source": [
    "emp.update(t1)"
   ]
  },
  {
   "cell_type": "code",
   "execution_count": 90,
   "id": "723d151e",
   "metadata": {},
   "outputs": [
    {
     "data": {
      "text/plain": [
       "{'name': 'Josh', 'salary': 45000, 'location': 'pune', 'dept': 'it', 'id': 101}"
      ]
     },
     "execution_count": 90,
     "metadata": {},
     "output_type": "execute_result"
    }
   ],
   "source": [
    "emp"
   ]
  },
  {
   "cell_type": "code",
   "execution_count": 91,
   "id": "0f1fe103",
   "metadata": {},
   "outputs": [],
   "source": [
    "#update --->  mutiple key value pair for addition "
   ]
  },
  {
   "cell_type": "code",
   "execution_count": 92,
   "id": "658f00f2",
   "metadata": {},
   "outputs": [],
   "source": [
    "t3 = {'a':1,'b':2}"
   ]
  },
  {
   "cell_type": "code",
   "execution_count": 101,
   "id": "f8cf1f30",
   "metadata": {},
   "outputs": [
    {
     "ename": "TypeError",
     "evalue": "cannot convert dictionary update sequence element #0 to a sequence",
     "output_type": "error",
     "traceback": [
      "\u001b[1;31m---------------------------------------------------------------------------\u001b[0m",
      "\u001b[1;31mTypeError\u001b[0m                                 Traceback (most recent call last)",
      "\u001b[1;32m<ipython-input-101-15120c9a0dbd>\u001b[0m in \u001b[0;36m<module>\u001b[1;34m\u001b[0m\n\u001b[1;32m----> 1\u001b[1;33m \u001b[0memp\u001b[0m\u001b[1;33m.\u001b[0m\u001b[0mupdate\u001b[0m\u001b[1;33m(\u001b[0m\u001b[0mset\u001b[0m\u001b[1;33m(\u001b[0m\u001b[0mlist\u001b[0m\u001b[1;33m(\u001b[0m\u001b[0mcar_details\u001b[0m\u001b[1;33m.\u001b[0m\u001b[0mitems\u001b[0m\u001b[1;33m(\u001b[0m\u001b[1;33m)\u001b[0m\u001b[1;33m)\u001b[0m\u001b[1;33m[\u001b[0m\u001b[1;33m-\u001b[0m\u001b[1;36m1\u001b[0m\u001b[1;33m]\u001b[0m\u001b[1;33m)\u001b[0m\u001b[1;33m)\u001b[0m\u001b[1;33m\u001b[0m\u001b[1;33m\u001b[0m\u001b[0m\n\u001b[0m",
      "\u001b[1;31mTypeError\u001b[0m: cannot convert dictionary update sequence element #0 to a sequence"
     ]
    }
   ],
   "source": [
    "emp.update(set(list(car_details.items())[-))"
   ]
  },
  {
   "cell_type": "code",
   "execution_count": 100,
   "id": "ea4701bb",
   "metadata": {},
   "outputs": [
    {
     "data": {
      "text/plain": [
       "{'name': 'Josh',\n",
       " 'salary': 45000,\n",
       " 'location': 'pune',\n",
       " 'dept': 'it',\n",
       " 'id': 101,\n",
       " 'b': 2,\n",
       " 'a': 1}"
      ]
     },
     "execution_count": 100,
     "metadata": {},
     "output_type": "execute_result"
    }
   ],
   "source": [
    "emp"
   ]
  },
  {
   "cell_type": "code",
   "execution_count": 98,
   "id": "f099328a",
   "metadata": {},
   "outputs": [
    {
     "data": {
      "text/plain": [
       "{2, 'b'}"
      ]
     },
     "execution_count": 98,
     "metadata": {},
     "output_type": "execute_result"
    }
   ],
   "source": [
    "set(list(t3.items())[-1])"
   ]
  },
  {
   "cell_type": "code",
   "execution_count": 102,
   "id": "7546806a",
   "metadata": {},
   "outputs": [
    {
     "data": {
      "text/plain": [
       "{'name': 'Josh',\n",
       " 'salary': 45000,\n",
       " 'location': 'pune',\n",
       " 'dept': 'it',\n",
       " 'id': 101,\n",
       " 'b': 2,\n",
       " 'a': 1}"
      ]
     },
     "execution_count": 102,
     "metadata": {},
     "output_type": "execute_result"
    }
   ],
   "source": [
    "emp"
   ]
  },
  {
   "cell_type": "code",
   "execution_count": 106,
   "id": "ae729541",
   "metadata": {},
   "outputs": [
    {
     "data": {
      "text/plain": [
       "[('location', 'pune'), ('dept', 'it')]"
      ]
     },
     "execution_count": 106,
     "metadata": {},
     "output_type": "execute_result"
    }
   ],
   "source": [
    "list(emp.items())[2:4]"
   ]
  },
  {
   "cell_type": "code",
   "execution_count": 107,
   "id": "e0f36005",
   "metadata": {},
   "outputs": [
    {
     "data": {
      "text/plain": [
       "{'name': 'BMW',\n",
       " 'price': 900000,\n",
       " 'speed': 120,\n",
       " 'color': 'Red',\n",
       " 'variant': None,\n",
       " 'asd': 100,\n",
       " 'loc': 'mumbai',\n",
       " 'isanyaccident': False}"
      ]
     },
     "execution_count": 107,
     "metadata": {},
     "output_type": "execute_result"
    }
   ],
   "source": [
    "car_details"
   ]
  },
  {
   "cell_type": "code",
   "execution_count": 126,
   "id": "810003a1",
   "metadata": {},
   "outputs": [
    {
     "data": {
      "text/plain": [
       "{'id': 101}"
      ]
     },
     "execution_count": 126,
     "metadata": {},
     "output_type": "execute_result"
    }
   ],
   "source": [
    "{list(emp.items())[-3][0]:list(emp.items())[-3][1]}"
   ]
  },
  {
   "cell_type": "code",
   "execution_count": 115,
   "id": "135d8741",
   "metadata": {},
   "outputs": [
    {
     "data": {
      "text/plain": [
       "{'name': ['akash', 'jon', 'justin', 'hari', 'somesh'],\n",
       " 'salary': [45000],\n",
       " 'loc': ['pune', 'mumbai', 'delhi', 'chennai', 'pune']}"
      ]
     },
     "execution_count": 115,
     "metadata": {},
     "output_type": "execute_result"
    }
   ],
   "source": [
    "p"
   ]
  },
  {
   "cell_type": "code",
   "execution_count": 116,
   "id": "52b16898",
   "metadata": {},
   "outputs": [
    {
     "name": "stdout",
     "output_type": "stream",
     "text": [
      "['akash', 'jon', 'justin', 'hari', 'somesh']\n",
      "[45000]\n",
      "['pune', 'mumbai', 'delhi', 'chennai', 'pune']\n"
     ]
    }
   ],
   "source": [
    "for v in p.values():\n",
    "    print(v)"
   ]
  },
  {
   "cell_type": "code",
   "execution_count": 117,
   "id": "177da13b",
   "metadata": {},
   "outputs": [
    {
     "data": {
      "text/plain": [
       "dict_values([['akash', 'jon', 'justin', 'hari', 'somesh'], [45000], ['pune', 'mumbai', 'delhi', 'chennai', 'pune']])"
      ]
     },
     "execution_count": 117,
     "metadata": {},
     "output_type": "execute_result"
    }
   ],
   "source": [
    "p.values()"
   ]
  },
  {
   "cell_type": "code",
   "execution_count": 120,
   "id": "8d12b796",
   "metadata": {},
   "outputs": [
    {
     "data": {
      "text/plain": [
       "dict_values([['akash', 'jon', 'justin', 'hari', 'somesh'], [45000], ['pune', 'mumbai', 'delhi', 'chennai', 'pune']])"
      ]
     },
     "execution_count": 120,
     "metadata": {},
     "output_type": "execute_result"
    }
   ],
   "source": [
    "p.values()"
   ]
  },
  {
   "cell_type": "code",
   "execution_count": 121,
   "id": "64330ba2",
   "metadata": {},
   "outputs": [
    {
     "data": {
      "text/plain": [
       "dict_keys(['name', 'salary', 'loc'])"
      ]
     },
     "execution_count": 121,
     "metadata": {},
     "output_type": "execute_result"
    }
   ],
   "source": [
    "p.keys()"
   ]
  },
  {
   "cell_type": "code",
   "execution_count": 122,
   "id": "f3bc5083",
   "metadata": {},
   "outputs": [
    {
     "data": {
      "text/plain": [
       "dict_items([('name', ['akash', 'jon', 'justin', 'hari', 'somesh']), ('salary', [45000]), ('loc', ['pune', 'mumbai', 'delhi', 'chennai', 'pune'])])"
      ]
     },
     "execution_count": 122,
     "metadata": {},
     "output_type": "execute_result"
    }
   ],
   "source": [
    "p.items()"
   ]
  },
  {
   "cell_type": "code",
   "execution_count": 123,
   "id": "5bb4d4b4",
   "metadata": {},
   "outputs": [
    {
     "data": {
      "text/plain": [
       "{'a': 'java', 'b': 2, 'c': 3, 'a1': 'python'}"
      ]
     },
     "execution_count": 123,
     "metadata": {},
     "output_type": "execute_result"
    }
   ],
   "source": [
    "temp"
   ]
  },
  {
   "cell_type": "code",
   "execution_count": 127,
   "id": "c00e7556",
   "metadata": {},
   "outputs": [],
   "source": [
    "temp.update({list(emp.items())[-3][0]:list(emp.items())[-3][1]})"
   ]
  },
  {
   "cell_type": "code",
   "execution_count": 128,
   "id": "de226e36",
   "metadata": {},
   "outputs": [
    {
     "data": {
      "text/plain": [
       "{'a': 'java', 'b': 2, 'c': 3, 'a1': 'python', 'id': 101}"
      ]
     },
     "execution_count": 128,
     "metadata": {},
     "output_type": "execute_result"
    }
   ],
   "source": [
    "temp"
   ]
  },
  {
   "cell_type": "code",
   "execution_count": 129,
   "id": "2c82f7b2",
   "metadata": {},
   "outputs": [
    {
     "data": {
      "text/plain": [
       "{'name': 'Josh',\n",
       " 'salary': 45000,\n",
       " 'location': 'pune',\n",
       " 'dept': 'it',\n",
       " 'id': 101,\n",
       " 'b': 2,\n",
       " 'a': 1}"
      ]
     },
     "execution_count": 129,
     "metadata": {},
     "output_type": "execute_result"
    }
   ],
   "source": [
    "emp"
   ]
  },
  {
   "cell_type": "code",
   "execution_count": 130,
   "id": "f767f926",
   "metadata": {},
   "outputs": [
    {
     "data": {
      "text/plain": [
       "dict_keys(['name', 'salary', 'location', 'dept', 'id', 'b', 'a'])"
      ]
     },
     "execution_count": 130,
     "metadata": {},
     "output_type": "execute_result"
    }
   ],
   "source": [
    "emp.keys()"
   ]
  },
  {
   "cell_type": "code",
   "execution_count": 131,
   "id": "7b4b4f51",
   "metadata": {},
   "outputs": [
    {
     "data": {
      "text/plain": [
       "dict_values(['Josh', 45000, 'pune', 'it', 101, 2, 1])"
      ]
     },
     "execution_count": 131,
     "metadata": {},
     "output_type": "execute_result"
    }
   ],
   "source": [
    "emp.values()"
   ]
  },
  {
   "cell_type": "code",
   "execution_count": 132,
   "id": "239ac1ad",
   "metadata": {},
   "outputs": [
    {
     "data": {
      "text/plain": [
       "dict_items([('name', 'Josh'), ('salary', 45000), ('location', 'pune'), ('dept', 'it'), ('id', 101), ('b', 2), ('a', 1)])"
      ]
     },
     "execution_count": 132,
     "metadata": {},
     "output_type": "execute_result"
    }
   ],
   "source": [
    "emp.items()"
   ]
  },
  {
   "cell_type": "code",
   "execution_count": 133,
   "id": "80f6111e",
   "metadata": {},
   "outputs": [
    {
     "data": {
      "text/plain": [
       "{'a': 'java', 'b': 2, 'c': 3, 'a1': 'python', 'id': 101}"
      ]
     },
     "execution_count": 133,
     "metadata": {},
     "output_type": "execute_result"
    }
   ],
   "source": [
    "temp"
   ]
  },
  {
   "cell_type": "code",
   "execution_count": 134,
   "id": "cd11b065",
   "metadata": {},
   "outputs": [],
   "source": [
    "temp1 = temp.copy()"
   ]
  },
  {
   "cell_type": "code",
   "execution_count": 135,
   "id": "f76190ce",
   "metadata": {},
   "outputs": [
    {
     "data": {
      "text/plain": [
       "{'a': 'java', 'b': 2, 'c': 3, 'a1': 'python', 'id': 101}"
      ]
     },
     "execution_count": 135,
     "metadata": {},
     "output_type": "execute_result"
    }
   ],
   "source": [
    "temp1"
   ]
  },
  {
   "cell_type": "code",
   "execution_count": 136,
   "id": "43962932",
   "metadata": {},
   "outputs": [
    {
     "data": {
      "text/plain": [
       "{'a': 'java', 'b': 2, 'c': 3, 'a1': 'python', 'id': 101}"
      ]
     },
     "execution_count": 136,
     "metadata": {},
     "output_type": "execute_result"
    }
   ],
   "source": [
    "temp"
   ]
  },
  {
   "cell_type": "code",
   "execution_count": 145,
   "id": "7be7717c",
   "metadata": {},
   "outputs": [],
   "source": [
    "n = temp.copy()"
   ]
  },
  {
   "cell_type": "code",
   "execution_count": 146,
   "id": "1f586714",
   "metadata": {},
   "outputs": [
    {
     "data": {
      "text/plain": [
       "{'a': 'java', 'b': 2, 'c': 3, 'a1': 'python', 'id': 101}"
      ]
     },
     "execution_count": 146,
     "metadata": {},
     "output_type": "execute_result"
    }
   ],
   "source": [
    "n"
   ]
  },
  {
   "cell_type": "code",
   "execution_count": 139,
   "id": "7a323836",
   "metadata": {},
   "outputs": [],
   "source": [
    "#we want to dict but dont have values"
   ]
  },
  {
   "cell_type": "code",
   "execution_count": 147,
   "id": "a6da8261",
   "metadata": {},
   "outputs": [],
   "source": [
    "k = ('name','salary','loc','id')"
   ]
  },
  {
   "cell_type": "code",
   "execution_count": 148,
   "id": "0998aded",
   "metadata": {},
   "outputs": [],
   "source": [
    "d = dict.fromkeys(key,0)"
   ]
  },
  {
   "cell_type": "code",
   "execution_count": 149,
   "id": "d4b89a11",
   "metadata": {},
   "outputs": [
    {
     "data": {
      "text/plain": [
       "{'name': 0, 'salary': 0, 'loc': 0, 'id': 0}"
      ]
     },
     "execution_count": 149,
     "metadata": {},
     "output_type": "execute_result"
    }
   ],
   "source": [
    "d"
   ]
  },
  {
   "cell_type": "code",
   "execution_count": 150,
   "id": "81548770",
   "metadata": {},
   "outputs": [],
   "source": [
    "t = ('python','java','c','c++')"
   ]
  },
  {
   "cell_type": "code",
   "execution_count": 153,
   "id": "5387ec13",
   "metadata": {},
   "outputs": [],
   "source": [
    "t = dict.fromkeys(t,'no data')"
   ]
  },
  {
   "cell_type": "code",
   "execution_count": 154,
   "id": "3830abdc",
   "metadata": {},
   "outputs": [
    {
     "data": {
      "text/plain": [
       "{'python': 'no data', 'java': 'no data', 'c': 'no data', 'c++': 'no data'}"
      ]
     },
     "execution_count": 154,
     "metadata": {},
     "output_type": "execute_result"
    }
   ],
   "source": [
    "t1"
   ]
  },
  {
   "cell_type": "code",
   "execution_count": 155,
   "id": "db44ece9",
   "metadata": {},
   "outputs": [
    {
     "data": {
      "text/plain": [
       "{'python': 'no data', 'java': 'no data', 'c': 'no data', 'c++': 'no data'}"
      ]
     },
     "execution_count": 155,
     "metadata": {},
     "output_type": "execute_result"
    }
   ],
   "source": [
    "t"
   ]
  },
  {
   "cell_type": "code",
   "execution_count": 156,
   "id": "81b7e47c",
   "metadata": {},
   "outputs": [],
   "source": [
    "t['hadoop']=None"
   ]
  },
  {
   "cell_type": "code",
   "execution_count": 157,
   "id": "a74c37cc",
   "metadata": {},
   "outputs": [
    {
     "data": {
      "text/plain": [
       "{'python': 'no data',\n",
       " 'java': 'no data',\n",
       " 'c': 'no data',\n",
       " 'c++': 'no data',\n",
       " 'hadoop': None}"
      ]
     },
     "execution_count": 157,
     "metadata": {},
     "output_type": "execute_result"
    }
   ],
   "source": [
    "t"
   ]
  },
  {
   "cell_type": "code",
   "execution_count": 158,
   "id": "1d5ef29b",
   "metadata": {},
   "outputs": [],
   "source": [
    "t['python']='ML'"
   ]
  },
  {
   "cell_type": "code",
   "execution_count": 159,
   "id": "e211a6cf",
   "metadata": {},
   "outputs": [
    {
     "data": {
      "text/plain": [
       "{'python': 'ML',\n",
       " 'java': 'no data',\n",
       " 'c': 'no data',\n",
       " 'c++': 'no data',\n",
       " 'hadoop': None}"
      ]
     },
     "execution_count": 159,
     "metadata": {},
     "output_type": "execute_result"
    }
   ],
   "source": [
    "t"
   ]
  },
  {
   "cell_type": "code",
   "execution_count": 162,
   "id": "01c59c39",
   "metadata": {},
   "outputs": [],
   "source": [
    "md = dict.fromkeys(['name','address','salary'])"
   ]
  },
  {
   "cell_type": "code",
   "execution_count": 163,
   "id": "03f5bf1d",
   "metadata": {},
   "outputs": [
    {
     "data": {
      "text/plain": [
       "{'name': None, 'address': None, 'salary': None}"
      ]
     },
     "execution_count": 163,
     "metadata": {},
     "output_type": "execute_result"
    }
   ],
   "source": [
    "md"
   ]
  },
  {
   "cell_type": "code",
   "execution_count": 164,
   "id": "82642df1",
   "metadata": {},
   "outputs": [],
   "source": [
    "#how to create dict\n",
    "#how to add items in dict\n",
    "#how to fetch items/values from dict"
   ]
  },
  {
   "cell_type": "code",
   "execution_count": 165,
   "id": "c385a895",
   "metadata": {},
   "outputs": [],
   "source": [
    "d = {'name':'Gold','qty':100,'purity':23}"
   ]
  },
  {
   "cell_type": "code",
   "execution_count": 166,
   "id": "9b327b32",
   "metadata": {},
   "outputs": [],
   "source": [
    "#if we have items --->key:value -- "
   ]
  },
  {
   "cell_type": "code",
   "execution_count": 167,
   "id": "d1b42345",
   "metadata": {},
   "outputs": [],
   "source": [
    "dm = {}"
   ]
  },
  {
   "cell_type": "code",
   "execution_count": 168,
   "id": "1141d433",
   "metadata": {},
   "outputs": [
    {
     "data": {
      "text/plain": [
       "dict"
      ]
     },
     "execution_count": 168,
     "metadata": {},
     "output_type": "execute_result"
    }
   ],
   "source": [
    "type(dm)"
   ]
  },
  {
   "cell_type": "code",
   "execution_count": 169,
   "id": "f6d80143",
   "metadata": {},
   "outputs": [],
   "source": [
    "dm['loc'] = 'pune'"
   ]
  },
  {
   "cell_type": "code",
   "execution_count": 171,
   "id": "cb7f409d",
   "metadata": {},
   "outputs": [
    {
     "data": {
      "text/plain": [
       "{'loc': 'pune'}"
      ]
     },
     "execution_count": 171,
     "metadata": {},
     "output_type": "execute_result"
    }
   ],
   "source": [
    "dm"
   ]
  },
  {
   "cell_type": "code",
   "execution_count": 172,
   "id": "e62e7cbb",
   "metadata": {},
   "outputs": [],
   "source": [
    "dm['sales'] = 1000"
   ]
  },
  {
   "cell_type": "code",
   "execution_count": 173,
   "id": "94ef070b",
   "metadata": {},
   "outputs": [
    {
     "data": {
      "text/plain": [
       "{'loc': 'pune', 'sales': 1000}"
      ]
     },
     "execution_count": 173,
     "metadata": {},
     "output_type": "execute_result"
    }
   ],
   "source": [
    "dm"
   ]
  },
  {
   "cell_type": "code",
   "execution_count": 174,
   "id": "fe208ed1",
   "metadata": {},
   "outputs": [
    {
     "data": {
      "text/plain": [
       "{'name': 'Gold', 'qty': 100, 'purity': 23}"
      ]
     },
     "execution_count": 174,
     "metadata": {},
     "output_type": "execute_result"
    }
   ],
   "source": [
    "d"
   ]
  },
  {
   "cell_type": "code",
   "execution_count": 175,
   "id": "19817f24",
   "metadata": {},
   "outputs": [],
   "source": [
    "d.update(dm)"
   ]
  },
  {
   "cell_type": "code",
   "execution_count": 176,
   "id": "716b1bac",
   "metadata": {},
   "outputs": [
    {
     "data": {
      "text/plain": [
       "{'name': 'Gold', 'qty': 100, 'purity': 23, 'loc': 'pune', 'sales': 1000}"
      ]
     },
     "execution_count": 176,
     "metadata": {},
     "output_type": "execute_result"
    }
   ],
   "source": [
    "d"
   ]
  },
  {
   "cell_type": "code",
   "execution_count": 177,
   "id": "ce0de96a",
   "metadata": {},
   "outputs": [
    {
     "data": {
      "text/plain": [
       "{'name': 'Gold', 'qty': 100, 'purity': 23, 'loc': 'pune', 'sales': 1000}"
      ]
     },
     "execution_count": 177,
     "metadata": {},
     "output_type": "execute_result"
    }
   ],
   "source": [
    "d"
   ]
  },
  {
   "cell_type": "code",
   "execution_count": 178,
   "id": "ec146a89",
   "metadata": {},
   "outputs": [
    {
     "data": {
      "text/plain": [
       "'pune'"
      ]
     },
     "execution_count": 178,
     "metadata": {},
     "output_type": "execute_result"
    }
   ],
   "source": [
    "d['loc']"
   ]
  },
  {
   "cell_type": "code",
   "execution_count": 179,
   "id": "ff690642",
   "metadata": {},
   "outputs": [],
   "source": [
    "#how to delete items from dict"
   ]
  },
  {
   "cell_type": "code",
   "execution_count": 180,
   "id": "a9891bb2",
   "metadata": {},
   "outputs": [],
   "source": [
    "#pop\n",
    "#popitem"
   ]
  },
  {
   "cell_type": "code",
   "execution_count": 181,
   "id": "68c28f3b",
   "metadata": {},
   "outputs": [
    {
     "data": {
      "text/plain": [
       "1000"
      ]
     },
     "execution_count": 181,
     "metadata": {},
     "output_type": "execute_result"
    }
   ],
   "source": [
    "d.pop('sales')"
   ]
  },
  {
   "cell_type": "code",
   "execution_count": 182,
   "id": "63582c94",
   "metadata": {},
   "outputs": [
    {
     "data": {
      "text/plain": [
       "{'name': 'Gold', 'qty': 100, 'purity': 23, 'loc': 'pune'}"
      ]
     },
     "execution_count": 182,
     "metadata": {},
     "output_type": "execute_result"
    }
   ],
   "source": [
    "d"
   ]
  },
  {
   "cell_type": "code",
   "execution_count": 183,
   "id": "201de7ad",
   "metadata": {},
   "outputs": [],
   "source": [
    "d['sales'] = [100,200,300,400,500]"
   ]
  },
  {
   "cell_type": "code",
   "execution_count": 184,
   "id": "2fbf8c01",
   "metadata": {},
   "outputs": [
    {
     "data": {
      "text/plain": [
       "{'name': 'Gold',\n",
       " 'qty': 100,\n",
       " 'purity': 23,\n",
       " 'loc': 'pune',\n",
       " 'sales': [100, 200, 300, 400, 500]}"
      ]
     },
     "execution_count": 184,
     "metadata": {},
     "output_type": "execute_result"
    }
   ],
   "source": [
    "d"
   ]
  },
  {
   "cell_type": "code",
   "execution_count": 186,
   "id": "85d47d14",
   "metadata": {},
   "outputs": [],
   "source": [
    "d['sales'].remove(300)"
   ]
  },
  {
   "cell_type": "code",
   "execution_count": 187,
   "id": "a2a33aef",
   "metadata": {},
   "outputs": [
    {
     "data": {
      "text/plain": [
       "{'name': 'Gold',\n",
       " 'qty': 100,\n",
       " 'purity': 23,\n",
       " 'loc': 'pune',\n",
       " 'sales': [100, 200, 400, 500]}"
      ]
     },
     "execution_count": 187,
     "metadata": {},
     "output_type": "execute_result"
    }
   ],
   "source": [
    "d"
   ]
  },
  {
   "cell_type": "code",
   "execution_count": null,
   "id": "1191e47e",
   "metadata": {},
   "outputs": [],
   "source": [
    "key:value -- total delete"
   ]
  },
  {
   "cell_type": "code",
   "execution_count": 188,
   "id": "acd40290",
   "metadata": {},
   "outputs": [
    {
     "data": {
      "text/plain": [
       "[100, 200, 400, 500]"
      ]
     },
     "execution_count": 188,
     "metadata": {},
     "output_type": "execute_result"
    }
   ],
   "source": [
    "d.pop('sales')"
   ]
  },
  {
   "cell_type": "code",
   "execution_count": 189,
   "id": "1ef2b10c",
   "metadata": {},
   "outputs": [
    {
     "data": {
      "text/plain": [
       "{'name': 'Gold', 'qty': 100, 'purity': 23, 'loc': 'pune'}"
      ]
     },
     "execution_count": 189,
     "metadata": {},
     "output_type": "execute_result"
    }
   ],
   "source": [
    "d"
   ]
  },
  {
   "cell_type": "code",
   "execution_count": 190,
   "id": "47b0d3c3",
   "metadata": {},
   "outputs": [
    {
     "data": {
      "text/plain": [
       "{'name': 'Gold', 'qty': 100, 'purity': 23, 'loc': 'pune'}"
      ]
     },
     "execution_count": 190,
     "metadata": {},
     "output_type": "execute_result"
    }
   ],
   "source": [
    "d"
   ]
  },
  {
   "cell_type": "code",
   "execution_count": 191,
   "id": "c0fea7f8",
   "metadata": {},
   "outputs": [],
   "source": [
    "d = {'name': ['Gold','silver'], 'qty': [100,200], 'purity': [23,24], 'loc': ['pune','mumbai']}"
   ]
  },
  {
   "cell_type": "code",
   "execution_count": 192,
   "id": "81dda018",
   "metadata": {},
   "outputs": [
    {
     "data": {
      "text/plain": [
       "{'name': ['Gold', 'silver'],\n",
       " 'qty': [100, 200],\n",
       " 'purity': [23, 24],\n",
       " 'loc': ['pune', 'mumbai']}"
      ]
     },
     "execution_count": 192,
     "metadata": {},
     "output_type": "execute_result"
    }
   ],
   "source": [
    "d"
   ]
  },
  {
   "cell_type": "code",
   "execution_count": 193,
   "id": "672ef55d",
   "metadata": {},
   "outputs": [],
   "source": [
    "import pandas as pd"
   ]
  },
  {
   "cell_type": "code",
   "execution_count": 194,
   "id": "05317104",
   "metadata": {},
   "outputs": [],
   "source": [
    "df = pd.DataFrame(d)"
   ]
  },
  {
   "cell_type": "code",
   "execution_count": 198,
   "id": "927d02b7",
   "metadata": {},
   "outputs": [
    {
     "data": {
      "text/html": [
       "<div>\n",
       "<style scoped>\n",
       "    .dataframe tbody tr th:only-of-type {\n",
       "        vertical-align: middle;\n",
       "    }\n",
       "\n",
       "    .dataframe tbody tr th {\n",
       "        vertical-align: top;\n",
       "    }\n",
       "\n",
       "    .dataframe thead th {\n",
       "        text-align: right;\n",
       "    }\n",
       "</style>\n",
       "<table border=\"1\" class=\"dataframe\">\n",
       "  <thead>\n",
       "    <tr style=\"text-align: right;\">\n",
       "      <th></th>\n",
       "      <th>name</th>\n",
       "      <th>qty</th>\n",
       "      <th>purity</th>\n",
       "      <th>loc</th>\n",
       "    </tr>\n",
       "  </thead>\n",
       "  <tbody>\n",
       "    <tr>\n",
       "      <th>0</th>\n",
       "      <td>Gold</td>\n",
       "      <td>100</td>\n",
       "      <td>23</td>\n",
       "      <td>pune</td>\n",
       "    </tr>\n",
       "  </tbody>\n",
       "</table>\n",
       "</div>"
      ],
      "text/plain": [
       "   name  qty  purity   loc\n",
       "0  Gold  100      23  pune"
      ]
     },
     "execution_count": 198,
     "metadata": {},
     "output_type": "execute_result"
    }
   ],
   "source": [
    "df.iloc[0:1]"
   ]
  },
  {
   "cell_type": "code",
   "execution_count": 199,
   "id": "fff974b3",
   "metadata": {},
   "outputs": [
    {
     "data": {
      "text/plain": [
       "{'name': ['Gold', 'silver'],\n",
       " 'qty': [100, 200],\n",
       " 'purity': [23, 24],\n",
       " 'loc': ['pune', 'mumbai']}"
      ]
     },
     "execution_count": 199,
     "metadata": {},
     "output_type": "execute_result"
    }
   ],
   "source": [
    "d"
   ]
  },
  {
   "cell_type": "code",
   "execution_count": 211,
   "id": "5f657e28",
   "metadata": {},
   "outputs": [
    {
     "name": "stdout",
     "output_type": "stream",
     "text": [
      "silver\n",
      "200\n",
      "24\n",
      "mumbai\n"
     ]
    }
   ],
   "source": [
    "for k in d.keys():\n",
    "    print(d[k].pop(-1))"
   ]
  },
  {
   "cell_type": "code",
   "execution_count": 204,
   "id": "a8d0ffbc",
   "metadata": {},
   "outputs": [
    {
     "data": {
      "text/plain": [
       "['Gold', 'silver']"
      ]
     },
     "execution_count": 204,
     "metadata": {},
     "output_type": "execute_result"
    }
   ],
   "source": [
    "d['name']"
   ]
  },
  {
   "cell_type": "code",
   "execution_count": 212,
   "id": "b3fbc4c6",
   "metadata": {},
   "outputs": [
    {
     "data": {
      "text/plain": [
       "{'name': ['Gold'], 'qty': [100], 'purity': [23], 'loc': ['pune']}"
      ]
     },
     "execution_count": 212,
     "metadata": {},
     "output_type": "execute_result"
    }
   ],
   "source": [
    "d"
   ]
  },
  {
   "cell_type": "code",
   "execution_count": 213,
   "id": "7e82e344",
   "metadata": {},
   "outputs": [
    {
     "data": {
      "text/plain": [
       "{'name': ['Gold'], 'qty': [100], 'purity': [23], 'loc': ['pune']}"
      ]
     },
     "execution_count": 213,
     "metadata": {},
     "output_type": "execute_result"
    }
   ],
   "source": [
    "d"
   ]
  },
  {
   "cell_type": "code",
   "execution_count": 214,
   "id": "1ac9afbc",
   "metadata": {},
   "outputs": [],
   "source": [
    "d = {'id':101,'sales':[100,300],'Product':'Metals','loc':'mumbai'}"
   ]
  },
  {
   "cell_type": "code",
   "execution_count": 215,
   "id": "2903b532",
   "metadata": {},
   "outputs": [],
   "source": [
    "#pop\n",
    "#popitem"
   ]
  },
  {
   "cell_type": "code",
   "execution_count": 219,
   "id": "348ece8c",
   "metadata": {},
   "outputs": [
    {
     "data": {
      "text/plain": [
       "'Metals'"
      ]
     },
     "execution_count": 219,
     "metadata": {},
     "output_type": "execute_result"
    }
   ],
   "source": [
    "d.pop('Product')"
   ]
  },
  {
   "cell_type": "code",
   "execution_count": 220,
   "id": "c8037dae",
   "metadata": {},
   "outputs": [
    {
     "data": {
      "text/plain": [
       "{'id': 101, 'sales': [100, 300], 'loc': 'mumbai'}"
      ]
     },
     "execution_count": 220,
     "metadata": {},
     "output_type": "execute_result"
    }
   ],
   "source": [
    "d"
   ]
  },
  {
   "cell_type": "code",
   "execution_count": 221,
   "id": "5fbb136c",
   "metadata": {},
   "outputs": [],
   "source": [
    "p = [1,2,3,4,5]"
   ]
  },
  {
   "cell_type": "code",
   "execution_count": 222,
   "id": "cd10210e",
   "metadata": {},
   "outputs": [
    {
     "data": {
      "text/plain": [
       "3"
      ]
     },
     "execution_count": 222,
     "metadata": {},
     "output_type": "execute_result"
    }
   ],
   "source": [
    "p.pop(2)"
   ]
  },
  {
   "cell_type": "code",
   "execution_count": 223,
   "id": "9c20690d",
   "metadata": {},
   "outputs": [
    {
     "data": {
      "text/plain": [
       "[1, 2, 4, 5]"
      ]
     },
     "execution_count": 223,
     "metadata": {},
     "output_type": "execute_result"
    }
   ],
   "source": [
    "p"
   ]
  },
  {
   "cell_type": "code",
   "execution_count": 224,
   "id": "4f2de2db",
   "metadata": {},
   "outputs": [
    {
     "data": {
      "text/plain": [
       "{'id': 101, 'sales': [100, 300], 'loc': 'mumbai'}"
      ]
     },
     "execution_count": 224,
     "metadata": {},
     "output_type": "execute_result"
    }
   ],
   "source": [
    "d"
   ]
  },
  {
   "cell_type": "code",
   "execution_count": 225,
   "id": "b96f3a06",
   "metadata": {},
   "outputs": [
    {
     "data": {
      "text/plain": [
       "101"
      ]
     },
     "execution_count": 225,
     "metadata": {},
     "output_type": "execute_result"
    }
   ],
   "source": [
    "d.pop('id')"
   ]
  },
  {
   "cell_type": "code",
   "execution_count": 226,
   "id": "649007d4",
   "metadata": {},
   "outputs": [
    {
     "data": {
      "text/plain": [
       "[1, 2, 4, 5]"
      ]
     },
     "execution_count": 226,
     "metadata": {},
     "output_type": "execute_result"
    }
   ],
   "source": [
    "p"
   ]
  },
  {
   "cell_type": "code",
   "execution_count": 227,
   "id": "d0a123c3",
   "metadata": {},
   "outputs": [
    {
     "data": {
      "text/plain": [
       "{'sales': [100, 300], 'loc': 'mumbai'}"
      ]
     },
     "execution_count": 227,
     "metadata": {},
     "output_type": "execute_result"
    }
   ],
   "source": [
    "d"
   ]
  },
  {
   "cell_type": "code",
   "execution_count": 228,
   "id": "2b1f14af",
   "metadata": {},
   "outputs": [
    {
     "data": {
      "text/plain": [
       "{'sales': [100, 300], 'loc': 'mumbai'}"
      ]
     },
     "execution_count": 228,
     "metadata": {},
     "output_type": "execute_result"
    }
   ],
   "source": [
    "d"
   ]
  },
  {
   "cell_type": "code",
   "execution_count": 231,
   "id": "d55662a8",
   "metadata": {},
   "outputs": [
    {
     "data": {
      "text/plain": [
       "'pune'"
      ]
     },
     "execution_count": 231,
     "metadata": {},
     "output_type": "execute_result"
    }
   ],
   "source": [
    "d.setdefault('prod_loc','pune')"
   ]
  },
  {
   "cell_type": "code",
   "execution_count": 232,
   "id": "1b39dcdd",
   "metadata": {},
   "outputs": [
    {
     "data": {
      "text/plain": [
       "{'sales': [100, 300], 'loc': 'mumbai', 'prod_loc': 'pune'}"
      ]
     },
     "execution_count": 232,
     "metadata": {},
     "output_type": "execute_result"
    }
   ],
   "source": [
    "d"
   ]
  },
  {
   "cell_type": "code",
   "execution_count": 233,
   "id": "65edf8ea",
   "metadata": {},
   "outputs": [],
   "source": [
    "#if key already present then do nothing if not then insert key:value pair"
   ]
  },
  {
   "cell_type": "code",
   "execution_count": 234,
   "id": "a8efff48",
   "metadata": {},
   "outputs": [],
   "source": [
    "#Trading --->"
   ]
  },
  {
   "cell_type": "code",
   "execution_count": 235,
   "id": "afa27958",
   "metadata": {},
   "outputs": [],
   "source": [
    "prod_details ={\n",
    "    'gold':{'sales':100,'loc':'USA','Trade':100},\n",
    "    'silver':{'sales':200,'loc':'UK','Trade':2000}\n",
    "}"
   ]
  },
  {
   "cell_type": "code",
   "execution_count": 238,
   "id": "39dce013",
   "metadata": {},
   "outputs": [
    {
     "data": {
      "text/plain": [
       "{'sales': 100, 'loc': 'pune'}"
      ]
     },
     "execution_count": 238,
     "metadata": {},
     "output_type": "execute_result"
    }
   ],
   "source": [
    "prod_details.setdefault('gold123',{'sales':100,'loc':'pune'})"
   ]
  },
  {
   "cell_type": "code",
   "execution_count": 239,
   "id": "f52bcb5a",
   "metadata": {},
   "outputs": [
    {
     "data": {
      "text/plain": [
       "{'gold': {'sales': 100, 'loc': 'USA', 'Trade': 100},\n",
       " 'silver': {'sales': 200, 'loc': 'UK', 'Trade': 2000},\n",
       " 'gold123': {'sales': 100, 'loc': 'pune'}}"
      ]
     },
     "execution_count": 239,
     "metadata": {},
     "output_type": "execute_result"
    }
   ],
   "source": [
    "prod_details"
   ]
  },
  {
   "cell_type": "code",
   "execution_count": 241,
   "id": "9cd9f248",
   "metadata": {},
   "outputs": [],
   "source": [
    "prod_details['gold']  = {'sales': 100, 'loc': 'UK', 'Trade': 100}"
   ]
  },
  {
   "cell_type": "code",
   "execution_count": 242,
   "id": "0da44d78",
   "metadata": {},
   "outputs": [
    {
     "data": {
      "text/plain": [
       "{'gold': {'sales': 100, 'loc': 'UK', 'Trade': 100},\n",
       " 'silver': {'sales': 200, 'loc': 'UK', 'Trade': 2000},\n",
       " 'gold123': {'sales': 100, 'loc': 'pune'}}"
      ]
     },
     "execution_count": 242,
     "metadata": {},
     "output_type": "execute_result"
    }
   ],
   "source": [
    "prod_details"
   ]
  },
  {
   "cell_type": "code",
   "execution_count": null,
   "id": "856a3f17",
   "metadata": {},
   "outputs": [],
   "source": [
    "Engineer = Client requirement"
   ]
  },
  {
   "cell_type": "code",
   "execution_count": null,
   "id": "7bbee1ae",
   "metadata": {},
   "outputs": [],
   "source": []
  },
  {
   "cell_type": "code",
   "execution_count": 246,
   "id": "b9d50029",
   "metadata": {},
   "outputs": [
    {
     "data": {
      "text/plain": [
       "'dsfds'"
      ]
     },
     "execution_count": 246,
     "metadata": {},
     "output_type": "execute_result"
    }
   ],
   "source": [
    "prod_details.setdefault('gold34343','dsfds')"
   ]
  },
  {
   "cell_type": "code",
   "execution_count": 247,
   "id": "f6f2202f",
   "metadata": {},
   "outputs": [
    {
     "data": {
      "text/plain": [
       "{'gold': {'sales': 100, 'loc': 'UK', 'Trade': 100},\n",
       " 'silver': {'sales': 200, 'loc': 'UK', 'Trade': 2000},\n",
       " 'gold123': {'sales': 100, 'loc': 'pune'},\n",
       " 'gold34343': 'dsfds'}"
      ]
     },
     "execution_count": 247,
     "metadata": {},
     "output_type": "execute_result"
    }
   ],
   "source": [
    "prod_details"
   ]
  },
  {
   "cell_type": "code",
   "execution_count": 248,
   "id": "2bc5b129",
   "metadata": {},
   "outputs": [
    {
     "data": {
      "text/plain": [
       "{'gold': {'sales': 100, 'loc': 'UK', 'Trade': 100},\n",
       " 'silver': {'sales': 200, 'loc': 'UK', 'Trade': 2000},\n",
       " 'gold123': {'sales': 100, 'loc': 'pune'},\n",
       " 'gold34343': 'dsfds'}"
      ]
     },
     "execution_count": 248,
     "metadata": {},
     "output_type": "execute_result"
    }
   ],
   "source": [
    "prod_details"
   ]
  },
  {
   "cell_type": "code",
   "execution_count": 249,
   "id": "c5a367ed",
   "metadata": {},
   "outputs": [],
   "source": [
    "d = {'a':1,'b':2}"
   ]
  },
  {
   "cell_type": "code",
   "execution_count": 250,
   "id": "5c4d4977",
   "metadata": {},
   "outputs": [
    {
     "data": {
      "text/plain": [
       "{'a': 1, 'b': 2}"
      ]
     },
     "execution_count": 250,
     "metadata": {},
     "output_type": "execute_result"
    }
   ],
   "source": [
    "d"
   ]
  },
  {
   "cell_type": "code",
   "execution_count": 251,
   "id": "00dbf9ed",
   "metadata": {},
   "outputs": [
    {
     "data": {
      "text/plain": [
       "('b', 2)"
      ]
     },
     "execution_count": 251,
     "metadata": {},
     "output_type": "execute_result"
    }
   ],
   "source": [
    "d.popitem()"
   ]
  },
  {
   "cell_type": "code",
   "execution_count": 253,
   "id": "20337309",
   "metadata": {},
   "outputs": [
    {
     "data": {
      "text/plain": [
       "('gold34343', 'dsfds')"
      ]
     },
     "execution_count": 253,
     "metadata": {},
     "output_type": "execute_result"
    }
   ],
   "source": [
    "prod_details.popitem()"
   ]
  },
  {
   "cell_type": "code",
   "execution_count": 254,
   "id": "5932d9e6",
   "metadata": {},
   "outputs": [
    {
     "data": {
      "text/plain": [
       "{'gold': {'sales': 100, 'loc': 'UK', 'Trade': 100},\n",
       " 'silver': {'sales': 200, 'loc': 'UK', 'Trade': 2000},\n",
       " 'gold123': {'sales': 100, 'loc': 'pune'}}"
      ]
     },
     "execution_count": 254,
     "metadata": {},
     "output_type": "execute_result"
    }
   ],
   "source": [
    "prod_details"
   ]
  },
  {
   "cell_type": "code",
   "execution_count": 255,
   "id": "afd0d5d6",
   "metadata": {},
   "outputs": [
    {
     "data": {
      "text/plain": [
       "('gold123', {'sales': 100, 'loc': 'pune'})"
      ]
     },
     "execution_count": 255,
     "metadata": {},
     "output_type": "execute_result"
    }
   ],
   "source": [
    "prod_details.popitem()"
   ]
  },
  {
   "cell_type": "code",
   "execution_count": 256,
   "id": "02a89956",
   "metadata": {},
   "outputs": [
    {
     "data": {
      "text/plain": [
       "{'gold': {'sales': 100, 'loc': 'UK', 'Trade': 100},\n",
       " 'silver': {'sales': 200, 'loc': 'UK', 'Trade': 2000}}"
      ]
     },
     "execution_count": 256,
     "metadata": {},
     "output_type": "execute_result"
    }
   ],
   "source": [
    "prod_details"
   ]
  },
  {
   "cell_type": "code",
   "execution_count": 257,
   "id": "3bcb87bd",
   "metadata": {},
   "outputs": [],
   "source": [
    "prod_details['metal'] = '100'"
   ]
  },
  {
   "cell_type": "code",
   "execution_count": 258,
   "id": "b06e99d3",
   "metadata": {},
   "outputs": [
    {
     "data": {
      "text/plain": [
       "{'gold': {'sales': 100, 'loc': 'UK', 'Trade': 100},\n",
       " 'silver': {'sales': 200, 'loc': 'UK', 'Trade': 2000},\n",
       " 'metal': '100'}"
      ]
     },
     "execution_count": 258,
     "metadata": {},
     "output_type": "execute_result"
    }
   ],
   "source": [
    "prod_details"
   ]
  },
  {
   "cell_type": "code",
   "execution_count": null,
   "id": "915222b6",
   "metadata": {},
   "outputs": [],
   "source": []
  },
  {
   "cell_type": "code",
   "execution_count": 260,
   "id": "68221ef7",
   "metadata": {},
   "outputs": [
    {
     "data": {
      "text/plain": [
       "{'gold': {'sales': 100, 'loc': 'UK', 'Trade': 100},\n",
       " 'silver': {'sales': 200, 'loc': 'UK', 'Trade': 2000},\n",
       " 'metal': '100'}"
      ]
     },
     "execution_count": 260,
     "metadata": {},
     "output_type": "execute_result"
    }
   ],
   "source": [
    "prod_details"
   ]
  },
  {
   "cell_type": "code",
   "execution_count": 261,
   "id": "04b14fc1",
   "metadata": {},
   "outputs": [],
   "source": [
    "del prod_details['metal']"
   ]
  },
  {
   "cell_type": "code",
   "execution_count": 262,
   "id": "f7500d5c",
   "metadata": {},
   "outputs": [
    {
     "data": {
      "text/plain": [
       "{'gold': {'sales': 100, 'loc': 'UK', 'Trade': 100},\n",
       " 'silver': {'sales': 200, 'loc': 'UK', 'Trade': 2000}}"
      ]
     },
     "execution_count": 262,
     "metadata": {},
     "output_type": "execute_result"
    }
   ],
   "source": [
    "prod_details"
   ]
  },
  {
   "cell_type": "code",
   "execution_count": 263,
   "id": "427d52df",
   "metadata": {},
   "outputs": [],
   "source": [
    "a = 10"
   ]
  },
  {
   "cell_type": "code",
   "execution_count": 264,
   "id": "6c0d390b",
   "metadata": {},
   "outputs": [],
   "source": [
    "del a"
   ]
  },
  {
   "cell_type": "code",
   "execution_count": 267,
   "id": "a8509d70",
   "metadata": {},
   "outputs": [],
   "source": [
    "del prod_details['silver']['loc']"
   ]
  },
  {
   "cell_type": "code",
   "execution_count": 268,
   "id": "0bfc6bdc",
   "metadata": {},
   "outputs": [
    {
     "data": {
      "text/plain": [
       "{'gold': {'sales': 100, 'loc': 'UK', 'Trade': 100},\n",
       " 'silver': {'sales': 200, 'Trade': 2000}}"
      ]
     },
     "execution_count": 268,
     "metadata": {},
     "output_type": "execute_result"
    }
   ],
   "source": [
    "prod_details"
   ]
  },
  {
   "cell_type": "code",
   "execution_count": null,
   "id": "133bc51d",
   "metadata": {},
   "outputs": [],
   "source": []
  }
 ],
 "metadata": {
  "kernelspec": {
   "display_name": "Python 3",
   "language": "python",
   "name": "python3"
  },
  "language_info": {
   "codemirror_mode": {
    "name": "ipython",
    "version": 3
   },
   "file_extension": ".py",
   "mimetype": "text/x-python",
   "name": "python",
   "nbconvert_exporter": "python",
   "pygments_lexer": "ipython3",
   "version": "3.8.8"
  }
 },
 "nbformat": 4,
 "nbformat_minor": 5
}
