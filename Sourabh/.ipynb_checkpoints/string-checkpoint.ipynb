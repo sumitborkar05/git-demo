{
 "cells": [
  {
   "cell_type": "code",
   "execution_count": null,
   "id": "6e47c9e1",
   "metadata": {},
   "outputs": [],
   "source": [
    "#string\n",
    "1.it is collection char arranged in some meaning full order\n",
    "2.it immutable type DS\n",
    "3.it is 0 based index"
   ]
  },
  {
   "cell_type": "code",
   "execution_count": 1,
   "id": "e23b7806",
   "metadata": {},
   "outputs": [],
   "source": [
    "py_str = 'Python'"
   ]
  },
  {
   "cell_type": "code",
   "execution_count": 2,
   "id": "fc92a246",
   "metadata": {},
   "outputs": [
    {
     "data": {
      "text/plain": [
       "'Python'"
      ]
     },
     "execution_count": 2,
     "metadata": {},
     "output_type": "execute_result"
    }
   ],
   "source": [
    "py_str"
   ]
  },
  {
   "cell_type": "code",
   "execution_count": 3,
   "id": "6027e44a",
   "metadata": {},
   "outputs": [],
   "source": [
    "py_str1 = \"python\""
   ]
  },
  {
   "cell_type": "code",
   "execution_count": 4,
   "id": "510abe96",
   "metadata": {},
   "outputs": [
    {
     "data": {
      "text/plain": [
       "str"
      ]
     },
     "execution_count": 4,
     "metadata": {},
     "output_type": "execute_result"
    }
   ],
   "source": [
    "type(py_str1)"
   ]
  },
  {
   "cell_type": "code",
   "execution_count": 5,
   "id": "6bc18645",
   "metadata": {},
   "outputs": [],
   "source": [
    "py_str2 = '''python'''"
   ]
  },
  {
   "cell_type": "code",
   "execution_count": 6,
   "id": "af9af3bf",
   "metadata": {},
   "outputs": [
    {
     "data": {
      "text/plain": [
       "'python'"
      ]
     },
     "execution_count": 6,
     "metadata": {},
     "output_type": "execute_result"
    }
   ],
   "source": [
    "py_str2"
   ]
  },
  {
   "cell_type": "code",
   "execution_count": 7,
   "id": "eb553c0f",
   "metadata": {},
   "outputs": [],
   "source": [
    "py_str3 = \"\"\"python\"\"\""
   ]
  },
  {
   "cell_type": "code",
   "execution_count": 8,
   "id": "607fb7d2",
   "metadata": {},
   "outputs": [
    {
     "data": {
      "text/plain": [
       "'python'"
      ]
     },
     "execution_count": 8,
     "metadata": {},
     "output_type": "execute_result"
    }
   ],
   "source": [
    "py_str3"
   ]
  },
  {
   "cell_type": "code",
   "execution_count": null,
   "id": "d2d44e03",
   "metadata": {},
   "outputs": [],
   "source": [
    "' '\n",
    "\"  \"\n",
    "'''    '''\n",
    "\"\"\"   \"\"\""
   ]
  },
  {
   "cell_type": "code",
   "execution_count": 9,
   "id": "4df0ecd2",
   "metadata": {},
   "outputs": [
    {
     "ename": "SyntaxError",
     "evalue": "invalid syntax (<ipython-input-9-328ca1ed2299>, line 1)",
     "output_type": "error",
     "traceback": [
      "\u001b[1;36m  File \u001b[1;32m\"<ipython-input-9-328ca1ed2299>\"\u001b[1;36m, line \u001b[1;32m1\u001b[0m\n\u001b[1;33m    p = 'python is good for ML,it's also used for Developement'\u001b[0m\n\u001b[1;37m                                  ^\u001b[0m\n\u001b[1;31mSyntaxError\u001b[0m\u001b[1;31m:\u001b[0m invalid syntax\n"
     ]
    }
   ],
   "source": [
    "p = 'python is good for ML,it's also used for Developement'"
   ]
  },
  {
   "cell_type": "code",
   "execution_count": 10,
   "id": "19aab96d",
   "metadata": {},
   "outputs": [],
   "source": [
    "p = \"python is good for ML,it's also used for Developement\""
   ]
  },
  {
   "cell_type": "code",
   "execution_count": 11,
   "id": "a645060f",
   "metadata": {},
   "outputs": [
    {
     "data": {
      "text/plain": [
       "\"python is good for ML,it's also used for Developement\""
      ]
     },
     "execution_count": 11,
     "metadata": {},
     "output_type": "execute_result"
    }
   ],
   "source": [
    "p"
   ]
  },
  {
   "cell_type": "code",
   "execution_count": 12,
   "id": "df998241",
   "metadata": {},
   "outputs": [
    {
     "ename": "SyntaxError",
     "evalue": "invalid syntax (<ipython-input-12-b9a296bbfb0a>, line 1)",
     "output_type": "error",
     "traceback": [
      "\u001b[1;36m  File \u001b[1;32m\"<ipython-input-12-b9a296bbfb0a>\"\u001b[1;36m, line \u001b[1;32m1\u001b[0m\n\u001b[1;33m    py = \"python is not for mobile develpoment said by \"Guid Van Rossum\" and community\"\u001b[0m\n\u001b[1;37m                                                        ^\u001b[0m\n\u001b[1;31mSyntaxError\u001b[0m\u001b[1;31m:\u001b[0m invalid syntax\n"
     ]
    }
   ],
   "source": [
    "py = \"python is not for mobile develpoment said by \"Guid Van Rossum\" and community\""
   ]
  },
  {
   "cell_type": "code",
   "execution_count": 13,
   "id": "fb427a81",
   "metadata": {},
   "outputs": [],
   "source": [
    "py = 'python is not for mobile develpoment said by \"Guid Van Rossum\" and community'"
   ]
  },
  {
   "cell_type": "code",
   "execution_count": 14,
   "id": "67504ea9",
   "metadata": {},
   "outputs": [
    {
     "data": {
      "text/plain": [
       "'python is not for mobile develpoment said by \"Guid Van Rossum\" and community'"
      ]
     },
     "execution_count": 14,
     "metadata": {},
     "output_type": "execute_result"
    }
   ],
   "source": [
    "py"
   ]
  },
  {
   "cell_type": "code",
   "execution_count": null,
   "id": "134fb84e",
   "metadata": {},
   "outputs": [],
   "source": [
    "data ' ' then we can use \" \"\n",
    "\n",
    "data \" \" then we can use ' '"
   ]
  },
  {
   "cell_type": "code",
   "execution_count": 74,
   "id": "ef0795f7",
   "metadata": {},
   "outputs": [],
   "source": [
    "p = \"\"\"Sequence objects typically may be compared to other objects \n",
    "    with the same sequence type. The comparison uses lexicographical ordering: \n",
    "    first the first two items are compared, and if they differ this determines\n",
    "    the outcome of the comparison; '''if they are equal''', the next two items are \n",
    "    compared, and so on, until either sequence is exhausted. If two items to\n",
    "    be compared are themselves sequences of the same type, the lexicographical\n",
    "    comparison is carried out recursively. If all items of two sequences\n",
    "    compare equal, the sequences are\"\"\""
   ]
  },
  {
   "cell_type": "code",
   "execution_count": null,
   "id": "52946a3b",
   "metadata": {},
   "outputs": [],
   "source": [
    "Note : to store multiline string -- ''' ''' or \"\"\" \"\"\""
   ]
  },
  {
   "cell_type": "code",
   "execution_count": 21,
   "id": "84b038e9",
   "metadata": {},
   "outputs": [
    {
     "data": {
      "text/plain": [
       "\"Sequence objects typically may be compared to other objects \\n    with the same sequence type. The comparison uses lexicographical ordering: \\n    first the first two items are compared, and if they differ this determines\\n    the outcome of the comparison; '''if they are equal''', the next two items are \\n    compared, and so on, until either sequence is exhausted. If two items to\\n    be compared are themselves sequences of the same type, the lexicographical\\n    comparison is carried out recursively. If all items of two sequences\\n    compare equal, the sequences are\""
      ]
     },
     "execution_count": 21,
     "metadata": {},
     "output_type": "execute_result"
    }
   ],
   "source": [
    "p"
   ]
  },
  {
   "cell_type": "code",
   "execution_count": 19,
   "id": "efb03551",
   "metadata": {},
   "outputs": [
    {
     "name": "stdout",
     "output_type": "stream",
     "text": [
      "Sequence objects typically may be compared to other objects \n",
      "    with the same sequence type. The comparison uses lexicographical ordering: \n",
      "    first the first two items are compared, and if they differ this determines\n",
      "    the outcome of the comparison; if they are equal, the next two items are \n",
      "    compared, and so on, until either sequence is exhausted. If two items to\n",
      "    be compared are themselves sequences of the same type, the lexicographical\n",
      "    comparison is carried out recursively. If all items of two sequences\n",
      "    compare equal, the sequences are\n"
     ]
    }
   ],
   "source": [
    "print(p)"
   ]
  },
  {
   "cell_type": "code",
   "execution_count": null,
   "id": "5c12a48b",
   "metadata": {},
   "outputs": [],
   "source": [
    "' ' - \" \"\n",
    "\" \" - ' '\n",
    "'''   ''' -- \"\"\" \"\"\"\n",
    "\"\"\"   \"\"\" --- ''' '''"
   ]
  },
  {
   "cell_type": "code",
   "execution_count": 22,
   "id": "24eb52cd",
   "metadata": {},
   "outputs": [],
   "source": [
    "#this is comment"
   ]
  },
  {
   "cell_type": "code",
   "execution_count": 1,
   "id": "7390996a",
   "metadata": {},
   "outputs": [
    {
     "ename": "SyntaxError",
     "evalue": "invalid syntax (<ipython-input-1-34cd010e15cb>, line 1)",
     "output_type": "error",
     "traceback": [
      "\u001b[1;36m  File \u001b[1;32m\"<ipython-input-1-34cd010e15cb>\"\u001b[1;36m, line \u001b[1;32m1\u001b[0m\n\u001b[1;33m    p = \"\"\"python is \"\"\"good\"\"\" for ML,it's \"also\" '''used''' for Developement\"\"\"\u001b[0m\n\u001b[1;37m                        ^\u001b[0m\n\u001b[1;31mSyntaxError\u001b[0m\u001b[1;31m:\u001b[0m invalid syntax\n"
     ]
    }
   ],
   "source": [
    "p = \"\"\"python is \"\"\"good\"\"\" for ML,it's \"also\" '''used''' for Developement\"\"\""
   ]
  },
  {
   "cell_type": "code",
   "execution_count": 2,
   "id": "b4d31e3f",
   "metadata": {},
   "outputs": [
    {
     "ename": "NameError",
     "evalue": "name 'p' is not defined",
     "output_type": "error",
     "traceback": [
      "\u001b[1;31m---------------------------------------------------------------------------\u001b[0m",
      "\u001b[1;31mNameError\u001b[0m                                 Traceback (most recent call last)",
      "\u001b[1;32m<ipython-input-2-c7efc66e9b10>\u001b[0m in \u001b[0;36m<module>\u001b[1;34m\u001b[0m\n\u001b[1;32m----> 1\u001b[1;33m \u001b[0mprint\u001b[0m\u001b[1;33m(\u001b[0m\u001b[0mp\u001b[0m\u001b[1;33m)\u001b[0m\u001b[1;33m\u001b[0m\u001b[1;33m\u001b[0m\u001b[0m\n\u001b[0m",
      "\u001b[1;31mNameError\u001b[0m: name 'p' is not defined"
     ]
    }
   ],
   "source": [
    "print(p)"
   ]
  },
  {
   "cell_type": "code",
   "execution_count": 32,
   "id": "693f627e",
   "metadata": {},
   "outputs": [],
   "source": [
    "p = \"python\""
   ]
  },
  {
   "cell_type": "code",
   "execution_count": 34,
   "id": "f204909d",
   "metadata": {},
   "outputs": [
    {
     "ename": "AttributeError",
     "evalue": "'str' object has no attribute 'insert'",
     "output_type": "error",
     "traceback": [
      "\u001b[1;31m---------------------------------------------------------------------------\u001b[0m",
      "\u001b[1;31mAttributeError\u001b[0m                            Traceback (most recent call last)",
      "\u001b[1;32m<ipython-input-34-c88a2f341e2e>\u001b[0m in \u001b[0;36m<module>\u001b[1;34m\u001b[0m\n\u001b[1;32m----> 1\u001b[1;33m \u001b[0mp\u001b[0m\u001b[1;33m.\u001b[0m\u001b[0minsert\u001b[0m\u001b[1;33m(\u001b[0m\u001b[1;36m1\u001b[0m\u001b[1;33m,\u001b[0m\u001b[1;34m'K'\u001b[0m\u001b[1;33m)\u001b[0m\u001b[1;33m\u001b[0m\u001b[1;33m\u001b[0m\u001b[0m\n\u001b[0m",
      "\u001b[1;31mAttributeError\u001b[0m: 'str' object has no attribute 'insert'"
     ]
    }
   ],
   "source": [
    "p.insert(1,'K')"
   ]
  },
  {
   "cell_type": "code",
   "execution_count": 35,
   "id": "4664760f",
   "metadata": {},
   "outputs": [
    {
     "data": {
      "text/plain": [
       "'python'"
      ]
     },
     "execution_count": 35,
     "metadata": {},
     "output_type": "execute_result"
    }
   ],
   "source": [
    "p"
   ]
  },
  {
   "cell_type": "code",
   "execution_count": 36,
   "id": "b2189fe5",
   "metadata": {},
   "outputs": [
    {
     "data": {
      "text/plain": [
       "'python'"
      ]
     },
     "execution_count": 36,
     "metadata": {},
     "output_type": "execute_result"
    }
   ],
   "source": [
    "p"
   ]
  },
  {
   "cell_type": "code",
   "execution_count": 37,
   "id": "412af03b",
   "metadata": {},
   "outputs": [
    {
     "data": {
      "text/plain": [
       "'p'"
      ]
     },
     "execution_count": 37,
     "metadata": {},
     "output_type": "execute_result"
    }
   ],
   "source": [
    "p[0]"
   ]
  },
  {
   "cell_type": "code",
   "execution_count": 38,
   "id": "b5937edf",
   "metadata": {},
   "outputs": [
    {
     "data": {
      "text/plain": [
       "'n'"
      ]
     },
     "execution_count": 38,
     "metadata": {},
     "output_type": "execute_result"
    }
   ],
   "source": [
    "p[-1]"
   ]
  },
  {
   "cell_type": "code",
   "execution_count": null,
   "id": "16c30e2d",
   "metadata": {},
   "outputs": [],
   "source": [
    "forward indexing \n",
    "\n",
    "start =0   end = len-1\n",
    "reverse \n",
    "start =-1 end = -len"
   ]
  },
  {
   "cell_type": "code",
   "execution_count": 39,
   "id": "cb24ac75",
   "metadata": {},
   "outputs": [
    {
     "data": {
      "text/plain": [
       "1"
      ]
     },
     "execution_count": 39,
     "metadata": {},
     "output_type": "execute_result"
    }
   ],
   "source": [
    "p.count('n')"
   ]
  },
  {
   "cell_type": "code",
   "execution_count": 40,
   "id": "f7739898",
   "metadata": {},
   "outputs": [],
   "source": [
    "p = 'aaaabccccc'"
   ]
  },
  {
   "cell_type": "code",
   "execution_count": 41,
   "id": "71548c13",
   "metadata": {},
   "outputs": [
    {
     "data": {
      "text/plain": [
       "4"
      ]
     },
     "execution_count": 41,
     "metadata": {},
     "output_type": "execute_result"
    }
   ],
   "source": [
    "p.count('a')"
   ]
  },
  {
   "cell_type": "code",
   "execution_count": 42,
   "id": "a78a97f5",
   "metadata": {},
   "outputs": [
    {
     "data": {
      "text/plain": [
       "5"
      ]
     },
     "execution_count": 42,
     "metadata": {},
     "output_type": "execute_result"
    }
   ],
   "source": [
    "p.count('c')"
   ]
  },
  {
   "cell_type": "code",
   "execution_count": 43,
   "id": "4d50b5a6",
   "metadata": {},
   "outputs": [
    {
     "data": {
      "text/plain": [
       "'aaaabccccc'"
      ]
     },
     "execution_count": 43,
     "metadata": {},
     "output_type": "execute_result"
    }
   ],
   "source": [
    "p"
   ]
  },
  {
   "cell_type": "code",
   "execution_count": 44,
   "id": "85e906c7",
   "metadata": {},
   "outputs": [
    {
     "data": {
      "text/plain": [
       "'AAAABCCCCC'"
      ]
     },
     "execution_count": 44,
     "metadata": {},
     "output_type": "execute_result"
    }
   ],
   "source": [
    "p.upper()"
   ]
  },
  {
   "cell_type": "code",
   "execution_count": 45,
   "id": "a105f2c1",
   "metadata": {},
   "outputs": [],
   "source": [
    "py = 'PYTHON'"
   ]
  },
  {
   "cell_type": "code",
   "execution_count": 46,
   "id": "596817e0",
   "metadata": {},
   "outputs": [
    {
     "data": {
      "text/plain": [
       "'python'"
      ]
     },
     "execution_count": 46,
     "metadata": {},
     "output_type": "execute_result"
    }
   ],
   "source": [
    "py.lower()"
   ]
  },
  {
   "cell_type": "code",
   "execution_count": 47,
   "id": "45f48c20",
   "metadata": {},
   "outputs": [],
   "source": [
    "p = \"JaVa\""
   ]
  },
  {
   "cell_type": "code",
   "execution_count": 48,
   "id": "5419ae38",
   "metadata": {},
   "outputs": [
    {
     "data": {
      "text/plain": [
       "'JAVA'"
      ]
     },
     "execution_count": 48,
     "metadata": {},
     "output_type": "execute_result"
    }
   ],
   "source": [
    "p.upper()"
   ]
  },
  {
   "cell_type": "code",
   "execution_count": 49,
   "id": "f3322a0f",
   "metadata": {},
   "outputs": [],
   "source": [
    "p = 'It is a Python class'"
   ]
  },
  {
   "cell_type": "code",
   "execution_count": 50,
   "id": "3b967c06",
   "metadata": {},
   "outputs": [
    {
     "data": {
      "text/plain": [
       "'IT IS A PYTHON CLASS'"
      ]
     },
     "execution_count": 50,
     "metadata": {},
     "output_type": "execute_result"
    }
   ],
   "source": [
    "p.upper()"
   ]
  },
  {
   "cell_type": "code",
   "execution_count": 51,
   "id": "fd4a7bf9",
   "metadata": {},
   "outputs": [
    {
     "data": {
      "text/plain": [
       "'It is a Python class'"
      ]
     },
     "execution_count": 51,
     "metadata": {},
     "output_type": "execute_result"
    }
   ],
   "source": [
    "p"
   ]
  },
  {
   "cell_type": "code",
   "execution_count": 52,
   "id": "ddc47590",
   "metadata": {},
   "outputs": [
    {
     "data": {
      "text/plain": [
       "'it is a python class'"
      ]
     },
     "execution_count": 52,
     "metadata": {},
     "output_type": "execute_result"
    }
   ],
   "source": [
    "p.lower()"
   ]
  },
  {
   "cell_type": "code",
   "execution_count": 53,
   "id": "481d6feb",
   "metadata": {},
   "outputs": [],
   "source": [
    "p = 'hadoop is for gib data'"
   ]
  },
  {
   "cell_type": "code",
   "execution_count": 54,
   "id": "b6670efe",
   "metadata": {},
   "outputs": [
    {
     "data": {
      "text/plain": [
       "'Hadoop is for gib data'"
      ]
     },
     "execution_count": 54,
     "metadata": {},
     "output_type": "execute_result"
    }
   ],
   "source": [
    "p.capitalize() # is used to first letter to upper or capital"
   ]
  },
  {
   "cell_type": "code",
   "execution_count": 55,
   "id": "c4d62159",
   "metadata": {},
   "outputs": [],
   "source": [
    "p = 'python'"
   ]
  },
  {
   "cell_type": "code",
   "execution_count": null,
   "id": "6d92c73f",
   "metadata": {},
   "outputs": [],
   "source": [
    "p.capitalize()"
   ]
  },
  {
   "cell_type": "code",
   "execution_count": 65,
   "id": "88a98643",
   "metadata": {
    "scrolled": false
   },
   "outputs": [
    {
     "data": {
      "text/plain": [
       "'python'"
      ]
     },
     "execution_count": 65,
     "metadata": {},
     "output_type": "execute_result"
    }
   ],
   "source": [
    "p"
   ]
  },
  {
   "cell_type": "code",
   "execution_count": 66,
   "id": "a1b8740f",
   "metadata": {},
   "outputs": [
    {
     "data": {
      "text/plain": [
       "'python'"
      ]
     },
     "execution_count": 66,
     "metadata": {},
     "output_type": "execute_result"
    }
   ],
   "source": [
    "p"
   ]
  },
  {
   "cell_type": "code",
   "execution_count": 67,
   "id": "fceb6feb",
   "metadata": {},
   "outputs": [],
   "source": [
    "p = 'java'"
   ]
  },
  {
   "cell_type": "code",
   "execution_count": 68,
   "id": "d068e299",
   "metadata": {},
   "outputs": [],
   "source": [
    "#swapcase"
   ]
  },
  {
   "cell_type": "code",
   "execution_count": 69,
   "id": "b3970bd9",
   "metadata": {},
   "outputs": [
    {
     "ename": "NameError",
     "evalue": "name 'lower' is not defined",
     "output_type": "error",
     "traceback": [
      "\u001b[1;31m---------------------------------------------------------------------------\u001b[0m",
      "\u001b[1;31mNameError\u001b[0m                                 Traceback (most recent call last)",
      "\u001b[1;32m<ipython-input-69-e95718446e73>\u001b[0m in \u001b[0;36m<module>\u001b[1;34m\u001b[0m\n\u001b[1;32m----> 1\u001b[1;33m \u001b[0mlower\u001b[0m \u001b[1;33m-\u001b[0m\u001b[1;33m-\u001b[0m\u001b[1;33m-\u001b[0m \u001b[0mupper\u001b[0m\u001b[1;33m\u001b[0m\u001b[1;33m\u001b[0m\u001b[0m\n\u001b[0m\u001b[0;32m      2\u001b[0m \u001b[0mupper\u001b[0m   \u001b[1;33m-\u001b[0m\u001b[1;33m-\u001b[0m\u001b[1;33m-\u001b[0m \u001b[0mlower\u001b[0m\u001b[1;33m\u001b[0m\u001b[1;33m\u001b[0m\u001b[0m\n",
      "\u001b[1;31mNameError\u001b[0m: name 'lower' is not defined"
     ]
    }
   ],
   "source": [
    "lower --- upper\n",
    "upper   --- lower"
   ]
  },
  {
   "cell_type": "code",
   "execution_count": 70,
   "id": "f3b9c245",
   "metadata": {},
   "outputs": [
    {
     "data": {
      "text/plain": [
       "'java'"
      ]
     },
     "execution_count": 70,
     "metadata": {},
     "output_type": "execute_result"
    }
   ],
   "source": [
    "p"
   ]
  },
  {
   "cell_type": "code",
   "execution_count": 71,
   "id": "2ba80e87",
   "metadata": {},
   "outputs": [
    {
     "data": {
      "text/plain": [
       "'JAVA'"
      ]
     },
     "execution_count": 71,
     "metadata": {},
     "output_type": "execute_result"
    }
   ],
   "source": [
    "p.swapcase()"
   ]
  },
  {
   "cell_type": "code",
   "execution_count": 72,
   "id": "2dc566f9",
   "metadata": {},
   "outputs": [],
   "source": [
    "p='PYTHON'"
   ]
  },
  {
   "cell_type": "code",
   "execution_count": 73,
   "id": "a4038b5a",
   "metadata": {},
   "outputs": [
    {
     "data": {
      "text/plain": [
       "'python'"
      ]
     },
     "execution_count": 73,
     "metadata": {},
     "output_type": "execute_result"
    }
   ],
   "source": [
    "p.swapcase()"
   ]
  },
  {
   "cell_type": "code",
   "execution_count": 74,
   "id": "58ddcd42",
   "metadata": {},
   "outputs": [],
   "source": [
    "#case fold"
   ]
  },
  {
   "cell_type": "code",
   "execution_count": 75,
   "id": "70d29666",
   "metadata": {},
   "outputs": [],
   "source": [
    "p = 'PYTHON'"
   ]
  },
  {
   "cell_type": "code",
   "execution_count": 76,
   "id": "79a8d956",
   "metadata": {},
   "outputs": [
    {
     "data": {
      "text/plain": [
       "'python'"
      ]
     },
     "execution_count": 76,
     "metadata": {},
     "output_type": "execute_result"
    }
   ],
   "source": [
    "p.casefold()"
   ]
  },
  {
   "cell_type": "code",
   "execution_count": 85,
   "id": "a5555eb8",
   "metadata": {},
   "outputs": [],
   "source": [
    "name = 'Arun'"
   ]
  },
  {
   "cell_type": "code",
   "execution_count": null,
   "id": "8411e3a3",
   "metadata": {},
   "outputs": [],
   "source": []
  },
  {
   "cell_type": "code",
   "execution_count": 90,
   "id": "99f314f0",
   "metadata": {},
   "outputs": [],
   "source": [
    "n = 'pYtHoN'"
   ]
  },
  {
   "cell_type": "code",
   "execution_count": 91,
   "id": "11f4d434",
   "metadata": {},
   "outputs": [
    {
     "data": {
      "text/plain": [
       "'PyThOn'"
      ]
     },
     "execution_count": 91,
     "metadata": {},
     "output_type": "execute_result"
    }
   ],
   "source": [
    "n.swapcase()"
   ]
  },
  {
   "cell_type": "code",
   "execution_count": null,
   "id": "a9a9e7c0",
   "metadata": {},
   "outputs": [],
   "source": [
    "#how to define string ' ' \" \" ''' ''' \"\"\" \"\"\"\n",
    "#its properties\n",
    "#method -  lower/upper/casefold/swapcase/capitilize/count"
   ]
  },
  {
   "cell_type": "code",
   "execution_count": 92,
   "id": "f72a6310",
   "metadata": {},
   "outputs": [],
   "source": [
    "p = 'HDoop'"
   ]
  },
  {
   "cell_type": "code",
   "execution_count": 93,
   "id": "e20c0e55",
   "metadata": {},
   "outputs": [
    {
     "data": {
      "text/plain": [
       "'hdoop'"
      ]
     },
     "execution_count": 93,
     "metadata": {},
     "output_type": "execute_result"
    }
   ],
   "source": [
    "p.casefold()"
   ]
  },
  {
   "cell_type": "code",
   "execution_count": 71,
   "id": "cd4db9fc",
   "metadata": {},
   "outputs": [],
   "source": [
    "p = '''python is easy.\n",
    "    it is simple in coding as well'''"
   ]
  },
  {
   "cell_type": "code",
   "execution_count": 105,
   "id": "a5f6bb81",
   "metadata": {},
   "outputs": [
    {
     "data": {
      "text/plain": [
       "'Python is easy.\\n    it is simple in coding as well'"
      ]
     },
     "execution_count": 105,
     "metadata": {},
     "output_type": "execute_result"
    }
   ],
   "source": [
    "p.capitalize()"
   ]
  },
  {
   "cell_type": "code",
   "execution_count": 106,
   "id": "ba6f40a0",
   "metadata": {},
   "outputs": [
    {
     "name": "stdout",
     "output_type": "stream",
     "text": [
      "Python is easy.\n",
      "    it is simple in coding as well\n"
     ]
    }
   ],
   "source": [
    "print(p.capitalize())"
   ]
  },
  {
   "cell_type": "code",
   "execution_count": 109,
   "id": "351fd54e",
   "metadata": {},
   "outputs": [
    {
     "data": {
      "text/plain": [
       "\"Sequence objects typically may be compared to other objects \\n    with the same sequence type. the comparison uses lexicographical ordering: \\n    first the first two items are compared, and if they differ this determines\\n    the outcome of the comparison; '''if they are equal''', the next two items are \\n    compared, and so on, until either sequence is exhausted. if two items to\\n    be compared are themselves sequences of the same type, the lexicographical\\n    comparison is carried out recursively. if all items of two sequences\\n    compare equal, the sequences are\""
      ]
     },
     "execution_count": 109,
     "metadata": {},
     "output_type": "execute_result"
    }
   ],
   "source": [
    "p.capitalize()"
   ]
  },
  {
   "cell_type": "code",
   "execution_count": 114,
   "id": "0b5dbfde",
   "metadata": {},
   "outputs": [],
   "source": [
    "p = \" pune,satara\""
   ]
  },
  {
   "cell_type": "code",
   "execution_count": 115,
   "id": "b636350c",
   "metadata": {},
   "outputs": [
    {
     "data": {
      "text/plain": [
       "' pune,satara'"
      ]
     },
     "execution_count": 115,
     "metadata": {},
     "output_type": "execute_result"
    }
   ],
   "source": [
    "\n",
    "p"
   ]
  },
  {
   "cell_type": "code",
   "execution_count": 116,
   "id": "8dd6a376",
   "metadata": {},
   "outputs": [
    {
     "data": {
      "text/plain": [
       "' PUNE,SATARA'"
      ]
     },
     "execution_count": 116,
     "metadata": {},
     "output_type": "execute_result"
    }
   ],
   "source": [
    "p.upper()"
   ]
  },
  {
   "cell_type": "code",
   "execution_count": 1,
   "id": "b0bc91e6",
   "metadata": {},
   "outputs": [],
   "source": [
    "py_str = 'Python and Java'"
   ]
  },
  {
   "cell_type": "code",
   "execution_count": 2,
   "id": "7981e740",
   "metadata": {},
   "outputs": [],
   "source": [
    "#split method"
   ]
  },
  {
   "cell_type": "code",
   "execution_count": 3,
   "id": "a0e4e7c9",
   "metadata": {},
   "outputs": [],
   "source": [
    "p = 'Python@Java'"
   ]
  },
  {
   "cell_type": "code",
   "execution_count": 4,
   "id": "339e2bb1",
   "metadata": {},
   "outputs": [
    {
     "data": {
      "text/plain": [
       "['Python', 'Java']"
      ]
     },
     "execution_count": 4,
     "metadata": {},
     "output_type": "execute_result"
    }
   ],
   "source": [
    "p.split('@')----->list"
   ]
  },
  {
   "cell_type": "code",
   "execution_count": 5,
   "id": "dcbc1896",
   "metadata": {},
   "outputs": [],
   "source": [
    "email = 'python@gmail.com'"
   ]
  },
  {
   "cell_type": "code",
   "execution_count": 3,
   "id": "f99965b8",
   "metadata": {},
   "outputs": [
    {
     "ename": "NameError",
     "evalue": "name 'email' is not defined",
     "output_type": "error",
     "traceback": [
      "\u001b[1;31m---------------------------------------------------------------------------\u001b[0m",
      "\u001b[1;31mNameError\u001b[0m                                 Traceback (most recent call last)",
      "\u001b[1;32m<ipython-input-3-6edf45ce3abb>\u001b[0m in \u001b[0;36m<module>\u001b[1;34m\u001b[0m\n\u001b[1;32m----> 1\u001b[1;33m \u001b[0memail\u001b[0m\u001b[1;33m.\u001b[0m\u001b[0msplit\u001b[0m\u001b[1;33m(\u001b[0m\u001b[1;34m'@'\u001b[0m\u001b[1;33m)\u001b[0m\u001b[1;33m[\u001b[0m\u001b[1;36m0\u001b[0m\u001b[1;33m]\u001b[0m\u001b[1;33m\u001b[0m\u001b[1;33m\u001b[0m\u001b[0m\n\u001b[0m",
      "\u001b[1;31mNameError\u001b[0m: name 'email' is not defined"
     ]
    }
   ],
   "source": [
    "email.split('@')[0]"
   ]
  },
  {
   "cell_type": "code",
   "execution_count": 9,
   "id": "3cf458c2",
   "metadata": {},
   "outputs": [],
   "source": [
    "p = 'aaabacadr'"
   ]
  },
  {
   "cell_type": "code",
   "execution_count": 10,
   "id": "bd64aea0",
   "metadata": {},
   "outputs": [
    {
     "data": {
      "text/plain": [
       "['', '', '', 'b', 'c', 'dr']"
      ]
     },
     "execution_count": 10,
     "metadata": {},
     "output_type": "execute_result"
    }
   ],
   "source": [
    "p.split('a')"
   ]
  },
  {
   "cell_type": "code",
   "execution_count": 12,
   "id": "a826f20b",
   "metadata": {},
   "outputs": [],
   "source": [
    "p = 'Python and java are the good oops lang'"
   ]
  },
  {
   "cell_type": "code",
   "execution_count": 14,
   "id": "e5e001ce",
   "metadata": {},
   "outputs": [
    {
     "data": {
      "text/plain": [
       "['Python ', ' java are the good oops lang']"
      ]
     },
     "execution_count": 14,
     "metadata": {},
     "output_type": "execute_result"
    }
   ],
   "source": [
    "p.split('and')"
   ]
  },
  {
   "cell_type": "code",
   "execution_count": 30,
   "id": "a79e16b2",
   "metadata": {},
   "outputs": [],
   "source": [
    "email = ['abc@it.com','pqr@yahoo.com','sdkns@rediffmail.com']"
   ]
  },
  {
   "cell_type": "code",
   "execution_count": 18,
   "id": "8533ac04",
   "metadata": {},
   "outputs": [],
   "source": [
    "username = []\n",
    "for i in email:\n",
    "    username.append(i.split('@')[0])"
   ]
  },
  {
   "cell_type": "code",
   "execution_count": 19,
   "id": "b43acf57",
   "metadata": {},
   "outputs": [
    {
     "data": {
      "text/plain": [
       "['abc', 'pqr', 'sdkns']"
      ]
     },
     "execution_count": 19,
     "metadata": {},
     "output_type": "execute_result"
    }
   ],
   "source": [
    "username"
   ]
  },
  {
   "cell_type": "code",
   "execution_count": 20,
   "id": "3aaba2dd",
   "metadata": {},
   "outputs": [],
   "source": [
    "a = 'abc@gmail.com'"
   ]
  },
  {
   "cell_type": "code",
   "execution_count": 23,
   "id": "3e2cf4d8",
   "metadata": {},
   "outputs": [
    {
     "data": {
      "text/plain": [
       "'gmail.com'"
      ]
     },
     "execution_count": 23,
     "metadata": {},
     "output_type": "execute_result"
    }
   ],
   "source": [
    "a.split('@')[1]"
   ]
  },
  {
   "cell_type": "code",
   "execution_count": 35,
   "id": "94be6f9a",
   "metadata": {},
   "outputs": [],
   "source": [
    "t = [domain.split('@')[0] for domain in email if domain ] #list compresion"
   ]
  },
  {
   "cell_type": "code",
   "execution_count": 36,
   "id": "182ae94c",
   "metadata": {},
   "outputs": [
    {
     "data": {
      "text/plain": [
       "['abc', 'pqr', 'sdkns']"
      ]
     },
     "execution_count": 36,
     "metadata": {},
     "output_type": "execute_result"
    }
   ],
   "source": [
    "t"
   ]
  },
  {
   "cell_type": "code",
   "execution_count": 37,
   "id": "9e01b070",
   "metadata": {},
   "outputs": [],
   "source": [
    "temp = 'scooden#class'"
   ]
  },
  {
   "cell_type": "code",
   "execution_count": 38,
   "id": "05eb0c9c",
   "metadata": {},
   "outputs": [
    {
     "data": {
      "text/plain": [
       "['scooden', 'class']"
      ]
     },
     "execution_count": 38,
     "metadata": {},
     "output_type": "execute_result"
    }
   ],
   "source": [
    "temp.split('#')"
   ]
  },
  {
   "cell_type": "code",
   "execution_count": 41,
   "id": "e7a00be7",
   "metadata": {},
   "outputs": [],
   "source": [
    "data= 'PXGOLD12141423'"
   ]
  },
  {
   "cell_type": "code",
   "execution_count": 42,
   "id": "53c7f286",
   "metadata": {},
   "outputs": [],
   "source": [
    "product_type = data.split('GOLD12141423')[0]"
   ]
  },
  {
   "cell_type": "code",
   "execution_count": 43,
   "id": "f3b34f1f",
   "metadata": {},
   "outputs": [
    {
     "data": {
      "text/plain": [
       "'PX'"
      ]
     },
     "execution_count": 43,
     "metadata": {},
     "output_type": "execute_result"
    }
   ],
   "source": [
    "product_type"
   ]
  },
  {
   "cell_type": "code",
   "execution_count": 44,
   "id": "4d2d67f4",
   "metadata": {},
   "outputs": [
    {
     "data": {
      "text/plain": [
       "['PX', '']"
      ]
     },
     "execution_count": 44,
     "metadata": {},
     "output_type": "execute_result"
    }
   ],
   "source": [
    "data.split('GOLD12141423')"
   ]
  },
  {
   "cell_type": "code",
   "execution_count": 56,
   "id": "a5bb2788",
   "metadata": {},
   "outputs": [
    {
     "data": {
      "text/plain": [
       "['GOLD', '']"
      ]
     },
     "execution_count": 56,
     "metadata": {},
     "output_type": "execute_result"
    }
   ],
   "source": [
    "data.split('PX')[1].split('12141423')"
   ]
  },
  {
   "cell_type": "code",
   "execution_count": 49,
   "id": "aedf2949",
   "metadata": {},
   "outputs": [],
   "source": [
    "pl = ['python',12,'java',100,'DS']"
   ]
  },
  {
   "cell_type": "code",
   "execution_count": 50,
   "id": "81c05a3b",
   "metadata": {},
   "outputs": [
    {
     "data": {
      "text/plain": [
       "['python', 12, 'java', 100, 'DS']"
      ]
     },
     "execution_count": 50,
     "metadata": {},
     "output_type": "execute_result"
    }
   ],
   "source": [
    "pl"
   ]
  },
  {
   "cell_type": "code",
   "execution_count": 51,
   "id": "826d6aaa",
   "metadata": {},
   "outputs": [
    {
     "data": {
      "text/plain": [
       "12"
      ]
     },
     "execution_count": 51,
     "metadata": {},
     "output_type": "execute_result"
    }
   ],
   "source": [
    "pl[1]"
   ]
  },
  {
   "cell_type": "code",
   "execution_count": 52,
   "id": "70e3046b",
   "metadata": {},
   "outputs": [
    {
     "data": {
      "text/plain": [
       "'java'"
      ]
     },
     "execution_count": 52,
     "metadata": {},
     "output_type": "execute_result"
    }
   ],
   "source": [
    "pl[2]"
   ]
  },
  {
   "cell_type": "code",
   "execution_count": 65,
   "id": "86b95456",
   "metadata": {},
   "outputs": [],
   "source": [
    "p = 'abcabc'"
   ]
  },
  {
   "cell_type": "code",
   "execution_count": 66,
   "id": "30fe256a",
   "metadata": {},
   "outputs": [
    {
     "data": {
      "text/plain": [
       "['', 'bc', 'bc']"
      ]
     },
     "execution_count": 66,
     "metadata": {},
     "output_type": "execute_result"
    }
   ],
   "source": [
    "p.split('a')"
   ]
  },
  {
   "cell_type": "code",
   "execution_count": 63,
   "id": "a3c6eaa3",
   "metadata": {},
   "outputs": [],
   "source": [
    "p = 'aaabacadr'"
   ]
  },
  {
   "cell_type": "code",
   "execution_count": 64,
   "id": "c059a649",
   "metadata": {},
   "outputs": [
    {
     "data": {
      "text/plain": [
       "['', '', '', 'b', 'c', 'dr']"
      ]
     },
     "execution_count": 64,
     "metadata": {},
     "output_type": "execute_result"
    }
   ],
   "source": [
    "p.split('a')"
   ]
  },
  {
   "cell_type": "code",
   "execution_count": 67,
   "id": "57b6f863",
   "metadata": {},
   "outputs": [],
   "source": [
    "p = 'python'"
   ]
  },
  {
   "cell_type": "code",
   "execution_count": 68,
   "id": "46f200c5",
   "metadata": {},
   "outputs": [
    {
     "data": {
      "text/plain": [
       "['p', 'thon']"
      ]
     },
     "execution_count": 68,
     "metadata": {},
     "output_type": "execute_result"
    }
   ],
   "source": [
    "p.split('y')"
   ]
  },
  {
   "cell_type": "code",
   "execution_count": 70,
   "id": "7c0988fd",
   "metadata": {},
   "outputs": [
    {
     "data": {
      "text/plain": [
       "['pytho', '']"
      ]
     },
     "execution_count": 70,
     "metadata": {},
     "output_type": "execute_result"
    }
   ],
   "source": [
    "p.split('n')"
   ]
  },
  {
   "cell_type": "code",
   "execution_count": 72,
   "id": "db81cfb5",
   "metadata": {},
   "outputs": [
    {
     "data": {
      "text/plain": [
       "'python is easy.\\n    it is simple in coding as well'"
      ]
     },
     "execution_count": 72,
     "metadata": {},
     "output_type": "execute_result"
    }
   ],
   "source": [
    "p"
   ]
  },
  {
   "cell_type": "code",
   "execution_count": 73,
   "id": "65d109e1",
   "metadata": {},
   "outputs": [
    {
     "data": {
      "text/plain": [
       "['python is easy.', '    it is simple in coding as well']"
      ]
     },
     "execution_count": 73,
     "metadata": {},
     "output_type": "execute_result"
    }
   ],
   "source": [
    "p.splitlines()"
   ]
  },
  {
   "cell_type": "code",
   "execution_count": 77,
   "id": "b6265db4",
   "metadata": {},
   "outputs": [
    {
     "data": {
      "text/plain": [
       "'    compare equal, the sequences are'"
      ]
     },
     "execution_count": 77,
     "metadata": {},
     "output_type": "execute_result"
    }
   ],
   "source": [
    "p.splitlines()[-1]"
   ]
  },
  {
   "cell_type": "code",
   "execution_count": 78,
   "id": "2b29ade5",
   "metadata": {},
   "outputs": [
    {
     "data": {
      "text/plain": [
       "\"Sequence objects typically may be compared to other objects \\n    with the same sequence type. The comparison uses lexicographical ordering: \\n    first the first two items are compared, and if they differ this determines\\n    the outcome of the comparison; '''if they are equal''', the next two items are \\n    compared, and so on, until either sequence is exhausted. If two items to\\n    be compared are themselves sequences of the same type, the lexicographical\\n    comparison is carried out recursively. If all items of two sequences\\n    compare equal, the sequences are\""
      ]
     },
     "execution_count": 78,
     "metadata": {},
     "output_type": "execute_result"
    }
   ],
   "source": [
    "p"
   ]
  },
  {
   "cell_type": "code",
   "execution_count": 79,
   "id": "1c438284",
   "metadata": {},
   "outputs": [],
   "source": [
    "#split --break the word /sentance -- given separator"
   ]
  },
  {
   "cell_type": "code",
   "execution_count": 80,
   "id": "f6d8939c",
   "metadata": {},
   "outputs": [],
   "source": [
    "#splitline --- new line"
   ]
  },
  {
   "cell_type": "code",
   "execution_count": 81,
   "id": "3cae6981",
   "metadata": {},
   "outputs": [],
   "source": [
    "#strip"
   ]
  },
  {
   "cell_type": "code",
   "execution_count": 82,
   "id": "d78480b7",
   "metadata": {},
   "outputs": [],
   "source": [
    "p = '123'"
   ]
  },
  {
   "cell_type": "code",
   "execution_count": 83,
   "id": "88d1b7b9",
   "metadata": {},
   "outputs": [
    {
     "data": {
      "text/plain": [
       "str"
      ]
     },
     "execution_count": 83,
     "metadata": {},
     "output_type": "execute_result"
    }
   ],
   "source": [
    "type(p)"
   ]
  },
  {
   "cell_type": "code",
   "execution_count": 84,
   "id": "72b4defd",
   "metadata": {},
   "outputs": [
    {
     "data": {
      "text/plain": [
       "['1', '3']"
      ]
     },
     "execution_count": 84,
     "metadata": {},
     "output_type": "execute_result"
    }
   ],
   "source": [
    "p.split('2')"
   ]
  },
  {
   "cell_type": "code",
   "execution_count": 85,
   "id": "6d3eb5f1",
   "metadata": {},
   "outputs": [],
   "source": [
    "#strip\n",
    "#cut the white spaces"
   ]
  },
  {
   "cell_type": "code",
   "execution_count": 86,
   "id": "bc729fef",
   "metadata": {},
   "outputs": [],
   "source": [
    "p = '    Python     '"
   ]
  },
  {
   "cell_type": "code",
   "execution_count": 87,
   "id": "ff53db7d",
   "metadata": {},
   "outputs": [
    {
     "data": {
      "text/plain": [
       "'    Python     '"
      ]
     },
     "execution_count": 87,
     "metadata": {},
     "output_type": "execute_result"
    }
   ],
   "source": [
    "p"
   ]
  },
  {
   "cell_type": "code",
   "execution_count": 88,
   "id": "19ebbbe3",
   "metadata": {},
   "outputs": [],
   "source": [
    "name = ' arun'"
   ]
  },
  {
   "cell_type": "code",
   "execution_count": 89,
   "id": "407563ff",
   "metadata": {},
   "outputs": [
    {
     "data": {
      "text/plain": [
       "False"
      ]
     },
     "execution_count": 89,
     "metadata": {},
     "output_type": "execute_result"
    }
   ],
   "source": [
    "name =='arun'"
   ]
  },
  {
   "cell_type": "code",
   "execution_count": 90,
   "id": "5bfd4b7c",
   "metadata": {},
   "outputs": [
    {
     "data": {
      "text/plain": [
       "'    Python     '"
      ]
     },
     "execution_count": 90,
     "metadata": {},
     "output_type": "execute_result"
    }
   ],
   "source": [
    "p"
   ]
  },
  {
   "cell_type": "code",
   "execution_count": 91,
   "id": "e19a3878",
   "metadata": {},
   "outputs": [
    {
     "data": {
      "text/plain": [
       "'Python'"
      ]
     },
     "execution_count": 91,
     "metadata": {},
     "output_type": "execute_result"
    }
   ],
   "source": [
    "p.strip() # it will cut or remove white spaces from both end"
   ]
  },
  {
   "cell_type": "code",
   "execution_count": 92,
   "id": "b7e63ced",
   "metadata": {},
   "outputs": [
    {
     "data": {
      "text/plain": [
       "'    Python     '"
      ]
     },
     "execution_count": 92,
     "metadata": {},
     "output_type": "execute_result"
    }
   ],
   "source": [
    "p"
   ]
  },
  {
   "cell_type": "code",
   "execution_count": 93,
   "id": "389e65b5",
   "metadata": {},
   "outputs": [
    {
     "data": {
      "text/plain": [
       "' arun'"
      ]
     },
     "execution_count": 93,
     "metadata": {},
     "output_type": "execute_result"
    }
   ],
   "source": [
    "name"
   ]
  },
  {
   "cell_type": "code",
   "execution_count": 95,
   "id": "fbdee81f",
   "metadata": {},
   "outputs": [
    {
     "data": {
      "text/plain": [
       "True"
      ]
     },
     "execution_count": 95,
     "metadata": {},
     "output_type": "execute_result"
    }
   ],
   "source": [
    "name.strip() == 'arun'"
   ]
  },
  {
   "cell_type": "code",
   "execution_count": 96,
   "id": "dcd299f6",
   "metadata": {},
   "outputs": [
    {
     "data": {
      "text/plain": [
       "'    Python     '"
      ]
     },
     "execution_count": 96,
     "metadata": {},
     "output_type": "execute_result"
    }
   ],
   "source": [
    "p"
   ]
  },
  {
   "cell_type": "code",
   "execution_count": 97,
   "id": "4e404a53",
   "metadata": {},
   "outputs": [],
   "source": [
    "#strip --  remove --left and right side"
   ]
  },
  {
   "cell_type": "code",
   "execution_count": 98,
   "id": "c1e23d55",
   "metadata": {},
   "outputs": [
    {
     "data": {
      "text/plain": [
       "'    Python     '"
      ]
     },
     "execution_count": 98,
     "metadata": {},
     "output_type": "execute_result"
    }
   ],
   "source": [
    "p"
   ]
  },
  {
   "cell_type": "code",
   "execution_count": 99,
   "id": "1029b427",
   "metadata": {},
   "outputs": [
    {
     "data": {
      "text/plain": [
       "'Python     '"
      ]
     },
     "execution_count": 99,
     "metadata": {},
     "output_type": "execute_result"
    }
   ],
   "source": [
    "p.lstrip()"
   ]
  },
  {
   "cell_type": "code",
   "execution_count": 100,
   "id": "6790a533",
   "metadata": {},
   "outputs": [
    {
     "data": {
      "text/plain": [
       "'    Python'"
      ]
     },
     "execution_count": 100,
     "metadata": {},
     "output_type": "execute_result"
    }
   ],
   "source": [
    "p.rstrip()"
   ]
  },
  {
   "cell_type": "code",
   "execution_count": 101,
   "id": "aac6422d",
   "metadata": {},
   "outputs": [
    {
     "data": {
      "text/plain": [
       "'Python'"
      ]
     },
     "execution_count": 101,
     "metadata": {},
     "output_type": "execute_result"
    }
   ],
   "source": [
    "p.strip()"
   ]
  },
  {
   "cell_type": "code",
   "execution_count": 102,
   "id": "3b68cf1f",
   "metadata": {},
   "outputs": [],
   "source": [
    "p = ' java'"
   ]
  },
  {
   "cell_type": "code",
   "execution_count": 103,
   "id": "caaf853c",
   "metadata": {},
   "outputs": [
    {
     "data": {
      "text/plain": [
       "'java'"
      ]
     },
     "execution_count": 103,
     "metadata": {},
     "output_type": "execute_result"
    }
   ],
   "source": [
    "p.lstrip()"
   ]
  },
  {
   "cell_type": "code",
   "execution_count": 104,
   "id": "8c2b4c89",
   "metadata": {},
   "outputs": [
    {
     "data": {
      "text/plain": [
       "' java'"
      ]
     },
     "execution_count": 104,
     "metadata": {},
     "output_type": "execute_result"
    }
   ],
   "source": [
    "p"
   ]
  },
  {
   "cell_type": "code",
   "execution_count": 105,
   "id": "b4e31e31",
   "metadata": {},
   "outputs": [],
   "source": [
    "#strip"
   ]
  },
  {
   "cell_type": "code",
   "execution_count": null,
   "id": "ba3af4ff",
   "metadata": {},
   "outputs": [],
   "source": []
  }
 ],
 "metadata": {
  "kernelspec": {
   "display_name": "Python 3",
   "language": "python",
   "name": "python3"
  },
  "language_info": {
   "codemirror_mode": {
    "name": "ipython",
    "version": 3
   },
   "file_extension": ".py",
   "mimetype": "text/x-python",
   "name": "python",
   "nbconvert_exporter": "python",
   "pygments_lexer": "ipython3",
   "version": "3.8.8"
  }
 },
 "nbformat": 4,
 "nbformat_minor": 5
}
