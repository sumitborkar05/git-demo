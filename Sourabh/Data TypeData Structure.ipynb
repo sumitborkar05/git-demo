{
 "cells": [
  {
   "cell_type": "code",
   "execution_count": null,
   "id": "241e7422",
   "metadata": {},
   "outputs": [],
   "source": [
    "Data Type\n",
    "1.int\n",
    "2.float\n",
    "3.string"
   ]
  },
  {
   "cell_type": "code",
   "execution_count": null,
   "id": "15f5df92",
   "metadata": {},
   "outputs": [],
   "source": [
    "complex"
   ]
  },
  {
   "cell_type": "code",
   "execution_count": 1,
   "id": "de5b3f3b",
   "metadata": {},
   "outputs": [],
   "source": [
    "a  = 5+6j"
   ]
  },
  {
   "cell_type": "code",
   "execution_count": 2,
   "id": "d88b0415",
   "metadata": {},
   "outputs": [
    {
     "data": {
      "text/plain": [
       "(5+6j)"
      ]
     },
     "execution_count": 2,
     "metadata": {},
     "output_type": "execute_result"
    }
   ],
   "source": [
    "a"
   ]
  },
  {
   "cell_type": "code",
   "execution_count": 3,
   "id": "96725a21",
   "metadata": {},
   "outputs": [
    {
     "data": {
      "text/plain": [
       "complex"
      ]
     },
     "execution_count": 3,
     "metadata": {},
     "output_type": "execute_result"
    }
   ],
   "source": [
    "type(a)"
   ]
  },
  {
   "cell_type": "code",
   "execution_count": 4,
   "id": "53d4772b",
   "metadata": {},
   "outputs": [],
   "source": [
    "#bool"
   ]
  },
  {
   "cell_type": "code",
   "execution_count": null,
   "id": "d11c248b",
   "metadata": {},
   "outputs": [],
   "source": [
    "True --- 1\n",
    "False --- 0"
   ]
  },
  {
   "cell_type": "code",
   "execution_count": 5,
   "id": "b081e926",
   "metadata": {},
   "outputs": [
    {
     "data": {
      "text/plain": [
       "2"
      ]
     },
     "execution_count": 5,
     "metadata": {},
     "output_type": "execute_result"
    }
   ],
   "source": [
    "True+True"
   ]
  },
  {
   "cell_type": "code",
   "execution_count": 6,
   "id": "a57f7534",
   "metadata": {},
   "outputs": [
    {
     "data": {
      "text/plain": [
       "0"
      ]
     },
     "execution_count": 6,
     "metadata": {},
     "output_type": "execute_result"
    }
   ],
   "source": [
    "False+False"
   ]
  },
  {
   "cell_type": "code",
   "execution_count": 7,
   "id": "50b4534e",
   "metadata": {},
   "outputs": [
    {
     "data": {
      "text/plain": [
       "1"
      ]
     },
     "execution_count": 7,
     "metadata": {},
     "output_type": "execute_result"
    }
   ],
   "source": [
    "False+True"
   ]
  },
  {
   "cell_type": "code",
   "execution_count": 8,
   "id": "0811e628",
   "metadata": {},
   "outputs": [],
   "source": [
    "a = 10"
   ]
  },
  {
   "cell_type": "code",
   "execution_count": 9,
   "id": "02730d78",
   "metadata": {},
   "outputs": [],
   "source": [
    "b = 10"
   ]
  },
  {
   "cell_type": "code",
   "execution_count": 10,
   "id": "6cd1186c",
   "metadata": {},
   "outputs": [
    {
     "data": {
      "text/plain": [
       "True"
      ]
     },
     "execution_count": 10,
     "metadata": {},
     "output_type": "execute_result"
    }
   ],
   "source": [
    "a==b"
   ]
  },
  {
   "cell_type": "code",
   "execution_count": 11,
   "id": "16291858",
   "metadata": {},
   "outputs": [],
   "source": [
    "#Data Structure"
   ]
  },
  {
   "cell_type": "code",
   "execution_count": 12,
   "id": "5df0f2fc",
   "metadata": {},
   "outputs": [],
   "source": [
    "#1.List\n",
    "1.collection of elements/data type,element may be similer or different\n",
    "2.it is mutable type DS\n",
    "3.it is 0 based index DT---PARK\n",
    "4.in list duplicates are allowed\n",
    "5.[]"
   ]
  },
  {
   "cell_type": "code",
   "execution_count": 13,
   "id": "4928a112",
   "metadata": {},
   "outputs": [],
   "source": [
    "py_list = [1,2,3,4,'python']"
   ]
  },
  {
   "cell_type": "code",
   "execution_count": 14,
   "id": "e0e13f48",
   "metadata": {},
   "outputs": [
    {
     "data": {
      "text/plain": [
       "[1, 2, 3, 4, 'python']"
      ]
     },
     "execution_count": 14,
     "metadata": {},
     "output_type": "execute_result"
    }
   ],
   "source": [
    "py_list"
   ]
  },
  {
   "cell_type": "code",
   "execution_count": 15,
   "id": "183ad129",
   "metadata": {},
   "outputs": [
    {
     "data": {
      "text/plain": [
       "list"
      ]
     },
     "execution_count": 15,
     "metadata": {},
     "output_type": "execute_result"
    }
   ],
   "source": [
    "type(py_list)"
   ]
  },
  {
   "cell_type": "code",
   "execution_count": 16,
   "id": "5c59c5fa",
   "metadata": {},
   "outputs": [],
   "source": [
    "p = [1,2,3,4,5,6,100,300] #int -->homogeneous list"
   ]
  },
  {
   "cell_type": "code",
   "execution_count": 17,
   "id": "242cc7f2",
   "metadata": {},
   "outputs": [],
   "source": [
    "p1 = [1,30.5,'python','java','hadoop','django',7+10j,True]-->#hetrogenous"
   ]
  },
  {
   "cell_type": "code",
   "execution_count": 18,
   "id": "edda7f10",
   "metadata": {},
   "outputs": [
    {
     "data": {
      "text/plain": [
       "[1, 30.5, 'python', 'java', 'hadoop', 'django', (7+10j), True]"
      ]
     },
     "execution_count": 18,
     "metadata": {},
     "output_type": "execute_result"
    }
   ],
   "source": [
    "p1"
   ]
  },
  {
   "cell_type": "code",
   "execution_count": 19,
   "id": "91a269fd",
   "metadata": {},
   "outputs": [
    {
     "data": {
      "text/plain": [
       "[1, 2, 3, 4, 5, 6, 100, 300]"
      ]
     },
     "execution_count": 19,
     "metadata": {},
     "output_type": "execute_result"
    }
   ],
   "source": [
    "p"
   ]
  },
  {
   "cell_type": "code",
   "execution_count": 20,
   "id": "7519f225",
   "metadata": {},
   "outputs": [
    {
     "data": {
      "text/plain": [
       "4"
      ]
     },
     "execution_count": 20,
     "metadata": {},
     "output_type": "execute_result"
    }
   ],
   "source": [
    "p[3]"
   ]
  },
  {
   "cell_type": "code",
   "execution_count": 21,
   "id": "567c1b94",
   "metadata": {},
   "outputs": [
    {
     "data": {
      "text/plain": [
       "5"
      ]
     },
     "execution_count": 21,
     "metadata": {},
     "output_type": "execute_result"
    }
   ],
   "source": [
    "p[-4]"
   ]
  },
  {
   "cell_type": "code",
   "execution_count": 34,
   "id": "e768ce66",
   "metadata": {},
   "outputs": [],
   "source": [
    "py_list = ['python','django','java','c','Hadoop']"
   ]
  },
  {
   "cell_type": "code",
   "execution_count": 23,
   "id": "86d9d2a0",
   "metadata": {},
   "outputs": [
    {
     "data": {
      "text/plain": [
       "['python', 'django', 'java', 'c', 'Hadoop']"
      ]
     },
     "execution_count": 23,
     "metadata": {},
     "output_type": "execute_result"
    }
   ],
   "source": [
    "py_list"
   ]
  },
  {
   "cell_type": "code",
   "execution_count": 24,
   "id": "6b4e504c",
   "metadata": {},
   "outputs": [],
   "source": [
    "#forword index"
   ]
  },
  {
   "cell_type": "code",
   "execution_count": 25,
   "id": "0a58640b",
   "metadata": {},
   "outputs": [
    {
     "data": {
      "text/plain": [
       "'java'"
      ]
     },
     "execution_count": 25,
     "metadata": {},
     "output_type": "execute_result"
    }
   ],
   "source": [
    "py_list[2]"
   ]
  },
  {
   "cell_type": "code",
   "execution_count": 26,
   "id": "73208f73",
   "metadata": {},
   "outputs": [
    {
     "data": {
      "text/plain": [
       "'java'"
      ]
     },
     "execution_count": 26,
     "metadata": {},
     "output_type": "execute_result"
    }
   ],
   "source": [
    "py_list[-3]"
   ]
  },
  {
   "cell_type": "code",
   "execution_count": 31,
   "id": "e45ff6e9",
   "metadata": {},
   "outputs": [
    {
     "data": {
      "text/plain": [
       "['django']"
      ]
     },
     "execution_count": 31,
     "metadata": {},
     "output_type": "execute_result"
    }
   ],
   "source": [
    "py_list[1:2] #---->slicing     --- separate session"
   ]
  },
  {
   "cell_type": "code",
   "execution_count": 29,
   "id": "f34f1c68",
   "metadata": {},
   "outputs": [],
   "source": [
    "p = [1,1,1,1,1,1,1,1,1,1]"
   ]
  },
  {
   "cell_type": "code",
   "execution_count": 30,
   "id": "6c818486",
   "metadata": {},
   "outputs": [
    {
     "data": {
      "text/plain": [
       "[1, 1, 1, 1, 1, 1, 1, 1, 1, 1]"
      ]
     },
     "execution_count": 30,
     "metadata": {},
     "output_type": "execute_result"
    }
   ],
   "source": [
    "p"
   ]
  },
  {
   "cell_type": "code",
   "execution_count": 32,
   "id": "3bcd6352",
   "metadata": {},
   "outputs": [],
   "source": [
    "#mutable \n",
    "#insert/delete/update"
   ]
  },
  {
   "cell_type": "code",
   "execution_count": 33,
   "id": "1a617ba3",
   "metadata": {},
   "outputs": [
    {
     "data": {
      "text/plain": [
       "[1, 1, 1, 1, 1, 1, 1, 1, 1, 1]"
      ]
     },
     "execution_count": 33,
     "metadata": {},
     "output_type": "execute_result"
    }
   ],
   "source": [
    "p"
   ]
  },
  {
   "cell_type": "code",
   "execution_count": 35,
   "id": "6fa989ca",
   "metadata": {},
   "outputs": [
    {
     "data": {
      "text/plain": [
       "['python', 'django', 'java', 'c', 'Hadoop']"
      ]
     },
     "execution_count": 35,
     "metadata": {},
     "output_type": "execute_result"
    }
   ],
   "source": [
    "py_list"
   ]
  },
  {
   "cell_type": "code",
   "execution_count": 36,
   "id": "f222c134",
   "metadata": {},
   "outputs": [],
   "source": [
    "#py_list.insert(index,element)"
   ]
  },
  {
   "cell_type": "code",
   "execution_count": 37,
   "id": "3d880006",
   "metadata": {},
   "outputs": [],
   "source": [
    "py_list.insert(2,100)"
   ]
  },
  {
   "cell_type": "code",
   "execution_count": 38,
   "id": "9f115527",
   "metadata": {},
   "outputs": [
    {
     "data": {
      "text/plain": [
       "['python', 'django', 100, 'java', 'c', 'Hadoop']"
      ]
     },
     "execution_count": 38,
     "metadata": {},
     "output_type": "execute_result"
    }
   ],
   "source": [
    "py_list"
   ]
  },
  {
   "cell_type": "code",
   "execution_count": 39,
   "id": "e53f635c",
   "metadata": {},
   "outputs": [],
   "source": [
    "#for insertion "
   ]
  },
  {
   "cell_type": "code",
   "execution_count": null,
   "id": "d05277af",
   "metadata": {},
   "outputs": [],
   "source": [
    "#1.insert----> add element at desired location\n",
    "#2.append\n",
    "#3.extend"
   ]
  },
  {
   "cell_type": "code",
   "execution_count": 40,
   "id": "bf3c09dc",
   "metadata": {},
   "outputs": [],
   "source": [
    "#append --- we can add element at last position"
   ]
  },
  {
   "cell_type": "code",
   "execution_count": 41,
   "id": "90dfb4c3",
   "metadata": {},
   "outputs": [],
   "source": [
    "py_list.append(1000)"
   ]
  },
  {
   "cell_type": "code",
   "execution_count": 42,
   "id": "86ebea3c",
   "metadata": {},
   "outputs": [
    {
     "data": {
      "text/plain": [
       "['python', 'django', 100, 'java', 'c', 'Hadoop', 1000]"
      ]
     },
     "execution_count": 42,
     "metadata": {},
     "output_type": "execute_result"
    }
   ],
   "source": [
    "py_list"
   ]
  },
  {
   "cell_type": "code",
   "execution_count": 43,
   "id": "c165a806",
   "metadata": {},
   "outputs": [],
   "source": [
    "py_list.append('scala')"
   ]
  },
  {
   "cell_type": "code",
   "execution_count": 44,
   "id": "0eaa7b79",
   "metadata": {},
   "outputs": [
    {
     "data": {
      "text/plain": [
       "['python', 'django', 100, 'java', 'c', 'Hadoop', 1000, 'scala']"
      ]
     },
     "execution_count": 44,
     "metadata": {},
     "output_type": "execute_result"
    }
   ],
   "source": [
    "py_list"
   ]
  },
  {
   "cell_type": "code",
   "execution_count": 45,
   "id": "55a54332",
   "metadata": {},
   "outputs": [
    {
     "ename": "TypeError",
     "evalue": "append() takes exactly one argument (2 given)",
     "output_type": "error",
     "traceback": [
      "\u001b[1;31m---------------------------------------------------------------------------\u001b[0m",
      "\u001b[1;31mTypeError\u001b[0m                                 Traceback (most recent call last)",
      "\u001b[1;32m<ipython-input-45-b7adcf0b2e58>\u001b[0m in \u001b[0;36m<module>\u001b[1;34m\u001b[0m\n\u001b[1;32m----> 1\u001b[1;33m \u001b[0mpy_list\u001b[0m\u001b[1;33m.\u001b[0m\u001b[0mappend\u001b[0m\u001b[1;33m(\u001b[0m\u001b[1;36m100\u001b[0m\u001b[1;33m,\u001b[0m\u001b[1;36m300\u001b[0m\u001b[1;33m)\u001b[0m\u001b[1;33m\u001b[0m\u001b[1;33m\u001b[0m\u001b[0m\n\u001b[0m",
      "\u001b[1;31mTypeError\u001b[0m: append() takes exactly one argument (2 given)"
     ]
    }
   ],
   "source": [
    "py_list.append(100,300)"
   ]
  },
  {
   "cell_type": "code",
   "execution_count": 46,
   "id": "271f6213",
   "metadata": {},
   "outputs": [
    {
     "data": {
      "text/plain": [
       "['python', 'django', 100, 'java', 'c', 'Hadoop', 1000, 'scala']"
      ]
     },
     "execution_count": 46,
     "metadata": {},
     "output_type": "execute_result"
    }
   ],
   "source": [
    "py_list"
   ]
  },
  {
   "cell_type": "code",
   "execution_count": 47,
   "id": "ec1fa30f",
   "metadata": {},
   "outputs": [],
   "source": [
    "py_list.extend([100,200,300,400,500])"
   ]
  },
  {
   "cell_type": "code",
   "execution_count": 48,
   "id": "b10ebe9c",
   "metadata": {},
   "outputs": [
    {
     "data": {
      "text/plain": [
       "['python',\n",
       " 'django',\n",
       " 100,\n",
       " 'java',\n",
       " 'c',\n",
       " 'Hadoop',\n",
       " 1000,\n",
       " 'scala',\n",
       " 100,\n",
       " 200,\n",
       " 300,\n",
       " 400,\n",
       " 500]"
      ]
     },
     "execution_count": 48,
     "metadata": {},
     "output_type": "execute_result"
    }
   ],
   "source": [
    "py_list"
   ]
  },
  {
   "cell_type": "code",
   "execution_count": 49,
   "id": "5045c37b",
   "metadata": {},
   "outputs": [],
   "source": [
    "#append and extend differnce"
   ]
  },
  {
   "cell_type": "code",
   "execution_count": 50,
   "id": "7b613c45",
   "metadata": {},
   "outputs": [],
   "source": [
    "p = [1,2,3]"
   ]
  },
  {
   "cell_type": "code",
   "execution_count": 51,
   "id": "3cfa3fd5",
   "metadata": {},
   "outputs": [],
   "source": [
    "p.append([4,5,6])"
   ]
  },
  {
   "cell_type": "code",
   "execution_count": 52,
   "id": "2dbdc7ff",
   "metadata": {},
   "outputs": [
    {
     "data": {
      "text/plain": [
       "[1, 2, 3, [4, 5, 6]]"
      ]
     },
     "execution_count": 52,
     "metadata": {},
     "output_type": "execute_result"
    }
   ],
   "source": [
    "p"
   ]
  },
  {
   "cell_type": "code",
   "execution_count": 53,
   "id": "8d4add85",
   "metadata": {},
   "outputs": [
    {
     "data": {
      "text/plain": [
       "[4, 5, 6]"
      ]
     },
     "execution_count": 53,
     "metadata": {},
     "output_type": "execute_result"
    }
   ],
   "source": [
    "p[-1]"
   ]
  },
  {
   "cell_type": "code",
   "execution_count": 54,
   "id": "426ffafa",
   "metadata": {},
   "outputs": [],
   "source": [
    "p.insert(0,[100,200,300])"
   ]
  },
  {
   "cell_type": "code",
   "execution_count": 56,
   "id": "8770079e",
   "metadata": {},
   "outputs": [
    {
     "data": {
      "text/plain": [
       "[[100, 200, 300], 1, 2, 3, [4, 5, 6]]"
      ]
     },
     "execution_count": 56,
     "metadata": {},
     "output_type": "execute_result"
    }
   ],
   "source": [
    "p"
   ]
  },
  {
   "cell_type": "code",
   "execution_count": 57,
   "id": "f8d4c0ed",
   "metadata": {},
   "outputs": [],
   "source": [
    "p[0][1]='python'"
   ]
  },
  {
   "cell_type": "code",
   "execution_count": 58,
   "id": "44f75f97",
   "metadata": {},
   "outputs": [
    {
     "data": {
      "text/plain": [
       "[[100, 'python', 300], 1, 2, 3, [4, 5, 6]]"
      ]
     },
     "execution_count": 58,
     "metadata": {},
     "output_type": "execute_result"
    }
   ],
   "source": [
    "p"
   ]
  },
  {
   "cell_type": "code",
   "execution_count": 59,
   "id": "8f657e51",
   "metadata": {},
   "outputs": [],
   "source": [
    "#deletion of element"
   ]
  },
  {
   "cell_type": "code",
   "execution_count": 60,
   "id": "5d2ffc32",
   "metadata": {},
   "outputs": [],
   "source": [
    "p = [30,40,50,'python']"
   ]
  },
  {
   "cell_type": "code",
   "execution_count": 62,
   "id": "c25efd6e",
   "metadata": {},
   "outputs": [],
   "source": [
    "#1.remove--- element\n",
    "#2.pop -----index number"
   ]
  },
  {
   "cell_type": "code",
   "execution_count": 63,
   "id": "33219f44",
   "metadata": {},
   "outputs": [
    {
     "data": {
      "text/plain": [
       "[30, 40, 50, 'python']"
      ]
     },
     "execution_count": 63,
     "metadata": {},
     "output_type": "execute_result"
    }
   ],
   "source": [
    "p"
   ]
  },
  {
   "cell_type": "code",
   "execution_count": 64,
   "id": "2a85b400",
   "metadata": {},
   "outputs": [],
   "source": [
    "p.remove(50)"
   ]
  },
  {
   "cell_type": "code",
   "execution_count": 65,
   "id": "f5ce0675",
   "metadata": {},
   "outputs": [
    {
     "data": {
      "text/plain": [
       "[30, 40, 'python']"
      ]
     },
     "execution_count": 65,
     "metadata": {},
     "output_type": "execute_result"
    }
   ],
   "source": [
    "p"
   ]
  },
  {
   "cell_type": "code",
   "execution_count": 66,
   "id": "19a59138",
   "metadata": {},
   "outputs": [
    {
     "data": {
      "text/plain": [
       "[30, 40, 'python']"
      ]
     },
     "execution_count": 66,
     "metadata": {},
     "output_type": "execute_result"
    }
   ],
   "source": [
    "p"
   ]
  },
  {
   "cell_type": "code",
   "execution_count": 67,
   "id": "5b498eae",
   "metadata": {},
   "outputs": [
    {
     "data": {
      "text/plain": [
       "'python'"
      ]
     },
     "execution_count": 67,
     "metadata": {},
     "output_type": "execute_result"
    }
   ],
   "source": [
    "p.pop(2)"
   ]
  },
  {
   "cell_type": "code",
   "execution_count": 68,
   "id": "ef0289e5",
   "metadata": {},
   "outputs": [
    {
     "data": {
      "text/plain": [
       "[30, 40]"
      ]
     },
     "execution_count": 68,
     "metadata": {},
     "output_type": "execute_result"
    }
   ],
   "source": [
    "p"
   ]
  },
  {
   "cell_type": "code",
   "execution_count": 69,
   "id": "79578a89",
   "metadata": {},
   "outputs": [],
   "source": [
    "p = [1,2,3,4,5,6,7,8,9]"
   ]
  },
  {
   "cell_type": "code",
   "execution_count": 70,
   "id": "d9627fdf",
   "metadata": {},
   "outputs": [
    {
     "data": {
      "text/plain": [
       "[1, 2, 3, 4, 5, 6, 7, 8, 9]"
      ]
     },
     "execution_count": 70,
     "metadata": {},
     "output_type": "execute_result"
    }
   ],
   "source": [
    "p"
   ]
  },
  {
   "cell_type": "code",
   "execution_count": 71,
   "id": "19243a54",
   "metadata": {},
   "outputs": [],
   "source": [
    "p.remove(5)"
   ]
  },
  {
   "cell_type": "code",
   "execution_count": 72,
   "id": "4fc0ccb3",
   "metadata": {},
   "outputs": [
    {
     "data": {
      "text/plain": [
       "[1, 2, 3, 4, 6, 7, 8, 9]"
      ]
     },
     "execution_count": 72,
     "metadata": {},
     "output_type": "execute_result"
    }
   ],
   "source": [
    "p"
   ]
  },
  {
   "cell_type": "code",
   "execution_count": 73,
   "id": "cf67f4e9",
   "metadata": {},
   "outputs": [],
   "source": [
    "p = [1,2,1]"
   ]
  },
  {
   "cell_type": "code",
   "execution_count": 74,
   "id": "186942ee",
   "metadata": {},
   "outputs": [],
   "source": [
    "p.remove(1)"
   ]
  },
  {
   "cell_type": "code",
   "execution_count": 75,
   "id": "06bc462b",
   "metadata": {},
   "outputs": [
    {
     "data": {
      "text/plain": [
       "[2, 1]"
      ]
     },
     "execution_count": 75,
     "metadata": {},
     "output_type": "execute_result"
    }
   ],
   "source": [
    "p"
   ]
  },
  {
   "cell_type": "code",
   "execution_count": 76,
   "id": "1f4f9ae6",
   "metadata": {},
   "outputs": [
    {
     "data": {
      "text/plain": [
       "[2, 1]"
      ]
     },
     "execution_count": 76,
     "metadata": {},
     "output_type": "execute_result"
    }
   ],
   "source": [
    "p"
   ]
  },
  {
   "cell_type": "code",
   "execution_count": 77,
   "id": "4ff2bbc2",
   "metadata": {},
   "outputs": [
    {
     "data": {
      "text/plain": [
       "1"
      ]
     },
     "execution_count": 77,
     "metadata": {},
     "output_type": "execute_result"
    }
   ],
   "source": [
    "p.pop()"
   ]
  },
  {
   "cell_type": "code",
   "execution_count": 79,
   "id": "24820fcc",
   "metadata": {},
   "outputs": [
    {
     "data": {
      "text/plain": [
       "500"
      ]
     },
     "execution_count": 79,
     "metadata": {},
     "output_type": "execute_result"
    }
   ],
   "source": [
    "py_list.pop()"
   ]
  },
  {
   "cell_type": "code",
   "execution_count": 80,
   "id": "1d78c7a3",
   "metadata": {},
   "outputs": [
    {
     "data": {
      "text/plain": [
       "['python',\n",
       " 'django',\n",
       " 100,\n",
       " 'java',\n",
       " 'c',\n",
       " 'Hadoop',\n",
       " 1000,\n",
       " 'scala',\n",
       " 100,\n",
       " 200,\n",
       " 300,\n",
       " 400]"
      ]
     },
     "execution_count": 80,
     "metadata": {},
     "output_type": "execute_result"
    }
   ],
   "source": [
    "py_list"
   ]
  },
  {
   "cell_type": "code",
   "execution_count": 81,
   "id": "69c49c5f",
   "metadata": {},
   "outputs": [
    {
     "ename": "TypeError",
     "evalue": "remove() takes exactly one argument (0 given)",
     "output_type": "error",
     "traceback": [
      "\u001b[1;31m---------------------------------------------------------------------------\u001b[0m",
      "\u001b[1;31mTypeError\u001b[0m                                 Traceback (most recent call last)",
      "\u001b[1;32m<ipython-input-81-f7fe887cb42a>\u001b[0m in \u001b[0;36m<module>\u001b[1;34m\u001b[0m\n\u001b[1;32m----> 1\u001b[1;33m \u001b[0mp\u001b[0m\u001b[1;33m.\u001b[0m\u001b[0mremove\u001b[0m\u001b[1;33m(\u001b[0m\u001b[1;33m)\u001b[0m\u001b[1;33m\u001b[0m\u001b[1;33m\u001b[0m\u001b[0m\n\u001b[0m",
      "\u001b[1;31mTypeError\u001b[0m: remove() takes exactly one argument (0 given)"
     ]
    }
   ],
   "source": [
    "p.remove()"
   ]
  },
  {
   "cell_type": "code",
   "execution_count": 82,
   "id": "d6975da3",
   "metadata": {},
   "outputs": [
    {
     "data": {
      "text/plain": [
       "[2]"
      ]
     },
     "execution_count": 82,
     "metadata": {},
     "output_type": "execute_result"
    }
   ],
   "source": [
    "p"
   ]
  },
  {
   "cell_type": "code",
   "execution_count": 85,
   "id": "e4c1b9af",
   "metadata": {},
   "outputs": [],
   "source": [
    "py_list = ['java','c','c++']"
   ]
  },
  {
   "cell_type": "code",
   "execution_count": 84,
   "id": "d68be4b6",
   "metadata": {},
   "outputs": [],
   "source": [
    "py_list.remove('java')"
   ]
  },
  {
   "cell_type": "code",
   "execution_count": 86,
   "id": "7b6a6781",
   "metadata": {},
   "outputs": [
    {
     "data": {
      "text/plain": [
       "'java'"
      ]
     },
     "execution_count": 86,
     "metadata": {},
     "output_type": "execute_result"
    }
   ],
   "source": [
    "py_list.pop(0)"
   ]
  },
  {
   "cell_type": "code",
   "execution_count": 87,
   "id": "424fa7e8",
   "metadata": {},
   "outputs": [
    {
     "data": {
      "text/plain": [
       "['c', 'c++']"
      ]
     },
     "execution_count": 87,
     "metadata": {},
     "output_type": "execute_result"
    }
   ],
   "source": [
    "py_list"
   ]
  },
  {
   "cell_type": "code",
   "execution_count": 88,
   "id": "9a504376",
   "metadata": {},
   "outputs": [],
   "source": [
    "p = [100,2,60,3,50.67]"
   ]
  },
  {
   "cell_type": "code",
   "execution_count": 89,
   "id": "1468e168",
   "metadata": {},
   "outputs": [],
   "source": [
    "#method\n",
    "#insert(index,element)-->desired location\n",
    "#append(element)--single element at last\n",
    "#extend([list of element]) -->multiple element at last\n",
    "#remove(element)--->delete element \n",
    "#pop()--->last element pop(index)--->index element deleted"
   ]
  },
  {
   "cell_type": "code",
   "execution_count": null,
   "id": "e8109366",
   "metadata": {},
   "outputs": [],
   "source": []
  },
  {
   "cell_type": "code",
   "execution_count": null,
   "id": "26c4158b",
   "metadata": {},
   "outputs": [],
   "source": []
  },
  {
   "cell_type": "code",
   "execution_count": null,
   "id": "b6dcbd9e",
   "metadata": {},
   "outputs": [],
   "source": []
  },
  {
   "cell_type": "code",
   "execution_count": 90,
   "id": "89528e76",
   "metadata": {},
   "outputs": [
    {
     "name": "stdout",
     "output_type": "stream",
     "text": [
      "file created\n"
     ]
    }
   ],
   "source": [
    "with open('test1.txt','x') as fp:\n",
    "    fp.write('welcome')\n",
    "print(\"file created\")"
   ]
  },
  {
   "cell_type": "code",
   "execution_count": 91,
   "id": "24869b5c",
   "metadata": {},
   "outputs": [
    {
     "data": {
      "text/plain": [
       "'C:\\\\Users\\\\kanti\\\\OneDrive\\\\Desktop\\\\Python 25'"
      ]
     },
     "execution_count": 91,
     "metadata": {},
     "output_type": "execute_result"
    }
   ],
   "source": [
    "pwd"
   ]
  },
  {
   "cell_type": "code",
   "execution_count": null,
   "id": "c410bf7b",
   "metadata": {},
   "outputs": [],
   "source": []
  },
  {
   "cell_type": "code",
   "execution_count": null,
   "id": "f8ce5a9a",
   "metadata": {},
   "outputs": [],
   "source": []
  },
  {
   "cell_type": "code",
   "execution_count": null,
   "id": "3b473393",
   "metadata": {},
   "outputs": [],
   "source": []
  },
  {
   "cell_type": "code",
   "execution_count": null,
   "id": "9ab3cf57",
   "metadata": {},
   "outputs": [],
   "source": []
  },
  {
   "cell_type": "code",
   "execution_count": 92,
   "id": "5d11650d",
   "metadata": {},
   "outputs": [],
   "source": []
  },
  {
   "cell_type": "code",
   "execution_count": null,
   "id": "8b2c1a36",
   "metadata": {},
   "outputs": [],
   "source": [
    "i=0\n",
    "while len(v)>=0:\n",
    "    n = ''.join(v)\n",
    "    "
   ]
  },
  {
   "cell_type": "code",
   "execution_count": 114,
   "id": "64e77342",
   "metadata": {},
   "outputs": [],
   "source": [
    "v = 'java'"
   ]
  },
  {
   "cell_type": "code",
   "execution_count": 115,
   "id": "82f25a75",
   "metadata": {},
   "outputs": [],
   "source": [
    "p = ''"
   ]
  },
  {
   "cell_type": "code",
   "execution_count": 116,
   "id": "f0622989",
   "metadata": {},
   "outputs": [
    {
     "name": "stdout",
     "output_type": "stream",
     "text": [
      "it is not\n"
     ]
    }
   ],
   "source": []
  },
  {
   "cell_type": "code",
   "execution_count": null,
   "id": "4313f321",
   "metadata": {},
   "outputs": [],
   "source": []
  },
  {
   "cell_type": "code",
   "execution_count": 117,
   "id": "8a14b19d",
   "metadata": {},
   "outputs": [
    {
     "data": {
      "text/plain": [
       "'avaj'"
      ]
     },
     "execution_count": 117,
     "metadata": {},
     "output_type": "execute_result"
    }
   ],
   "source": [
    "p"
   ]
  },
  {
   "cell_type": "code",
   "execution_count": 118,
   "id": "07152b27",
   "metadata": {},
   "outputs": [],
   "source": [
    "p='java'"
   ]
  },
  {
   "cell_type": "code",
   "execution_count": 119,
   "id": "d479e6d2",
   "metadata": {},
   "outputs": [
    {
     "data": {
      "text/plain": [
       "'avaj'"
      ]
     },
     "execution_count": 119,
     "metadata": {},
     "output_type": "execute_result"
    }
   ],
   "source": [
    "p[::-1]"
   ]
  },
  {
   "cell_type": "code",
   "execution_count": 27,
   "id": "5926463f",
   "metadata": {},
   "outputs": [],
   "source": [
    "p = ['python',100,200,300,'java','c++']"
   ]
  },
  {
   "cell_type": "code",
   "execution_count": 2,
   "id": "c1554a6a",
   "metadata": {},
   "outputs": [
    {
     "data": {
      "text/plain": [
       "['python', 100, 200, 300, 'java', 'c++']"
      ]
     },
     "execution_count": 2,
     "metadata": {},
     "output_type": "execute_result"
    }
   ],
   "source": [
    "p"
   ]
  },
  {
   "cell_type": "code",
   "execution_count": 3,
   "id": "8a3cebe0",
   "metadata": {},
   "outputs": [
    {
     "data": {
      "text/plain": [
       "list"
      ]
     },
     "execution_count": 3,
     "metadata": {},
     "output_type": "execute_result"
    }
   ],
   "source": [
    "type(p)"
   ]
  },
  {
   "cell_type": "code",
   "execution_count": 4,
   "id": "b56f386e",
   "metadata": {},
   "outputs": [],
   "source": [
    "p.insert(4,'Hadoop')"
   ]
  },
  {
   "cell_type": "code",
   "execution_count": 5,
   "id": "adc0b6e1",
   "metadata": {},
   "outputs": [
    {
     "data": {
      "text/plain": [
       "['python', 100, 200, 300, 'Hadoop', 'java', 'c++']"
      ]
     },
     "execution_count": 5,
     "metadata": {},
     "output_type": "execute_result"
    }
   ],
   "source": [
    "p"
   ]
  },
  {
   "cell_type": "code",
   "execution_count": 6,
   "id": "317bef3f",
   "metadata": {},
   "outputs": [],
   "source": [
    "p.append(100)"
   ]
  },
  {
   "cell_type": "code",
   "execution_count": 7,
   "id": "71b25ef0",
   "metadata": {},
   "outputs": [
    {
     "data": {
      "text/plain": [
       "['python', 100, 200, 300, 'Hadoop', 'java', 'c++', 100]"
      ]
     },
     "execution_count": 7,
     "metadata": {},
     "output_type": "execute_result"
    }
   ],
   "source": [
    "p"
   ]
  },
  {
   "cell_type": "code",
   "execution_count": 8,
   "id": "0beeb54d",
   "metadata": {},
   "outputs": [],
   "source": [
    "p1 = [10,20,30,40,50]"
   ]
  },
  {
   "cell_type": "code",
   "execution_count": 9,
   "id": "31f6c4c6",
   "metadata": {},
   "outputs": [],
   "source": [
    "p.extend(p1)"
   ]
  },
  {
   "cell_type": "code",
   "execution_count": 10,
   "id": "919a2714",
   "metadata": {},
   "outputs": [
    {
     "data": {
      "text/plain": [
       "['python', 100, 200, 300, 'Hadoop', 'java', 'c++', 100, 10, 20, 30, 40, 50]"
      ]
     },
     "execution_count": 10,
     "metadata": {},
     "output_type": "execute_result"
    }
   ],
   "source": [
    "p"
   ]
  },
  {
   "cell_type": "code",
   "execution_count": 11,
   "id": "b1b3ed97",
   "metadata": {},
   "outputs": [],
   "source": [
    "p.append(p1)"
   ]
  },
  {
   "cell_type": "code",
   "execution_count": 12,
   "id": "0f371f45",
   "metadata": {},
   "outputs": [
    {
     "data": {
      "text/plain": [
       "['python',\n",
       " 100,\n",
       " 200,\n",
       " 300,\n",
       " 'Hadoop',\n",
       " 'java',\n",
       " 'c++',\n",
       " 100,\n",
       " 10,\n",
       " 20,\n",
       " 30,\n",
       " 40,\n",
       " 50,\n",
       " [10, 20, 30, 40, 50]]"
      ]
     },
     "execution_count": 12,
     "metadata": {},
     "output_type": "execute_result"
    }
   ],
   "source": [
    "p"
   ]
  },
  {
   "cell_type": "code",
   "execution_count": 13,
   "id": "72b626b3",
   "metadata": {},
   "outputs": [
    {
     "data": {
      "text/plain": [
       "[10, 20, 30, 40, 50]"
      ]
     },
     "execution_count": 13,
     "metadata": {},
     "output_type": "execute_result"
    }
   ],
   "source": [
    "p1"
   ]
  },
  {
   "cell_type": "code",
   "execution_count": 14,
   "id": "de80a88e",
   "metadata": {},
   "outputs": [],
   "source": [
    "temp = p1.copy()"
   ]
  },
  {
   "cell_type": "code",
   "execution_count": 15,
   "id": "5f8475ac",
   "metadata": {},
   "outputs": [
    {
     "data": {
      "text/plain": [
       "[10, 20, 30, 40, 50]"
      ]
     },
     "execution_count": 15,
     "metadata": {},
     "output_type": "execute_result"
    }
   ],
   "source": [
    "temp"
   ]
  },
  {
   "cell_type": "code",
   "execution_count": 16,
   "id": "626919a5",
   "metadata": {},
   "outputs": [],
   "source": [
    "var = ['a','b','c']"
   ]
  },
  {
   "cell_type": "code",
   "execution_count": 17,
   "id": "76eaf02f",
   "metadata": {},
   "outputs": [],
   "source": [
    "v1 = var.copy()"
   ]
  },
  {
   "cell_type": "code",
   "execution_count": 18,
   "id": "5a34d0db",
   "metadata": {},
   "outputs": [
    {
     "data": {
      "text/plain": [
       "['a', 'b', 'c']"
      ]
     },
     "execution_count": 18,
     "metadata": {},
     "output_type": "execute_result"
    }
   ],
   "source": [
    "v1"
   ]
  },
  {
   "cell_type": "code",
   "execution_count": 19,
   "id": "c572dda1",
   "metadata": {},
   "outputs": [
    {
     "data": {
      "text/plain": [
       "['a', 'b', 'c']"
      ]
     },
     "execution_count": 19,
     "metadata": {},
     "output_type": "execute_result"
    }
   ],
   "source": [
    "var"
   ]
  },
  {
   "cell_type": "code",
   "execution_count": 21,
   "id": "a70ba7da",
   "metadata": {},
   "outputs": [
    {
     "data": {
      "text/plain": [
       "['a', 'b', 'c']"
      ]
     },
     "execution_count": 21,
     "metadata": {},
     "output_type": "execute_result"
    }
   ],
   "source": [
    "v1"
   ]
  },
  {
   "cell_type": "code",
   "execution_count": 24,
   "id": "497f122e",
   "metadata": {},
   "outputs": [],
   "source": [
    "v1 = ['a','b','c',1,2,3,4,5,1,1,1,1,1,1,1]"
   ]
  },
  {
   "cell_type": "code",
   "execution_count": 25,
   "id": "ce475532",
   "metadata": {},
   "outputs": [
    {
     "data": {
      "text/plain": [
       "['a', 'b', 'c', 1, 2, 3, 4, 5, 1, 1, 1, 1, 1, 1, 1]"
      ]
     },
     "execution_count": 25,
     "metadata": {},
     "output_type": "execute_result"
    }
   ],
   "source": [
    "v1"
   ]
  },
  {
   "cell_type": "code",
   "execution_count": 26,
   "id": "a81a38d1",
   "metadata": {},
   "outputs": [
    {
     "data": {
      "text/plain": [
       "8"
      ]
     },
     "execution_count": 26,
     "metadata": {},
     "output_type": "execute_result"
    }
   ],
   "source": [
    "v1.count(1)"
   ]
  },
  {
   "cell_type": "code",
   "execution_count": 28,
   "id": "14106af0",
   "metadata": {},
   "outputs": [
    {
     "data": {
      "text/plain": [
       "['python', 100, 200, 300, 'java', 'c++']"
      ]
     },
     "execution_count": 28,
     "metadata": {},
     "output_type": "execute_result"
    }
   ],
   "source": [
    "p"
   ]
  },
  {
   "cell_type": "code",
   "execution_count": 29,
   "id": "af4119d7",
   "metadata": {},
   "outputs": [],
   "source": [
    "p.reverse()"
   ]
  },
  {
   "cell_type": "code",
   "execution_count": 30,
   "id": "b3fc339b",
   "metadata": {},
   "outputs": [
    {
     "data": {
      "text/plain": [
       "['c++', 'java', 300, 200, 100, 'python']"
      ]
     },
     "execution_count": 30,
     "metadata": {},
     "output_type": "execute_result"
    }
   ],
   "source": [
    "p"
   ]
  },
  {
   "cell_type": "code",
   "execution_count": 34,
   "id": "8904566a",
   "metadata": {},
   "outputs": [],
   "source": [
    "p = [100,3,7,2,40,20,500,10]"
   ]
  },
  {
   "cell_type": "code",
   "execution_count": 32,
   "id": "1cc39139",
   "metadata": {},
   "outputs": [],
   "source": [
    "p.sort()"
   ]
  },
  {
   "cell_type": "code",
   "execution_count": 33,
   "id": "7b08c9e9",
   "metadata": {},
   "outputs": [
    {
     "data": {
      "text/plain": [
       "[2, 3, 7, 10, 20, 40, 100, 500]"
      ]
     },
     "execution_count": 33,
     "metadata": {},
     "output_type": "execute_result"
    }
   ],
   "source": [
    "p"
   ]
  },
  {
   "cell_type": "code",
   "execution_count": 35,
   "id": "0f637116",
   "metadata": {},
   "outputs": [],
   "source": [
    "p.sort(reverse=True)"
   ]
  },
  {
   "cell_type": "code",
   "execution_count": 36,
   "id": "a24f0cc8",
   "metadata": {},
   "outputs": [
    {
     "data": {
      "text/plain": [
       "[500, 100, 40, 20, 10, 7, 3, 2]"
      ]
     },
     "execution_count": 36,
     "metadata": {},
     "output_type": "execute_result"
    }
   ],
   "source": [
    "p"
   ]
  },
  {
   "cell_type": "code",
   "execution_count": 37,
   "id": "f3439279",
   "metadata": {},
   "outputs": [],
   "source": [
    "#p.count(element) --> no.of occurrence\n",
    "#copy()--- create a copy\n",
    "#reverse()--->list reverse\n",
    "#sort()----> sorting in asc\n",
    "#sort(reverse=True) ---> desc"
   ]
  },
  {
   "cell_type": "code",
   "execution_count": 38,
   "id": "0727d9d7",
   "metadata": {},
   "outputs": [],
   "source": []
  },
  {
   "cell_type": "code",
   "execution_count": null,
   "id": "06dc2549",
   "metadata": {},
   "outputs": [],
   "source": []
  },
  {
   "cell_type": "code",
   "execution_count": 41,
   "id": "d23d306f",
   "metadata": {},
   "outputs": [
    {
     "ename": "NameError",
     "evalue": "name 'reverse' is not defined",
     "output_type": "error",
     "traceback": [
      "\u001b[1;31m---------------------------------------------------------------------------\u001b[0m",
      "\u001b[1;31mNameError\u001b[0m                                 Traceback (most recent call last)",
      "\u001b[1;32m<ipython-input-41-b0c0b6c4d350>\u001b[0m in \u001b[0;36m<module>\u001b[1;34m\u001b[0m\n\u001b[1;32m----> 1\u001b[1;33m \u001b[0mp\u001b[0m\u001b[1;33m.\u001b[0m\u001b[0msort\u001b[0m\u001b[1;33m(\u001b[0m\u001b[0mreverse\u001b[0m\u001b[1;33m)\u001b[0m\u001b[1;33m\u001b[0m\u001b[1;33m\u001b[0m\u001b[0m\n\u001b[0m",
      "\u001b[1;31mNameError\u001b[0m: name 'reverse' is not defined"
     ]
    }
   ],
   "source": [
    "p.sort(reverse)"
   ]
  },
  {
   "cell_type": "code",
   "execution_count": 42,
   "id": "3ae5e4c5",
   "metadata": {},
   "outputs": [
    {
     "ename": "NameError",
     "evalue": "name 'reverse' is not defined",
     "output_type": "error",
     "traceback": [
      "\u001b[1;31m---------------------------------------------------------------------------\u001b[0m",
      "\u001b[1;31mNameError\u001b[0m                                 Traceback (most recent call last)",
      "\u001b[1;32m<ipython-input-42-cad704012513>\u001b[0m in \u001b[0;36m<module>\u001b[1;34m\u001b[0m\n\u001b[1;32m----> 1\u001b[1;33m \u001b[0mreverse\u001b[0m\u001b[1;33m(\u001b[0m\u001b[0mp\u001b[0m\u001b[1;33m.\u001b[0m\u001b[0msort\u001b[0m\u001b[1;33m)\u001b[0m\u001b[1;33m\u001b[0m\u001b[1;33m\u001b[0m\u001b[0m\n\u001b[0m",
      "\u001b[1;31mNameError\u001b[0m: name 'reverse' is not defined"
     ]
    }
   ],
   "source": [
    "reverse(p.sort)"
   ]
  },
  {
   "cell_type": "code",
   "execution_count": 43,
   "id": "7f34f382",
   "metadata": {},
   "outputs": [],
   "source": [
    "# list miner operation"
   ]
  },
  {
   "cell_type": "code",
   "execution_count": 44,
   "id": "2436ecbc",
   "metadata": {},
   "outputs": [
    {
     "data": {
      "text/plain": [
       "[500, 100, 40, 20, 10, 7, 3, 2]"
      ]
     },
     "execution_count": 44,
     "metadata": {},
     "output_type": "execute_result"
    }
   ],
   "source": [
    "p"
   ]
  },
  {
   "cell_type": "code",
   "execution_count": 45,
   "id": "7bc74976",
   "metadata": {},
   "outputs": [
    {
     "data": {
      "text/plain": [
       "2"
      ]
     },
     "execution_count": 45,
     "metadata": {},
     "output_type": "execute_result"
    }
   ],
   "source": [
    "min(p)"
   ]
  },
  {
   "cell_type": "code",
   "execution_count": 46,
   "id": "ea2d7a4f",
   "metadata": {},
   "outputs": [
    {
     "data": {
      "text/plain": [
       "500"
      ]
     },
     "execution_count": 46,
     "metadata": {},
     "output_type": "execute_result"
    }
   ],
   "source": [
    "max(p)"
   ]
  },
  {
   "cell_type": "code",
   "execution_count": 47,
   "id": "eb07bd68",
   "metadata": {},
   "outputs": [
    {
     "data": {
      "text/plain": [
       "8"
      ]
     },
     "execution_count": 47,
     "metadata": {},
     "output_type": "execute_result"
    }
   ],
   "source": [
    "len(p)"
   ]
  },
  {
   "cell_type": "code",
   "execution_count": 50,
   "id": "c5599b94",
   "metadata": {},
   "outputs": [
    {
     "data": {
      "text/plain": [
       "682"
      ]
     },
     "execution_count": 50,
     "metadata": {},
     "output_type": "execute_result"
    }
   ],
   "source": [
    "sum(p)"
   ]
  },
  {
   "cell_type": "code",
   "execution_count": null,
   "id": "7f0b59c6",
   "metadata": {},
   "outputs": [],
   "source": []
  }
 ],
 "metadata": {
  "kernelspec": {
   "display_name": "Python 3",
   "language": "python",
   "name": "python3"
  },
  "language_info": {
   "codemirror_mode": {
    "name": "ipython",
    "version": 3
   },
   "file_extension": ".py",
   "mimetype": "text/x-python",
   "name": "python",
   "nbconvert_exporter": "python",
   "pygments_lexer": "ipython3",
   "version": "3.8.8"
  }
 },
 "nbformat": 4,
 "nbformat_minor": 5
}
