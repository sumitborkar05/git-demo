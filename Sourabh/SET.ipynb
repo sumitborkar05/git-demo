{
 "cells": [
  {
   "cell_type": "code",
   "execution_count": 1,
   "id": "f6fab6bb",
   "metadata": {},
   "outputs": [],
   "source": [
    "#set {at least one element}"
   ]
  },
  {
   "cell_type": "code",
   "execution_count": null,
   "id": "c1679582",
   "metadata": {},
   "outputs": [],
   "source": [
    "1.Set is collection of unique elements\n",
    "2.set is unordred DS so that we cannt apply indexing\n",
    "3.it is mutable type\n",
    "4.empty set will be created  by using set method,"
   ]
  },
  {
   "cell_type": "code",
   "execution_count": null,
   "id": "5ad57c87",
   "metadata": {},
   "outputs": [],
   "source": []
  },
  {
   "cell_type": "code",
   "execution_count": null,
   "id": "4e710737",
   "metadata": {},
   "outputs": [],
   "source": [
    "ordered------ p = [1,2,3]--->strored [1,2,3]-->index\n",
    "\n",
    "\n",
    "unordred p = {1,2,4,6} == {4,2,6,1}-->unorder"
   ]
  },
  {
   "cell_type": "code",
   "execution_count": 2,
   "id": "d0f772c0",
   "metadata": {},
   "outputs": [],
   "source": [
    "py_list = [20,'python','java',40,1,4,6]"
   ]
  },
  {
   "cell_type": "code",
   "execution_count": 3,
   "id": "b69bd8a9",
   "metadata": {},
   "outputs": [
    {
     "data": {
      "text/plain": [
       "list"
      ]
     },
     "execution_count": 3,
     "metadata": {},
     "output_type": "execute_result"
    }
   ],
   "source": [
    "type(py_list)"
   ]
  },
  {
   "cell_type": "code",
   "execution_count": 4,
   "id": "f43b2668",
   "metadata": {},
   "outputs": [],
   "source": [
    "py_set = { 20,'python','java',40,1,4,6}"
   ]
  },
  {
   "cell_type": "code",
   "execution_count": 5,
   "id": "34c9f7a1",
   "metadata": {},
   "outputs": [
    {
     "data": {
      "text/plain": [
       "{1, 20, 4, 40, 6, 'java', 'python'}"
      ]
     },
     "execution_count": 5,
     "metadata": {},
     "output_type": "execute_result"
    }
   ],
   "source": [
    "py_set"
   ]
  },
  {
   "cell_type": "code",
   "execution_count": 6,
   "id": "92f1d199",
   "metadata": {},
   "outputs": [
    {
     "data": {
      "text/plain": [
       "[20, 'python', 'java', 40, 1, 4, 6]"
      ]
     },
     "execution_count": 6,
     "metadata": {},
     "output_type": "execute_result"
    }
   ],
   "source": [
    "py_list"
   ]
  },
  {
   "cell_type": "code",
   "execution_count": 7,
   "id": "bbf83785",
   "metadata": {},
   "outputs": [],
   "source": [
    "#how to creat set"
   ]
  },
  {
   "cell_type": "code",
   "execution_count": 8,
   "id": "f6ff928e",
   "metadata": {},
   "outputs": [],
   "source": [
    "var = {}"
   ]
  },
  {
   "cell_type": "code",
   "execution_count": 9,
   "id": "7afd9910",
   "metadata": {},
   "outputs": [
    {
     "data": {
      "text/plain": [
       "dict"
      ]
     },
     "execution_count": 9,
     "metadata": {},
     "output_type": "execute_result"
    }
   ],
   "source": [
    "type(var)"
   ]
  },
  {
   "cell_type": "code",
   "execution_count": 10,
   "id": "df0a601f",
   "metadata": {},
   "outputs": [],
   "source": [
    "py_list = []"
   ]
  },
  {
   "cell_type": "code",
   "execution_count": 11,
   "id": "a3bb76e5",
   "metadata": {},
   "outputs": [
    {
     "data": {
      "text/plain": [
       "list"
      ]
     },
     "execution_count": 11,
     "metadata": {},
     "output_type": "execute_result"
    }
   ],
   "source": [
    "type(py_list)"
   ]
  },
  {
   "cell_type": "code",
   "execution_count": 12,
   "id": "9775ca9c",
   "metadata": {},
   "outputs": [],
   "source": [
    "py_tuple = ()"
   ]
  },
  {
   "cell_type": "code",
   "execution_count": 13,
   "id": "159e4359",
   "metadata": {},
   "outputs": [
    {
     "data": {
      "text/plain": [
       "tuple"
      ]
     },
     "execution_count": 13,
     "metadata": {},
     "output_type": "execute_result"
    }
   ],
   "source": [
    "type(py_tuple)"
   ]
  },
  {
   "cell_type": "code",
   "execution_count": 14,
   "id": "3a10fb7c",
   "metadata": {},
   "outputs": [],
   "source": [
    "#creation of DS in python\n",
    "1.by using symbol\n",
    "2.by using methods"
   ]
  },
  {
   "cell_type": "code",
   "execution_count": 15,
   "id": "1c7cf64b",
   "metadata": {},
   "outputs": [],
   "source": [
    "p = []"
   ]
  },
  {
   "cell_type": "code",
   "execution_count": 16,
   "id": "83703960",
   "metadata": {},
   "outputs": [
    {
     "data": {
      "text/plain": [
       "list"
      ]
     },
     "execution_count": 16,
     "metadata": {},
     "output_type": "execute_result"
    }
   ],
   "source": [
    "type(p)"
   ]
  },
  {
   "cell_type": "code",
   "execution_count": 17,
   "id": "d396235b",
   "metadata": {},
   "outputs": [],
   "source": [
    "p = ()"
   ]
  },
  {
   "cell_type": "code",
   "execution_count": 18,
   "id": "8a41041d",
   "metadata": {},
   "outputs": [
    {
     "data": {
      "text/plain": [
       "tuple"
      ]
     },
     "execution_count": 18,
     "metadata": {},
     "output_type": "execute_result"
    }
   ],
   "source": [
    "type(p)"
   ]
  },
  {
   "cell_type": "code",
   "execution_count": 19,
   "id": "a9384f66",
   "metadata": {},
   "outputs": [],
   "source": [
    "p = {}"
   ]
  },
  {
   "cell_type": "code",
   "execution_count": 20,
   "id": "d87a0b17",
   "metadata": {},
   "outputs": [
    {
     "data": {
      "text/plain": [
       "dict"
      ]
     },
     "execution_count": 20,
     "metadata": {},
     "output_type": "execute_result"
    }
   ],
   "source": [
    "type(p)"
   ]
  },
  {
   "cell_type": "code",
   "execution_count": 21,
   "id": "b20a3ae8",
   "metadata": {},
   "outputs": [],
   "source": [
    "py = list()"
   ]
  },
  {
   "cell_type": "code",
   "execution_count": 22,
   "id": "d6937ecb",
   "metadata": {},
   "outputs": [
    {
     "data": {
      "text/plain": [
       "list"
      ]
     },
     "execution_count": 22,
     "metadata": {},
     "output_type": "execute_result"
    }
   ],
   "source": [
    "type(py)"
   ]
  },
  {
   "cell_type": "code",
   "execution_count": 23,
   "id": "c1a59b96",
   "metadata": {},
   "outputs": [],
   "source": [
    "py = tuple()"
   ]
  },
  {
   "cell_type": "code",
   "execution_count": 24,
   "id": "90e4fedb",
   "metadata": {},
   "outputs": [
    {
     "data": {
      "text/plain": [
       "tuple"
      ]
     },
     "execution_count": 24,
     "metadata": {},
     "output_type": "execute_result"
    }
   ],
   "source": [
    "type(py)"
   ]
  },
  {
   "cell_type": "code",
   "execution_count": 25,
   "id": "3105ebec",
   "metadata": {},
   "outputs": [],
   "source": [
    "py = set()"
   ]
  },
  {
   "cell_type": "code",
   "execution_count": 26,
   "id": "0b57d7e3",
   "metadata": {},
   "outputs": [
    {
     "data": {
      "text/plain": [
       "set"
      ]
     },
     "execution_count": 26,
     "metadata": {},
     "output_type": "execute_result"
    }
   ],
   "source": [
    "type(py)"
   ]
  },
  {
   "cell_type": "code",
   "execution_count": 27,
   "id": "6ca01373",
   "metadata": {},
   "outputs": [
    {
     "data": {
      "text/plain": [
       "set()"
      ]
     },
     "execution_count": 27,
     "metadata": {},
     "output_type": "execute_result"
    }
   ],
   "source": [
    "py"
   ]
  },
  {
   "cell_type": "code",
   "execution_count": 28,
   "id": "6c1b5688",
   "metadata": {},
   "outputs": [],
   "source": [
    "py = dict()"
   ]
  },
  {
   "cell_type": "code",
   "execution_count": 29,
   "id": "16d32569",
   "metadata": {},
   "outputs": [
    {
     "data": {
      "text/plain": [
       "dict"
      ]
     },
     "execution_count": 29,
     "metadata": {},
     "output_type": "execute_result"
    }
   ],
   "source": [
    "type(py)"
   ]
  },
  {
   "cell_type": "code",
   "execution_count": 30,
   "id": "c8ab0efb",
   "metadata": {},
   "outputs": [],
   "source": [
    "py = frozenset()"
   ]
  },
  {
   "cell_type": "code",
   "execution_count": 31,
   "id": "b25b0f39",
   "metadata": {},
   "outputs": [
    {
     "data": {
      "text/plain": [
       "frozenset"
      ]
     },
     "execution_count": 31,
     "metadata": {},
     "output_type": "execute_result"
    }
   ],
   "source": [
    "type(py)"
   ]
  },
  {
   "cell_type": "code",
   "execution_count": 32,
   "id": "ad76eca9",
   "metadata": {},
   "outputs": [],
   "source": [
    "py = {1,1,1,1,1,1,2,3,4,5,5,5,5,5,5,5,5,5,5,6,7,8}"
   ]
  },
  {
   "cell_type": "code",
   "execution_count": 33,
   "id": "afc699ae",
   "metadata": {},
   "outputs": [
    {
     "data": {
      "text/plain": [
       "{1, 2, 3, 4, 5, 6, 7, 8}"
      ]
     },
     "execution_count": 33,
     "metadata": {},
     "output_type": "execute_result"
    }
   ],
   "source": [
    "py"
   ]
  },
  {
   "cell_type": "code",
   "execution_count": 34,
   "id": "b7236fac",
   "metadata": {},
   "outputs": [],
   "source": [
    "p = [1,2,3]"
   ]
  },
  {
   "cell_type": "code",
   "execution_count": 35,
   "id": "30013e52",
   "metadata": {},
   "outputs": [],
   "source": [
    "p.insert(2,600)"
   ]
  },
  {
   "cell_type": "code",
   "execution_count": 36,
   "id": "c00bc8af",
   "metadata": {},
   "outputs": [
    {
     "data": {
      "text/plain": [
       "[1, 2, 600, 3]"
      ]
     },
     "execution_count": 36,
     "metadata": {},
     "output_type": "execute_result"
    }
   ],
   "source": [
    "p"
   ]
  },
  {
   "cell_type": "code",
   "execution_count": 37,
   "id": "f1fc8c2c",
   "metadata": {},
   "outputs": [],
   "source": [
    "p = (1,2,3)"
   ]
  },
  {
   "cell_type": "code",
   "execution_count": 38,
   "id": "6fc437d7",
   "metadata": {},
   "outputs": [
    {
     "ename": "AttributeError",
     "evalue": "'tuple' object has no attribute 'insert'",
     "output_type": "error",
     "traceback": [
      "\u001b[1;31m---------------------------------------------------------------------------\u001b[0m",
      "\u001b[1;31mAttributeError\u001b[0m                            Traceback (most recent call last)",
      "\u001b[1;32m<ipython-input-38-35e4a420efe1>\u001b[0m in \u001b[0;36m<module>\u001b[1;34m\u001b[0m\n\u001b[1;32m----> 1\u001b[1;33m \u001b[0mp\u001b[0m\u001b[1;33m.\u001b[0m\u001b[0minsert\u001b[0m\u001b[1;33m(\u001b[0m\u001b[1;36m2\u001b[0m\u001b[1;33m,\u001b[0m\u001b[1;36m700\u001b[0m\u001b[1;33m)\u001b[0m\u001b[1;33m\u001b[0m\u001b[1;33m\u001b[0m\u001b[0m\n\u001b[0m",
      "\u001b[1;31mAttributeError\u001b[0m: 'tuple' object has no attribute 'insert'"
     ]
    }
   ],
   "source": [
    "p.insert(2,700)"
   ]
  },
  {
   "cell_type": "code",
   "execution_count": 39,
   "id": "7c1a96bf",
   "metadata": {},
   "outputs": [],
   "source": [
    "py ={'python','java','c'}"
   ]
  },
  {
   "cell_type": "code",
   "execution_count": 40,
   "id": "1ea1c703",
   "metadata": {},
   "outputs": [
    {
     "data": {
      "text/plain": [
       "{'c', 'java', 'python'}"
      ]
     },
     "execution_count": 40,
     "metadata": {},
     "output_type": "execute_result"
    }
   ],
   "source": [
    "py"
   ]
  },
  {
   "cell_type": "code",
   "execution_count": 41,
   "id": "98fb41e1",
   "metadata": {},
   "outputs": [],
   "source": [
    "py.add('Hadoop')"
   ]
  },
  {
   "cell_type": "code",
   "execution_count": 42,
   "id": "95a6e4f4",
   "metadata": {},
   "outputs": [
    {
     "data": {
      "text/plain": [
       "{'Hadoop', 'c', 'java', 'python'}"
      ]
     },
     "execution_count": 42,
     "metadata": {},
     "output_type": "execute_result"
    }
   ],
   "source": [
    "py"
   ]
  },
  {
   "cell_type": "code",
   "execution_count": 43,
   "id": "d1026cb2",
   "metadata": {},
   "outputs": [
    {
     "ename": "TypeError",
     "evalue": "'set' object is not subscriptable",
     "output_type": "error",
     "traceback": [
      "\u001b[1;31m---------------------------------------------------------------------------\u001b[0m",
      "\u001b[1;31mTypeError\u001b[0m                                 Traceback (most recent call last)",
      "\u001b[1;32m<ipython-input-43-b28f115b64fc>\u001b[0m in \u001b[0;36m<module>\u001b[1;34m\u001b[0m\n\u001b[1;32m----> 1\u001b[1;33m \u001b[0mpy\u001b[0m\u001b[1;33m[\u001b[0m\u001b[1;36m1\u001b[0m\u001b[1;33m]\u001b[0m\u001b[1;33m\u001b[0m\u001b[1;33m\u001b[0m\u001b[0m\n\u001b[0m",
      "\u001b[1;31mTypeError\u001b[0m: 'set' object is not subscriptable"
     ]
    }
   ],
   "source": [
    "py[1]"
   ]
  },
  {
   "cell_type": "code",
   "execution_count": null,
   "id": "b61e19f9",
   "metadata": {},
   "outputs": [],
   "source": [
    "DS -- mutable/changable/unhashable\n",
    "insert\n",
    "delete\n",
    "update "
   ]
  },
  {
   "cell_type": "code",
   "execution_count": null,
   "id": "23240939",
   "metadata": {},
   "outputs": [],
   "source": [
    "DS/immutable/unchangable/hashable\n",
    "read only"
   ]
  },
  {
   "cell_type": "code",
   "execution_count": 44,
   "id": "a22e6921",
   "metadata": {},
   "outputs": [],
   "source": [
    "py_tuple = (1,'python','c')"
   ]
  },
  {
   "cell_type": "code",
   "execution_count": 45,
   "id": "168d7c48",
   "metadata": {},
   "outputs": [
    {
     "ename": "AttributeError",
     "evalue": "'tuple' object has no attribute 'insert'",
     "output_type": "error",
     "traceback": [
      "\u001b[1;31m---------------------------------------------------------------------------\u001b[0m",
      "\u001b[1;31mAttributeError\u001b[0m                            Traceback (most recent call last)",
      "\u001b[1;32m<ipython-input-45-6ad76fd34136>\u001b[0m in \u001b[0;36m<module>\u001b[1;34m\u001b[0m\n\u001b[1;32m----> 1\u001b[1;33m \u001b[0mpy_tuple\u001b[0m\u001b[1;33m.\u001b[0m\u001b[0minsert\u001b[0m\u001b[1;33m(\u001b[0m\u001b[1;36m2\u001b[0m\u001b[1;33m,\u001b[0m\u001b[1;36m500\u001b[0m\u001b[1;33m)\u001b[0m\u001b[1;33m\u001b[0m\u001b[1;33m\u001b[0m\u001b[0m\n\u001b[0m",
      "\u001b[1;31mAttributeError\u001b[0m: 'tuple' object has no attribute 'insert'"
     ]
    }
   ],
   "source": [
    "py_tuple.insert(2,500)"
   ]
  },
  {
   "cell_type": "code",
   "execution_count": 46,
   "id": "83fe92dd",
   "metadata": {},
   "outputs": [],
   "source": [
    "py_list = [1,2,'python','c','c++']"
   ]
  },
  {
   "cell_type": "code",
   "execution_count": 47,
   "id": "266b8d28",
   "metadata": {},
   "outputs": [],
   "source": [
    "py_list.insert(4,'java')"
   ]
  },
  {
   "cell_type": "code",
   "execution_count": 48,
   "id": "4b4ae2b2",
   "metadata": {},
   "outputs": [
    {
     "data": {
      "text/plain": [
       "[1, 2, 'python', 'c', 'java', 'c++']"
      ]
     },
     "execution_count": 48,
     "metadata": {},
     "output_type": "execute_result"
    }
   ],
   "source": [
    "py_list"
   ]
  },
  {
   "cell_type": "code",
   "execution_count": 49,
   "id": "3ece56f3",
   "metadata": {},
   "outputs": [],
   "source": [
    "py_list.remove('c')"
   ]
  },
  {
   "cell_type": "code",
   "execution_count": 50,
   "id": "490edde5",
   "metadata": {},
   "outputs": [
    {
     "data": {
      "text/plain": [
       "[1, 2, 'python', 'java', 'c++']"
      ]
     },
     "execution_count": 50,
     "metadata": {},
     "output_type": "execute_result"
    }
   ],
   "source": [
    "py_list"
   ]
  },
  {
   "cell_type": "code",
   "execution_count": null,
   "id": "9e5b997c",
   "metadata": {},
   "outputs": [],
   "source": [
    "#How to create set\n",
    "#what is mutable and immutable\n",
    "#unorder"
   ]
  },
  {
   "cell_type": "code",
   "execution_count": null,
   "id": "7a9b5fcc",
   "metadata": {},
   "outputs": [],
   "source": []
  },
  {
   "cell_type": "code",
   "execution_count": 51,
   "id": "c035b9b7",
   "metadata": {},
   "outputs": [],
   "source": [
    "p = {1,2,3,(100,200,300)}"
   ]
  },
  {
   "cell_type": "code",
   "execution_count": 52,
   "id": "89c14521",
   "metadata": {},
   "outputs": [
    {
     "data": {
      "text/plain": [
       "{(100, 200, 300), 1, 2, 3}"
      ]
     },
     "execution_count": 52,
     "metadata": {},
     "output_type": "execute_result"
    }
   ],
   "source": [
    "p"
   ]
  },
  {
   "cell_type": "code",
   "execution_count": 53,
   "id": "be418e16",
   "metadata": {},
   "outputs": [
    {
     "ename": "TypeError",
     "evalue": "unhashable type: 'list'",
     "output_type": "error",
     "traceback": [
      "\u001b[1;31m---------------------------------------------------------------------------\u001b[0m",
      "\u001b[1;31mTypeError\u001b[0m                                 Traceback (most recent call last)",
      "\u001b[1;32m<ipython-input-53-6e58785723bf>\u001b[0m in \u001b[0;36m<module>\u001b[1;34m\u001b[0m\n\u001b[1;32m----> 1\u001b[1;33m \u001b[0mp\u001b[0m \u001b[1;33m=\u001b[0m \u001b[1;33m{\u001b[0m\u001b[1;36m1\u001b[0m\u001b[1;33m,\u001b[0m\u001b[1;36m2\u001b[0m\u001b[1;33m,\u001b[0m\u001b[1;36m3\u001b[0m\u001b[1;33m,\u001b[0m\u001b[1;33m[\u001b[0m\u001b[1;36m100\u001b[0m\u001b[1;33m,\u001b[0m\u001b[1;36m200\u001b[0m\u001b[1;33m,\u001b[0m\u001b[1;36m300\u001b[0m\u001b[1;33m]\u001b[0m\u001b[1;33m}\u001b[0m\u001b[1;33m\u001b[0m\u001b[1;33m\u001b[0m\u001b[0m\n\u001b[0m",
      "\u001b[1;31mTypeError\u001b[0m: unhashable type: 'list'"
     ]
    }
   ],
   "source": [
    "p = {1,2,3,[100,200,300]}"
   ]
  },
  {
   "cell_type": "code",
   "execution_count": 100,
   "id": "022e07e9",
   "metadata": {},
   "outputs": [],
   "source": [
    "s = {'python',100,2,'java',10.5,1,1,1,True,0,0,0,0,False,}"
   ]
  },
  {
   "cell_type": "code",
   "execution_count": 65,
   "id": "29e8466d",
   "metadata": {},
   "outputs": [
    {
     "data": {
      "text/plain": [
       "{0, 1, 10.5, 100, 2, 'java', 'python'}"
      ]
     },
     "execution_count": 65,
     "metadata": {},
     "output_type": "execute_result"
    }
   ],
   "source": [
    "s"
   ]
  },
  {
   "cell_type": "code",
   "execution_count": null,
   "id": "033f3037",
   "metadata": {},
   "outputs": [],
   "source": []
  },
  {
   "cell_type": "code",
   "execution_count": null,
   "id": "4ba4faaa",
   "metadata": {},
   "outputs": [],
   "source": [
    "#addition\n",
    "1.add-----add single element\n",
    "2.update --- add multiple element"
   ]
  },
  {
   "cell_type": "code",
   "execution_count": 56,
   "id": "baf2228c",
   "metadata": {},
   "outputs": [
    {
     "data": {
      "text/plain": [
       "{1, 10.5, 100, 2, False, 'java', 'python'}"
      ]
     },
     "execution_count": 56,
     "metadata": {},
     "output_type": "execute_result"
    }
   ],
   "source": [
    "s"
   ]
  },
  {
   "cell_type": "code",
   "execution_count": 57,
   "id": "c2d6d388",
   "metadata": {},
   "outputs": [],
   "source": [
    "s.add('pyspark')"
   ]
  },
  {
   "cell_type": "code",
   "execution_count": 58,
   "id": "89245308",
   "metadata": {},
   "outputs": [
    {
     "data": {
      "text/plain": [
       "{1, 10.5, 100, 2, False, 'java', 'pyspark', 'python'}"
      ]
     },
     "execution_count": 58,
     "metadata": {},
     "output_type": "execute_result"
    }
   ],
   "source": [
    "s"
   ]
  },
  {
   "cell_type": "code",
   "execution_count": 60,
   "id": "0afebc74",
   "metadata": {},
   "outputs": [
    {
     "data": {
      "text/plain": [
       "bool"
      ]
     },
     "execution_count": 60,
     "metadata": {},
     "output_type": "execute_result"
    }
   ],
   "source": [
    "bool"
   ]
  },
  {
   "cell_type": "code",
   "execution_count": 66,
   "id": "25c69c85",
   "metadata": {},
   "outputs": [
    {
     "data": {
      "text/plain": [
       "{0, 1, 10.5, 100, 2, 'java', 'python'}"
      ]
     },
     "execution_count": 66,
     "metadata": {},
     "output_type": "execute_result"
    }
   ],
   "source": [
    "s"
   ]
  },
  {
   "cell_type": "code",
   "execution_count": 67,
   "id": "6008c4f4",
   "metadata": {},
   "outputs": [],
   "source": [
    "s.update({100,200,300,400,500})"
   ]
  },
  {
   "cell_type": "code",
   "execution_count": 68,
   "id": "774c07ac",
   "metadata": {},
   "outputs": [
    {
     "data": {
      "text/plain": [
       "{0, 1, 10.5, 100, 2, 200, 300, 400, 500, 'java', 'python'}"
      ]
     },
     "execution_count": 68,
     "metadata": {},
     "output_type": "execute_result"
    }
   ],
   "source": [
    "s"
   ]
  },
  {
   "cell_type": "code",
   "execution_count": null,
   "id": "7b651ad0",
   "metadata": {},
   "outputs": [],
   "source": []
  },
  {
   "cell_type": "code",
   "execution_count": 73,
   "id": "3a224bbe",
   "metadata": {},
   "outputs": [],
   "source": [
    "s1 = {1,2,3}"
   ]
  },
  {
   "cell_type": "code",
   "execution_count": 74,
   "id": "a06182b6",
   "metadata": {},
   "outputs": [],
   "source": [
    "s2 = {'python','java','c'}"
   ]
  },
  {
   "cell_type": "code",
   "execution_count": 75,
   "id": "b227204c",
   "metadata": {},
   "outputs": [],
   "source": [
    "s2.update(s1)"
   ]
  },
  {
   "cell_type": "code",
   "execution_count": 77,
   "id": "130a5cd3",
   "metadata": {},
   "outputs": [
    {
     "data": {
      "text/plain": [
       "{1, 2, 3, 'c', 'java', 'python'}"
      ]
     },
     "execution_count": 77,
     "metadata": {},
     "output_type": "execute_result"
    }
   ],
   "source": [
    "s2"
   ]
  },
  {
   "cell_type": "code",
   "execution_count": 78,
   "id": "50ab2dfc",
   "metadata": {},
   "outputs": [],
   "source": [
    "#how to delete element from set\n",
    "1.pop\n",
    "2.remove\n",
    "3.discard"
   ]
  },
  {
   "cell_type": "code",
   "execution_count": 80,
   "id": "6958f383",
   "metadata": {},
   "outputs": [
    {
     "data": {
      "text/plain": [
       "'\\nremove                               \\nif element present then delete it ,if not then it will return KeyError\\n\\ndiscard\\nif element present then delete it,if not then it will skip the step\\n'"
      ]
     },
     "execution_count": 80,
     "metadata": {},
     "output_type": "execute_result"
    }
   ],
   "source": [
    "'''\n",
    "remove                               \n",
    "if element present then delete it ,if not then it will return KeyError\n",
    "\n",
    "discard\n",
    "if element present then delete it,if not then it will skip the step\n",
    "'''"
   ]
  },
  {
   "cell_type": "code",
   "execution_count": 81,
   "id": "ec497f82",
   "metadata": {},
   "outputs": [
    {
     "data": {
      "text/plain": [
       "{1, 2, 3}"
      ]
     },
     "execution_count": 81,
     "metadata": {},
     "output_type": "execute_result"
    }
   ],
   "source": [
    "s1"
   ]
  },
  {
   "cell_type": "code",
   "execution_count": 82,
   "id": "b19400b2",
   "metadata": {},
   "outputs": [
    {
     "data": {
      "text/plain": [
       "{1, 2, 3, 'c', 'java', 'python'}"
      ]
     },
     "execution_count": 82,
     "metadata": {},
     "output_type": "execute_result"
    }
   ],
   "source": [
    "s2"
   ]
  },
  {
   "cell_type": "code",
   "execution_count": 83,
   "id": "1942846d",
   "metadata": {},
   "outputs": [],
   "source": [
    "s2.remove('java')"
   ]
  },
  {
   "cell_type": "code",
   "execution_count": 84,
   "id": "8e874d7a",
   "metadata": {},
   "outputs": [
    {
     "data": {
      "text/plain": [
       "{1, 2, 3, 'c', 'python'}"
      ]
     },
     "execution_count": 84,
     "metadata": {},
     "output_type": "execute_result"
    }
   ],
   "source": [
    "s2"
   ]
  },
  {
   "cell_type": "code",
   "execution_count": 85,
   "id": "e77c0215",
   "metadata": {},
   "outputs": [
    {
     "ename": "KeyError",
     "evalue": "'hadoop'",
     "output_type": "error",
     "traceback": [
      "\u001b[1;31m---------------------------------------------------------------------------\u001b[0m",
      "\u001b[1;31mKeyError\u001b[0m                                  Traceback (most recent call last)",
      "\u001b[1;32m<ipython-input-85-73f3b76624df>\u001b[0m in \u001b[0;36m<module>\u001b[1;34m\u001b[0m\n\u001b[1;32m----> 1\u001b[1;33m \u001b[0ms2\u001b[0m\u001b[1;33m.\u001b[0m\u001b[0mremove\u001b[0m\u001b[1;33m(\u001b[0m\u001b[1;34m'hadoop'\u001b[0m\u001b[1;33m)\u001b[0m\u001b[1;33m\u001b[0m\u001b[1;33m\u001b[0m\u001b[0m\n\u001b[0m",
      "\u001b[1;31mKeyError\u001b[0m: 'hadoop'"
     ]
    }
   ],
   "source": [
    "s2.remove('hadoop')"
   ]
  },
  {
   "cell_type": "code",
   "execution_count": 86,
   "id": "a8c6e95b",
   "metadata": {},
   "outputs": [
    {
     "data": {
      "text/plain": [
       "{1, 2, 3, 'c', 'python'}"
      ]
     },
     "execution_count": 86,
     "metadata": {},
     "output_type": "execute_result"
    }
   ],
   "source": [
    "s2"
   ]
  },
  {
   "cell_type": "code",
   "execution_count": 87,
   "id": "9622ee8e",
   "metadata": {},
   "outputs": [],
   "source": [
    "s2.discard('c')"
   ]
  },
  {
   "cell_type": "code",
   "execution_count": 88,
   "id": "1c1f64c7",
   "metadata": {},
   "outputs": [
    {
     "data": {
      "text/plain": [
       "{1, 2, 3, 'python'}"
      ]
     },
     "execution_count": 88,
     "metadata": {},
     "output_type": "execute_result"
    }
   ],
   "source": [
    "s2"
   ]
  },
  {
   "cell_type": "code",
   "execution_count": 89,
   "id": "b482f4ea",
   "metadata": {},
   "outputs": [],
   "source": [
    "s2.discard(1000)"
   ]
  },
  {
   "cell_type": "code",
   "execution_count": 90,
   "id": "c43d27fc",
   "metadata": {},
   "outputs": [
    {
     "data": {
      "text/plain": [
       "{1, 2, 3, 'python'}"
      ]
     },
     "execution_count": 90,
     "metadata": {},
     "output_type": "execute_result"
    }
   ],
   "source": [
    "s2"
   ]
  },
  {
   "cell_type": "code",
   "execution_count": 91,
   "id": "3463bdfe",
   "metadata": {},
   "outputs": [
    {
     "data": {
      "text/plain": [
       "1"
      ]
     },
     "execution_count": 91,
     "metadata": {},
     "output_type": "execute_result"
    }
   ],
   "source": [
    "s2.pop()"
   ]
  },
  {
   "cell_type": "code",
   "execution_count": 92,
   "id": "4bce76d4",
   "metadata": {},
   "outputs": [
    {
     "data": {
      "text/plain": [
       "2"
      ]
     },
     "execution_count": 92,
     "metadata": {},
     "output_type": "execute_result"
    }
   ],
   "source": [
    "s2.pop()"
   ]
  },
  {
   "cell_type": "code",
   "execution_count": 93,
   "id": "b957c3da",
   "metadata": {},
   "outputs": [
    {
     "data": {
      "text/plain": [
       "3"
      ]
     },
     "execution_count": 93,
     "metadata": {},
     "output_type": "execute_result"
    }
   ],
   "source": [
    "s2.pop()"
   ]
  },
  {
   "cell_type": "code",
   "execution_count": 94,
   "id": "fba62584",
   "metadata": {},
   "outputs": [
    {
     "data": {
      "text/plain": [
       "'python'"
      ]
     },
     "execution_count": 94,
     "metadata": {},
     "output_type": "execute_result"
    }
   ],
   "source": [
    "s2.pop()"
   ]
  },
  {
   "cell_type": "code",
   "execution_count": 95,
   "id": "65a5053f",
   "metadata": {},
   "outputs": [
    {
     "ename": "KeyError",
     "evalue": "'pop from an empty set'",
     "output_type": "error",
     "traceback": [
      "\u001b[1;31m---------------------------------------------------------------------------\u001b[0m",
      "\u001b[1;31mKeyError\u001b[0m                                  Traceback (most recent call last)",
      "\u001b[1;32m<ipython-input-95-46ac62cf0fd1>\u001b[0m in \u001b[0;36m<module>\u001b[1;34m\u001b[0m\n\u001b[1;32m----> 1\u001b[1;33m \u001b[0ms2\u001b[0m\u001b[1;33m.\u001b[0m\u001b[0mpop\u001b[0m\u001b[1;33m(\u001b[0m\u001b[1;33m)\u001b[0m\u001b[1;33m\u001b[0m\u001b[1;33m\u001b[0m\u001b[0m\n\u001b[0m",
      "\u001b[1;31mKeyError\u001b[0m: 'pop from an empty set'"
     ]
    }
   ],
   "source": [
    "s2.pop()"
   ]
  },
  {
   "cell_type": "code",
   "execution_count": 97,
   "id": "b1bf1e7d",
   "metadata": {},
   "outputs": [
    {
     "data": {
      "text/plain": [
       "set()"
      ]
     },
     "execution_count": 97,
     "metadata": {},
     "output_type": "execute_result"
    }
   ],
   "source": [
    "s2"
   ]
  },
  {
   "cell_type": "code",
   "execution_count": 98,
   "id": "624b78c3",
   "metadata": {},
   "outputs": [
    {
     "data": {
      "text/plain": [
       "{0, 1, 10.5, 100, 2, 'java', 'python'}"
      ]
     },
     "execution_count": 98,
     "metadata": {},
     "output_type": "execute_result"
    }
   ],
   "source": [
    "s"
   ]
  },
  {
   "cell_type": "code",
   "execution_count": 99,
   "id": "60b3c4b4",
   "metadata": {},
   "outputs": [
    {
     "data": {
      "text/plain": [
       "{1, 2, 3}"
      ]
     },
     "execution_count": 99,
     "metadata": {},
     "output_type": "execute_result"
    }
   ],
   "source": [
    "s1"
   ]
  },
  {
   "cell_type": "code",
   "execution_count": 101,
   "id": "c3991780",
   "metadata": {},
   "outputs": [
    {
     "data": {
      "text/plain": [
       "{0, 1, 10.5, 100, 2, 'java', 'python'}"
      ]
     },
     "execution_count": 101,
     "metadata": {},
     "output_type": "execute_result"
    }
   ],
   "source": [
    "s"
   ]
  },
  {
   "cell_type": "code",
   "execution_count": 102,
   "id": "ba83ab9d",
   "metadata": {},
   "outputs": [
    {
     "data": {
      "text/plain": [
       "0"
      ]
     },
     "execution_count": 102,
     "metadata": {},
     "output_type": "execute_result"
    }
   ],
   "source": [
    "s.pop()"
   ]
  },
  {
   "cell_type": "code",
   "execution_count": 103,
   "id": "474947da",
   "metadata": {},
   "outputs": [
    {
     "data": {
      "text/plain": [
       "1"
      ]
     },
     "execution_count": 103,
     "metadata": {},
     "output_type": "execute_result"
    }
   ],
   "source": [
    "s.pop()"
   ]
  },
  {
   "cell_type": "code",
   "execution_count": 104,
   "id": "65006489",
   "metadata": {},
   "outputs": [
    {
     "data": {
      "text/plain": [
       "2"
      ]
     },
     "execution_count": 104,
     "metadata": {},
     "output_type": "execute_result"
    }
   ],
   "source": [
    "s.pop()"
   ]
  },
  {
   "cell_type": "code",
   "execution_count": 105,
   "id": "852306fd",
   "metadata": {},
   "outputs": [
    {
     "data": {
      "text/plain": [
       "{10.5, 100, 'java', 'python'}"
      ]
     },
     "execution_count": 105,
     "metadata": {},
     "output_type": "execute_result"
    }
   ],
   "source": [
    "s"
   ]
  },
  {
   "cell_type": "code",
   "execution_count": 106,
   "id": "0989d0cb",
   "metadata": {},
   "outputs": [
    {
     "ename": "TypeError",
     "evalue": "pop() takes no arguments (1 given)",
     "output_type": "error",
     "traceback": [
      "\u001b[1;31m---------------------------------------------------------------------------\u001b[0m",
      "\u001b[1;31mTypeError\u001b[0m                                 Traceback (most recent call last)",
      "\u001b[1;32m<ipython-input-106-7a880ae733ae>\u001b[0m in \u001b[0;36m<module>\u001b[1;34m\u001b[0m\n\u001b[1;32m----> 1\u001b[1;33m \u001b[0ms\u001b[0m\u001b[1;33m.\u001b[0m\u001b[0mpop\u001b[0m\u001b[1;33m(\u001b[0m\u001b[1;36m100\u001b[0m\u001b[1;33m)\u001b[0m\u001b[1;33m\u001b[0m\u001b[1;33m\u001b[0m\u001b[0m\n\u001b[0m",
      "\u001b[1;31mTypeError\u001b[0m: pop() takes no arguments (1 given)"
     ]
    }
   ],
   "source": [
    "s.pop(100)"
   ]
  },
  {
   "cell_type": "code",
   "execution_count": 107,
   "id": "59fccfe0",
   "metadata": {},
   "outputs": [
    {
     "data": {
      "text/plain": [
       "{1, 2, 3}"
      ]
     },
     "execution_count": 107,
     "metadata": {},
     "output_type": "execute_result"
    }
   ],
   "source": [
    "s1"
   ]
  },
  {
   "cell_type": "code",
   "execution_count": 108,
   "id": "24d0608b",
   "metadata": {},
   "outputs": [
    {
     "data": {
      "text/plain": [
       "3"
      ]
     },
     "execution_count": 108,
     "metadata": {},
     "output_type": "execute_result"
    }
   ],
   "source": [
    "len(s1)"
   ]
  },
  {
   "cell_type": "code",
   "execution_count": 109,
   "id": "f8228271",
   "metadata": {},
   "outputs": [],
   "source": [
    "s = {'python','java','c','c++','hadoop'}"
   ]
  },
  {
   "cell_type": "code",
   "execution_count": 110,
   "id": "88bc807c",
   "metadata": {},
   "outputs": [
    {
     "data": {
      "text/plain": [
       "{'c', 'c++', 'hadoop', 'java', 'python'}"
      ]
     },
     "execution_count": 110,
     "metadata": {},
     "output_type": "execute_result"
    }
   ],
   "source": [
    "s"
   ]
  },
  {
   "cell_type": "code",
   "execution_count": 111,
   "id": "b67b927c",
   "metadata": {},
   "outputs": [],
   "source": [
    "temp = s.copy()"
   ]
  },
  {
   "cell_type": "code",
   "execution_count": 112,
   "id": "1e765e9d",
   "metadata": {},
   "outputs": [
    {
     "data": {
      "text/plain": [
       "{'c', 'c++', 'hadoop', 'java', 'python'}"
      ]
     },
     "execution_count": 112,
     "metadata": {},
     "output_type": "execute_result"
    }
   ],
   "source": [
    "temp"
   ]
  },
  {
   "cell_type": "code",
   "execution_count": 113,
   "id": "9e63a51c",
   "metadata": {},
   "outputs": [],
   "source": [
    "s.clear()"
   ]
  },
  {
   "cell_type": "code",
   "execution_count": 114,
   "id": "32ec1127",
   "metadata": {},
   "outputs": [
    {
     "data": {
      "text/plain": [
       "set()"
      ]
     },
     "execution_count": 114,
     "metadata": {},
     "output_type": "execute_result"
    }
   ],
   "source": [
    "s"
   ]
  },
  {
   "cell_type": "code",
   "execution_count": null,
   "id": "772e965e",
   "metadata": {},
   "outputs": [],
   "source": [
    "#add\n",
    "#update\n",
    "#remove\n",
    "#pop\n",
    "#discard\n",
    "#len\n",
    "#clear\n",
    "#copy"
   ]
  },
  {
   "cell_type": "code",
   "execution_count": null,
   "id": "a791eef8",
   "metadata": {},
   "outputs": [],
   "source": []
  },
  {
   "cell_type": "code",
   "execution_count": 115,
   "id": "80130578",
   "metadata": {},
   "outputs": [],
   "source": [
    "p = {1,2,3,4,5,6}"
   ]
  },
  {
   "cell_type": "code",
   "execution_count": 116,
   "id": "b080fcd4",
   "metadata": {},
   "outputs": [],
   "source": [
    "p1 = p.copy()"
   ]
  },
  {
   "cell_type": "code",
   "execution_count": 117,
   "id": "19e279ec",
   "metadata": {},
   "outputs": [
    {
     "data": {
      "text/plain": [
       "{1, 2, 3, 4, 5, 6}"
      ]
     },
     "execution_count": 117,
     "metadata": {},
     "output_type": "execute_result"
    }
   ],
   "source": [
    "p1"
   ]
  },
  {
   "cell_type": "code",
   "execution_count": 118,
   "id": "9c116a0f",
   "metadata": {},
   "outputs": [
    {
     "data": {
      "text/plain": [
       "{1, 2, 3, 4, 5, 6}"
      ]
     },
     "execution_count": 118,
     "metadata": {},
     "output_type": "execute_result"
    }
   ],
   "source": [
    "p"
   ]
  },
  {
   "cell_type": "code",
   "execution_count": null,
   "id": "5c314025",
   "metadata": {},
   "outputs": [],
   "source": []
  },
  {
   "cell_type": "code",
   "execution_count": null,
   "id": "def5914e",
   "metadata": {},
   "outputs": [],
   "source": [
    "s1 = {1,2,3,4,5}\n",
    "\n",
    "s2 = {'python',3,6,2,'java'}\n",
    "\n",
    "\n",
    "union --- >  s1 union s2 \n",
    "\n",
    "inetersection -----> comman element  --->{2,3}\n",
    "\n",
    "difference--->    s1-s2--> 1,4,5,,,,s2-s1 --->{'python',6,'java'}\n",
    "\n",
    "symmetric diff --->  s1-s2 --->1,4,5,python,java,6\n",
    "\n",
    "\n",
    "\n",
    "\n",
    "\n"
   ]
  },
  {
   "cell_type": "code",
   "execution_count": 1,
   "id": "7a70eb2c",
   "metadata": {},
   "outputs": [],
   "source": [
    "s1 = {1,2,3,4,5}\n",
    "\n",
    "s2 = {'python',3,6,2,'java'}"
   ]
  },
  {
   "cell_type": "code",
   "execution_count": 2,
   "id": "9bb31da9",
   "metadata": {},
   "outputs": [
    {
     "data": {
      "text/plain": [
       "{1, 2, 3, 4, 5, 6, 'java', 'python'}"
      ]
     },
     "execution_count": 2,
     "metadata": {},
     "output_type": "execute_result"
    }
   ],
   "source": [
    "s1.union(s2)"
   ]
  },
  {
   "cell_type": "code",
   "execution_count": 3,
   "id": "9600c435",
   "metadata": {},
   "outputs": [
    {
     "data": {
      "text/plain": [
       "{2, 3}"
      ]
     },
     "execution_count": 3,
     "metadata": {},
     "output_type": "execute_result"
    }
   ],
   "source": [
    "s1.intersection(s2)"
   ]
  },
  {
   "cell_type": "code",
   "execution_count": 4,
   "id": "5b3cf97e",
   "metadata": {},
   "outputs": [
    {
     "data": {
      "text/plain": [
       "{1, 4, 5}"
      ]
     },
     "execution_count": 4,
     "metadata": {},
     "output_type": "execute_result"
    }
   ],
   "source": [
    "s1.difference(s2)"
   ]
  },
  {
   "cell_type": "code",
   "execution_count": 5,
   "id": "78898dbf",
   "metadata": {},
   "outputs": [
    {
     "data": {
      "text/plain": [
       "{6, 'java', 'python'}"
      ]
     },
     "execution_count": 5,
     "metadata": {},
     "output_type": "execute_result"
    }
   ],
   "source": [
    "s2.difference(s1)"
   ]
  },
  {
   "cell_type": "code",
   "execution_count": 6,
   "id": "c639fed1",
   "metadata": {},
   "outputs": [
    {
     "data": {
      "text/plain": [
       "{1, 4, 5, 6, 'java', 'python'}"
      ]
     },
     "execution_count": 6,
     "metadata": {},
     "output_type": "execute_result"
    }
   ],
   "source": [
    "s1.symmetric_difference(s2)"
   ]
  },
  {
   "cell_type": "code",
   "execution_count": null,
   "id": "c151314a",
   "metadata": {},
   "outputs": [],
   "source": [
    "symmetric_difference_update\n",
    "difference_update\n",
    "intersection_update"
   ]
  },
  {
   "cell_type": "code",
   "execution_count": 7,
   "id": "64707ee9",
   "metadata": {},
   "outputs": [],
   "source": [
    "a = {1,2,3,4}"
   ]
  },
  {
   "cell_type": "code",
   "execution_count": 9,
   "id": "0c31c591",
   "metadata": {},
   "outputs": [],
   "source": [
    "b = {100,200,300,2}"
   ]
  },
  {
   "cell_type": "code",
   "execution_count": 10,
   "id": "a8cef161",
   "metadata": {},
   "outputs": [
    {
     "data": {
      "text/plain": [
       "{1, 3, 100, 200, 300}"
      ]
     },
     "execution_count": 10,
     "metadata": {},
     "output_type": "execute_result"
    }
   ],
   "source": [
    "a.symmetric_difference(b)"
   ]
  },
  {
   "cell_type": "code",
   "execution_count": 11,
   "id": "ab456e39",
   "metadata": {},
   "outputs": [
    {
     "data": {
      "text/plain": [
       "{1, 2, 3}"
      ]
     },
     "execution_count": 11,
     "metadata": {},
     "output_type": "execute_result"
    }
   ],
   "source": [
    "a"
   ]
  },
  {
   "cell_type": "code",
   "execution_count": 12,
   "id": "905fb6c1",
   "metadata": {},
   "outputs": [
    {
     "data": {
      "text/plain": [
       "{2, 100, 200, 300}"
      ]
     },
     "execution_count": 12,
     "metadata": {},
     "output_type": "execute_result"
    }
   ],
   "source": [
    "b"
   ]
  },
  {
   "cell_type": "code",
   "execution_count": 13,
   "id": "0db44870",
   "metadata": {},
   "outputs": [],
   "source": [
    "a.symmetric_difference_update(b)"
   ]
  },
  {
   "cell_type": "code",
   "execution_count": 14,
   "id": "b16ac78f",
   "metadata": {},
   "outputs": [
    {
     "data": {
      "text/plain": [
       "{1, 3, 100, 200, 300}"
      ]
     },
     "execution_count": 14,
     "metadata": {},
     "output_type": "execute_result"
    }
   ],
   "source": [
    "a"
   ]
  },
  {
   "cell_type": "code",
   "execution_count": 15,
   "id": "cdc51acc",
   "metadata": {},
   "outputs": [],
   "source": [
    "a = {1,2,3,4,5,6}"
   ]
  },
  {
   "cell_type": "code",
   "execution_count": 17,
   "id": "fef2a573",
   "metadata": {},
   "outputs": [],
   "source": [
    "b = {100,200,300,4,5,6,'python'}"
   ]
  },
  {
   "cell_type": "code",
   "execution_count": 18,
   "id": "b8e076dc",
   "metadata": {},
   "outputs": [
    {
     "data": {
      "text/plain": [
       "{4, 5, 6}"
      ]
     },
     "execution_count": 18,
     "metadata": {},
     "output_type": "execute_result"
    }
   ],
   "source": [
    "a.intersection(b)"
   ]
  },
  {
   "cell_type": "code",
   "execution_count": 19,
   "id": "7cf15fdf",
   "metadata": {},
   "outputs": [],
   "source": [
    "a.intersection_update(b)"
   ]
  },
  {
   "cell_type": "code",
   "execution_count": 20,
   "id": "7632056d",
   "metadata": {},
   "outputs": [
    {
     "data": {
      "text/plain": [
       "{4, 5, 6}"
      ]
     },
     "execution_count": 20,
     "metadata": {},
     "output_type": "execute_result"
    }
   ],
   "source": [
    "a"
   ]
  },
  {
   "cell_type": "code",
   "execution_count": 21,
   "id": "0df094bd",
   "metadata": {},
   "outputs": [
    {
     "data": {
      "text/plain": [
       "{100, 200, 300, 4, 5, 6, 'python'}"
      ]
     },
     "execution_count": 21,
     "metadata": {},
     "output_type": "execute_result"
    }
   ],
   "source": [
    "b"
   ]
  },
  {
   "cell_type": "code",
   "execution_count": null,
   "id": "f756ec7d",
   "metadata": {},
   "outputs": [],
   "source": [
    "loan  \n",
    "arun \n",
    "snehal\n",
    "akash\n",
    "varun\n",
    "\n",
    "\n",
    "credit card\n",
    "varun\n",
    "akash\n",
    "jon\n",
    "justin\n",
    "jacky\n",
    "\n",
    "\n",
    "loan.difference(creditcard)\n",
    "loan.intersection(credicard)\n",
    "loan.symmetric_diffrence()\n",
    "\n",
    "\n",
    "\n",
    "\n",
    "\n",
    "\n"
   ]
  },
  {
   "cell_type": "code",
   "execution_count": 23,
   "id": "03eb9f5e",
   "metadata": {},
   "outputs": [],
   "source": [
    "loan = {'arun','snehal','akash','varun'}"
   ]
  },
  {
   "cell_type": "code",
   "execution_count": 24,
   "id": "aedbaed8",
   "metadata": {},
   "outputs": [],
   "source": [
    "credit = {'varun','akash','jon','justin','jacky'}"
   ]
  },
  {
   "cell_type": "code",
   "execution_count": 25,
   "id": "2822082c",
   "metadata": {},
   "outputs": [
    {
     "data": {
      "text/plain": [
       "{'akash', 'varun'}"
      ]
     },
     "execution_count": 25,
     "metadata": {},
     "output_type": "execute_result"
    }
   ],
   "source": [
    "loan.intersection(credit)"
   ]
  },
  {
   "cell_type": "code",
   "execution_count": 26,
   "id": "6dfa26f3",
   "metadata": {},
   "outputs": [
    {
     "data": {
      "text/plain": [
       "{'arun', 'snehal'}"
      ]
     },
     "execution_count": 26,
     "metadata": {},
     "output_type": "execute_result"
    }
   ],
   "source": [
    "loan.difference(credit)"
   ]
  },
  {
   "cell_type": "code",
   "execution_count": 27,
   "id": "b0079704",
   "metadata": {},
   "outputs": [
    {
     "data": {
      "text/plain": [
       "{'jacky', 'jon', 'justin'}"
      ]
     },
     "execution_count": 27,
     "metadata": {},
     "output_type": "execute_result"
    }
   ],
   "source": [
    "credit.difference(loan)"
   ]
  },
  {
   "cell_type": "code",
   "execution_count": 28,
   "id": "3ed19c80",
   "metadata": {},
   "outputs": [
    {
     "data": {
      "text/plain": [
       "{'arun', 'jacky', 'jon', 'justin', 'snehal'}"
      ]
     },
     "execution_count": 28,
     "metadata": {},
     "output_type": "execute_result"
    }
   ],
   "source": [
    "loan.symmetric_difference(credit)"
   ]
  },
  {
   "cell_type": "code",
   "execution_count": 45,
   "id": "3afc0cc9",
   "metadata": {},
   "outputs": [],
   "source": [
    "a = {1,2,3}"
   ]
  },
  {
   "cell_type": "code",
   "execution_count": 46,
   "id": "2953d361",
   "metadata": {},
   "outputs": [],
   "source": [
    "b = {1,2,3}"
   ]
  },
  {
   "cell_type": "code",
   "execution_count": 39,
   "id": "f7e2261a",
   "metadata": {},
   "outputs": [],
   "source": [
    "a.symmetric_difference_update(b)"
   ]
  },
  {
   "cell_type": "code",
   "execution_count": 37,
   "id": "a589eeef",
   "metadata": {},
   "outputs": [
    {
     "data": {
      "text/plain": [
       "set()"
      ]
     },
     "execution_count": 37,
     "metadata": {},
     "output_type": "execute_result"
    }
   ],
   "source": [
    "b.symmetric_difference(a)"
   ]
  },
  {
   "cell_type": "code",
   "execution_count": 40,
   "id": "35cb761e",
   "metadata": {},
   "outputs": [
    {
     "data": {
      "text/plain": [
       "{500}"
      ]
     },
     "execution_count": 40,
     "metadata": {},
     "output_type": "execute_result"
    }
   ],
   "source": [
    "a"
   ]
  },
  {
   "cell_type": "code",
   "execution_count": null,
   "id": "0a408d4e",
   "metadata": {},
   "outputs": [],
   "source": []
  },
  {
   "cell_type": "code",
   "execution_count": null,
   "id": "fb26c160",
   "metadata": {},
   "outputs": [],
   "source": []
  },
  {
   "cell_type": "code",
   "execution_count": null,
   "id": "f134e8af",
   "metadata": {},
   "outputs": [],
   "source": [
    "is ----> method -----> bool"
   ]
  },
  {
   "cell_type": "code",
   "execution_count": null,
   "id": "e0082160",
   "metadata": {},
   "outputs": [],
   "source": [
    "issuperset\n",
    "issubset\n",
    "isdisjoint"
   ]
  },
  {
   "cell_type": "code",
   "execution_count": 52,
   "id": "35ff026d",
   "metadata": {},
   "outputs": [],
   "source": [
    "a = {1,2,3,4,5,6,7}"
   ]
  },
  {
   "cell_type": "code",
   "execution_count": 60,
   "id": "e1c012d9",
   "metadata": {},
   "outputs": [],
   "source": [
    "b = {6,3}"
   ]
  },
  {
   "cell_type": "code",
   "execution_count": 61,
   "id": "eb7a354e",
   "metadata": {},
   "outputs": [
    {
     "data": {
      "text/plain": [
       "True"
      ]
     },
     "execution_count": 61,
     "metadata": {},
     "output_type": "execute_result"
    }
   ],
   "source": [
    "a.issuperset(b)"
   ]
  },
  {
   "cell_type": "code",
   "execution_count": 56,
   "id": "090f5d95",
   "metadata": {},
   "outputs": [
    {
     "data": {
      "text/plain": [
       "False"
      ]
     },
     "execution_count": 56,
     "metadata": {},
     "output_type": "execute_result"
    }
   ],
   "source": [
    "a.issubset(b)"
   ]
  },
  {
   "cell_type": "code",
   "execution_count": 57,
   "id": "ee44a139",
   "metadata": {},
   "outputs": [
    {
     "data": {
      "text/plain": [
       "True"
      ]
     },
     "execution_count": 57,
     "metadata": {},
     "output_type": "execute_result"
    }
   ],
   "source": [
    "b.issubset(a)"
   ]
  },
  {
   "cell_type": "code",
   "execution_count": 62,
   "id": "e48e359d",
   "metadata": {},
   "outputs": [
    {
     "data": {
      "text/plain": [
       "{1, 2, 3, 4, 5, 6, 7}"
      ]
     },
     "execution_count": 62,
     "metadata": {},
     "output_type": "execute_result"
    }
   ],
   "source": [
    "a"
   ]
  },
  {
   "cell_type": "code",
   "execution_count": 63,
   "id": "1bf22742",
   "metadata": {},
   "outputs": [
    {
     "data": {
      "text/plain": [
       "{3, 6}"
      ]
     },
     "execution_count": 63,
     "metadata": {},
     "output_type": "execute_result"
    }
   ],
   "source": [
    "b"
   ]
  },
  {
   "cell_type": "code",
   "execution_count": 75,
   "id": "d8f23934",
   "metadata": {},
   "outputs": [],
   "source": [
    "c = {'python','java','c'}"
   ]
  },
  {
   "cell_type": "code",
   "execution_count": 72,
   "id": "372dbfb9",
   "metadata": {},
   "outputs": [
    {
     "data": {
      "text/plain": [
       "{1, 2, 3, 4, 5, 6, 7}"
      ]
     },
     "execution_count": 72,
     "metadata": {},
     "output_type": "execute_result"
    }
   ],
   "source": [
    "a"
   ]
  },
  {
   "cell_type": "code",
   "execution_count": 66,
   "id": "43dad38b",
   "metadata": {},
   "outputs": [
    {
     "data": {
      "text/plain": [
       "{3, 6}"
      ]
     },
     "execution_count": 66,
     "metadata": {},
     "output_type": "execute_result"
    }
   ],
   "source": [
    "b"
   ]
  },
  {
   "cell_type": "code",
   "execution_count": 76,
   "id": "9edb959e",
   "metadata": {},
   "outputs": [
    {
     "data": {
      "text/plain": [
       "True"
      ]
     },
     "execution_count": 76,
     "metadata": {},
     "output_type": "execute_result"
    }
   ],
   "source": [
    "a.isdisjoint(c)"
   ]
  },
  {
   "cell_type": "code",
   "execution_count": 68,
   "id": "07fbb1a1",
   "metadata": {},
   "outputs": [
    {
     "data": {
      "text/plain": [
       "False"
      ]
     },
     "execution_count": 68,
     "metadata": {},
     "output_type": "execute_result"
    }
   ],
   "source": [
    "a.isdisjoint(b)"
   ]
  },
  {
   "cell_type": "code",
   "execution_count": 77,
   "id": "ce10758b",
   "metadata": {},
   "outputs": [],
   "source": [
    "a = {1,2,3,4,5}"
   ]
  },
  {
   "cell_type": "code",
   "execution_count": 78,
   "id": "2f39a353",
   "metadata": {},
   "outputs": [],
   "source": [
    "b = {2,4,'python'}"
   ]
  },
  {
   "cell_type": "code",
   "execution_count": 79,
   "id": "8a10e540",
   "metadata": {},
   "outputs": [
    {
     "data": {
      "text/plain": [
       "{2, 4}"
      ]
     },
     "execution_count": 79,
     "metadata": {},
     "output_type": "execute_result"
    }
   ],
   "source": [
    "a.intersection(b)"
   ]
  },
  {
   "cell_type": "code",
   "execution_count": 80,
   "id": "a2698ff1",
   "metadata": {},
   "outputs": [
    {
     "data": {
      "text/plain": [
       "{1, 2, 3, 4, 5}"
      ]
     },
     "execution_count": 80,
     "metadata": {},
     "output_type": "execute_result"
    }
   ],
   "source": [
    "a"
   ]
  },
  {
   "cell_type": "code",
   "execution_count": 81,
   "id": "5d2b6a1e",
   "metadata": {},
   "outputs": [
    {
     "data": {
      "text/plain": [
       "{2, 4, 'python'}"
      ]
     },
     "execution_count": 81,
     "metadata": {},
     "output_type": "execute_result"
    }
   ],
   "source": [
    "b"
   ]
  },
  {
   "cell_type": "code",
   "execution_count": 82,
   "id": "915bdd28",
   "metadata": {},
   "outputs": [],
   "source": [
    "a.intersection_update(b)"
   ]
  },
  {
   "cell_type": "code",
   "execution_count": 83,
   "id": "c053b8aa",
   "metadata": {},
   "outputs": [
    {
     "data": {
      "text/plain": [
       "{2, 4}"
      ]
     },
     "execution_count": 83,
     "metadata": {},
     "output_type": "execute_result"
    }
   ],
   "source": [
    "a"
   ]
  },
  {
   "cell_type": "code",
   "execution_count": 84,
   "id": "c0f9d3c0",
   "metadata": {},
   "outputs": [],
   "source": [
    "#list/tuple/set -------practice"
   ]
  },
  {
   "cell_type": "code",
   "execution_count": null,
   "id": "dc52e11f",
   "metadata": {},
   "outputs": [],
   "source": []
  },
  {
   "cell_type": "code",
   "execution_count": null,
   "id": "1fb488cb",
   "metadata": {},
   "outputs": [],
   "source": []
  }
 ],
 "metadata": {
  "kernelspec": {
   "display_name": "Python 3",
   "language": "python",
   "name": "python3"
  },
  "language_info": {
   "codemirror_mode": {
    "name": "ipython",
    "version": 3
   },
   "file_extension": ".py",
   "mimetype": "text/x-python",
   "name": "python",
   "nbconvert_exporter": "python",
   "pygments_lexer": "ipython3",
   "version": "3.8.8"
  }
 },
 "nbformat": 4,
 "nbformat_minor": 5
}
