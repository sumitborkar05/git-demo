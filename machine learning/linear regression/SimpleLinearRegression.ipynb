{
 "cells": [
  {
   "cell_type": "markdown",
   "id": "b3565cde",
   "metadata": {},
   "source": [
    "# Simple Linear Regression"
   ]
  },
  {
   "cell_type": "markdown",
   "id": "196fde49",
   "metadata": {},
   "source": [
    "**Perform a Simple Linear Regression:**\n",
    "    **1. Formula:**\n",
    "        **1. y = b0 + b1x + e** "
   ]
  },
  {
   "cell_type": "markdown",
   "id": "84b562f3",
   "metadata": {},
   "source": [
    "1. Where:\n",
    "    1. y = output variable Predicted value of dependent variable(y) for given value independent variable (x)\n",
    "    2. b0 = Intercept(Predicted value y when x is 0)\n",
    "    3. b1 = Regression Coeffiecient [How much we except y to change x increase]\n",
    "    4. x =  Independent variable (variable we influencing)\n",
    "    5. e = Error of the estimate [variation]"
   ]
  },
  {
   "cell_type": "markdown",
   "id": "20ccaec6",
   "metadata": {},
   "source": [
    "#### Import Library"
   ]
  },
  {
   "cell_type": "code",
   "execution_count": 1,
   "id": "7203a616",
   "metadata": {},
   "outputs": [],
   "source": [
    "import numpy as np\n",
    "import pandas as pd\n",
    "import matplotlib.pyplot as plt\n",
    "import seaborn as sns"
   ]
  },
  {
   "cell_type": "markdown",
   "id": "d3d026e2",
   "metadata": {},
   "source": [
    "1. Data Collection\n",
    "2. Data Preprocessing\n",
    "3. EDA\n",
    "4. Feature Engineering / Feature Extraction\n",
    "5. Model Selction [model building]\n",
    "6. Evaluation\n",
    "7. Deployement"
   ]
  },
  {
   "cell_type": "markdown",
   "id": "bd8f50d7",
   "metadata": {},
   "source": [
    "### 1. Data Collection\n",
    "### 2. Data Preprocessing"
   ]
  },
  {
   "cell_type": "markdown",
   "id": "953707e6",
   "metadata": {},
   "source": [
    "### Read Dataset"
   ]
  },
  {
   "cell_type": "code",
   "execution_count": 2,
   "id": "630f3975",
   "metadata": {},
   "outputs": [],
   "source": [
    "df = pd.read_csv('headbrain.csv')"
   ]
  },
  {
   "cell_type": "code",
   "execution_count": 3,
   "id": "f92146ab",
   "metadata": {},
   "outputs": [
    {
     "data": {
      "text/html": [
       "<div>\n",
       "<style scoped>\n",
       "    .dataframe tbody tr th:only-of-type {\n",
       "        vertical-align: middle;\n",
       "    }\n",
       "\n",
       "    .dataframe tbody tr th {\n",
       "        vertical-align: top;\n",
       "    }\n",
       "\n",
       "    .dataframe thead th {\n",
       "        text-align: right;\n",
       "    }\n",
       "</style>\n",
       "<table border=\"1\" class=\"dataframe\">\n",
       "  <thead>\n",
       "    <tr style=\"text-align: right;\">\n",
       "      <th></th>\n",
       "      <th>Gender</th>\n",
       "      <th>Age Range</th>\n",
       "      <th>Head Size(cm^3)</th>\n",
       "      <th>Brain Weight(grams)</th>\n",
       "    </tr>\n",
       "  </thead>\n",
       "  <tbody>\n",
       "    <tr>\n",
       "      <th>0</th>\n",
       "      <td>1</td>\n",
       "      <td>1</td>\n",
       "      <td>4512</td>\n",
       "      <td>1530</td>\n",
       "    </tr>\n",
       "    <tr>\n",
       "      <th>1</th>\n",
       "      <td>1</td>\n",
       "      <td>1</td>\n",
       "      <td>3738</td>\n",
       "      <td>1297</td>\n",
       "    </tr>\n",
       "    <tr>\n",
       "      <th>2</th>\n",
       "      <td>1</td>\n",
       "      <td>1</td>\n",
       "      <td>4261</td>\n",
       "      <td>1335</td>\n",
       "    </tr>\n",
       "    <tr>\n",
       "      <th>3</th>\n",
       "      <td>1</td>\n",
       "      <td>1</td>\n",
       "      <td>3777</td>\n",
       "      <td>1282</td>\n",
       "    </tr>\n",
       "    <tr>\n",
       "      <th>4</th>\n",
       "      <td>1</td>\n",
       "      <td>1</td>\n",
       "      <td>4177</td>\n",
       "      <td>1590</td>\n",
       "    </tr>\n",
       "  </tbody>\n",
       "</table>\n",
       "</div>"
      ],
      "text/plain": [
       "   Gender  Age Range  Head Size(cm^3)  Brain Weight(grams)\n",
       "0       1          1             4512                 1530\n",
       "1       1          1             3738                 1297\n",
       "2       1          1             4261                 1335\n",
       "3       1          1             3777                 1282\n",
       "4       1          1             4177                 1590"
      ]
     },
     "execution_count": 3,
     "metadata": {},
     "output_type": "execute_result"
    }
   ],
   "source": [
    "df.head()"
   ]
  },
  {
   "cell_type": "code",
   "execution_count": 4,
   "id": "b90ed2d3",
   "metadata": {},
   "outputs": [
    {
     "data": {
      "text/plain": [
       "(237, 4)"
      ]
     },
     "execution_count": 4,
     "metadata": {},
     "output_type": "execute_result"
    }
   ],
   "source": [
    "df.shape"
   ]
  },
  {
   "cell_type": "code",
   "execution_count": 5,
   "id": "8ef03a48",
   "metadata": {},
   "outputs": [
    {
     "data": {
      "text/html": [
       "<div>\n",
       "<style scoped>\n",
       "    .dataframe tbody tr th:only-of-type {\n",
       "        vertical-align: middle;\n",
       "    }\n",
       "\n",
       "    .dataframe tbody tr th {\n",
       "        vertical-align: top;\n",
       "    }\n",
       "\n",
       "    .dataframe thead th {\n",
       "        text-align: right;\n",
       "    }\n",
       "</style>\n",
       "<table border=\"1\" class=\"dataframe\">\n",
       "  <thead>\n",
       "    <tr style=\"text-align: right;\">\n",
       "      <th></th>\n",
       "      <th>Gender</th>\n",
       "      <th>Age Range</th>\n",
       "      <th>Head Size(cm^3)</th>\n",
       "      <th>Brain Weight(grams)</th>\n",
       "    </tr>\n",
       "  </thead>\n",
       "  <tbody>\n",
       "    <tr>\n",
       "      <th>232</th>\n",
       "      <td>2</td>\n",
       "      <td>2</td>\n",
       "      <td>3214</td>\n",
       "      <td>1110</td>\n",
       "    </tr>\n",
       "    <tr>\n",
       "      <th>233</th>\n",
       "      <td>2</td>\n",
       "      <td>2</td>\n",
       "      <td>3394</td>\n",
       "      <td>1215</td>\n",
       "    </tr>\n",
       "    <tr>\n",
       "      <th>234</th>\n",
       "      <td>2</td>\n",
       "      <td>2</td>\n",
       "      <td>3233</td>\n",
       "      <td>1104</td>\n",
       "    </tr>\n",
       "    <tr>\n",
       "      <th>235</th>\n",
       "      <td>2</td>\n",
       "      <td>2</td>\n",
       "      <td>3352</td>\n",
       "      <td>1170</td>\n",
       "    </tr>\n",
       "    <tr>\n",
       "      <th>236</th>\n",
       "      <td>2</td>\n",
       "      <td>2</td>\n",
       "      <td>3391</td>\n",
       "      <td>1120</td>\n",
       "    </tr>\n",
       "  </tbody>\n",
       "</table>\n",
       "</div>"
      ],
      "text/plain": [
       "     Gender  Age Range  Head Size(cm^3)  Brain Weight(grams)\n",
       "232       2          2             3214                 1110\n",
       "233       2          2             3394                 1215\n",
       "234       2          2             3233                 1104\n",
       "235       2          2             3352                 1170\n",
       "236       2          2             3391                 1120"
      ]
     },
     "execution_count": 5,
     "metadata": {},
     "output_type": "execute_result"
    }
   ],
   "source": [
    "df.tail()"
   ]
  },
  {
   "cell_type": "code",
   "execution_count": 6,
   "id": "2bf2311a",
   "metadata": {},
   "outputs": [
    {
     "name": "stdout",
     "output_type": "stream",
     "text": [
      "<class 'pandas.core.frame.DataFrame'>\n",
      "RangeIndex: 237 entries, 0 to 236\n",
      "Data columns (total 4 columns):\n",
      " #   Column               Non-Null Count  Dtype\n",
      "---  ------               --------------  -----\n",
      " 0   Gender               237 non-null    int64\n",
      " 1   Age Range            237 non-null    int64\n",
      " 2   Head Size(cm^3)      237 non-null    int64\n",
      " 3   Brain Weight(grams)  237 non-null    int64\n",
      "dtypes: int64(4)\n",
      "memory usage: 7.5 KB\n"
     ]
    }
   ],
   "source": [
    "df.info()"
   ]
  },
  {
   "cell_type": "code",
   "execution_count": 8,
   "id": "968586ed",
   "metadata": {},
   "outputs": [
    {
     "data": {
      "text/plain": [
       "Gender                 0\n",
       "Age Range              0\n",
       "Head Size(cm^3)        0\n",
       "Brain Weight(grams)    0\n",
       "dtype: int64"
      ]
     },
     "execution_count": 8,
     "metadata": {},
     "output_type": "execute_result"
    }
   ],
   "source": [
    "df.isnull().sum()"
   ]
  },
  {
   "cell_type": "markdown",
   "id": "af340b2c",
   "metadata": {},
   "source": [
    "### Feature Engineering"
   ]
  },
  {
   "cell_type": "markdown",
   "id": "7351ecf1",
   "metadata": {},
   "source": [
    "**Declare Independent Variable (x) and Dependent Variable (y)**"
   ]
  },
  {
   "cell_type": "code",
   "execution_count": 9,
   "id": "0297a583",
   "metadata": {},
   "outputs": [],
   "source": [
    "x = df['Head Size(cm^3)'].values\n",
    "y = df['Brain Weight(grams)'].values"
   ]
  },
  {
   "cell_type": "markdown",
   "id": "dedbb055",
   "metadata": {},
   "source": [
    "**Corelation of Coefficient:**\n",
    "![](https://www.gstatic.com/education/formulas2/397133473/en/correlation_coefficient_formula.svg)"
   ]
  },
  {
   "cell_type": "markdown",
   "id": "33462293",
   "metadata": {},
   "source": [
    "1. r\t=\tcorrelation coefficient\n",
    "2. x_{i}\t=\tvalues of the x-variable in a sample\n",
    "3. xbar{x}\t=\tmean of the values of the x-variable\n",
    "4. y_{i}\t=\tvalues of the y-variable in a sample\n",
    "5. ybar{y}\t=\tmean of the values of the y-variable"
   ]
  },
  {
   "cell_type": "code",
   "execution_count": 10,
   "id": "c153cae5",
   "metadata": {},
   "outputs": [
    {
     "data": {
      "text/plain": [
       "array([[1.        , 0.79956971],\n",
       "       [0.79956971, 1.        ]])"
      ]
     },
     "execution_count": 10,
     "metadata": {},
     "output_type": "execute_result"
    }
   ],
   "source": [
    "np.corrcoef(x, y)"
   ]
  },
  {
   "cell_type": "code",
   "execution_count": 11,
   "id": "61e76a41",
   "metadata": {},
   "outputs": [
    {
     "data": {
      "text/html": [
       "<div>\n",
       "<style scoped>\n",
       "    .dataframe tbody tr th:only-of-type {\n",
       "        vertical-align: middle;\n",
       "    }\n",
       "\n",
       "    .dataframe tbody tr th {\n",
       "        vertical-align: top;\n",
       "    }\n",
       "\n",
       "    .dataframe thead th {\n",
       "        text-align: right;\n",
       "    }\n",
       "</style>\n",
       "<table border=\"1\" class=\"dataframe\">\n",
       "  <thead>\n",
       "    <tr style=\"text-align: right;\">\n",
       "      <th></th>\n",
       "      <th>Gender</th>\n",
       "      <th>Age Range</th>\n",
       "      <th>Head Size(cm^3)</th>\n",
       "      <th>Brain Weight(grams)</th>\n",
       "    </tr>\n",
       "  </thead>\n",
       "  <tbody>\n",
       "    <tr>\n",
       "      <th>Gender</th>\n",
       "      <td>1.000000</td>\n",
       "      <td>-0.088652</td>\n",
       "      <td>-0.514050</td>\n",
       "      <td>-0.465266</td>\n",
       "    </tr>\n",
       "    <tr>\n",
       "      <th>Age Range</th>\n",
       "      <td>-0.088652</td>\n",
       "      <td>1.000000</td>\n",
       "      <td>-0.105428</td>\n",
       "      <td>-0.169438</td>\n",
       "    </tr>\n",
       "    <tr>\n",
       "      <th>Head Size(cm^3)</th>\n",
       "      <td>-0.514050</td>\n",
       "      <td>-0.105428</td>\n",
       "      <td>1.000000</td>\n",
       "      <td>0.799570</td>\n",
       "    </tr>\n",
       "    <tr>\n",
       "      <th>Brain Weight(grams)</th>\n",
       "      <td>-0.465266</td>\n",
       "      <td>-0.169438</td>\n",
       "      <td>0.799570</td>\n",
       "      <td>1.000000</td>\n",
       "    </tr>\n",
       "  </tbody>\n",
       "</table>\n",
       "</div>"
      ],
      "text/plain": [
       "                       Gender  Age Range  Head Size(cm^3)  Brain Weight(grams)\n",
       "Gender               1.000000  -0.088652        -0.514050            -0.465266\n",
       "Age Range           -0.088652   1.000000        -0.105428            -0.169438\n",
       "Head Size(cm^3)     -0.514050  -0.105428         1.000000             0.799570\n",
       "Brain Weight(grams) -0.465266  -0.169438         0.799570             1.000000"
      ]
     },
     "execution_count": 11,
     "metadata": {},
     "output_type": "execute_result"
    }
   ],
   "source": [
    "df.corr()"
   ]
  },
  {
   "cell_type": "markdown",
   "id": "db6f67be",
   "metadata": {},
   "source": [
    "## EDA"
   ]
  },
  {
   "cell_type": "code",
   "execution_count": 12,
   "id": "2429c3c4",
   "metadata": {},
   "outputs": [
    {
     "data": {
      "image/png": "[encoded data removed]",
      "text/plain": [
       "<Figure size 432x288 with 1 Axes>"
      ]
     },
     "metadata": {
      "needs_background": "light"
     },
     "output_type": "display_data"
    }
   ],
   "source": [
    "plt.scatter(x, y, color ='green',label='DataPoints')\n",
    "plt.xlabel('Independent Variable Head Size(cm^3) ')\n",
    "plt.ylabel('Dependent Variable Brain Weight(grams)')\n",
    "plt.legend()\n",
    "plt.show()"
   ]
  },
  {
   "cell_type": "markdown",
   "id": "241fa6d6",
   "metadata": {},
   "source": [
    "### Calculation Coeffieient"
   ]
  },
  {
   "cell_type": "markdown",
   "id": "b4c5ed0a",
   "metadata": {},
   "source": [
    "**Mean of x and Mean Y**"
   ]
  },
  {
   "cell_type": "code",
   "execution_count": 13,
   "id": "77f3357d",
   "metadata": {},
   "outputs": [
    {
     "name": "stdout",
     "output_type": "stream",
     "text": [
      "3633.9915611814345\n",
      "1282.873417721519\n"
     ]
    }
   ],
   "source": [
    "mean_x = np.mean(x)\n",
    "mean_y = np.mean(y)\n",
    "\n",
    "print(mean_x)\n",
    "print(mean_y)"
   ]
  },
  {
   "cell_type": "markdown",
   "id": "03f4ebdc",
   "metadata": {},
   "source": [
    "1. Now our our goal is to findout Best fit Line using Least Square Method\n",
    "2. Now we need to findout equation of line, using formula:\n",
    "    1. y = mx + c\n",
    "3. Now we have equation of line, so we need to find the m\n",
    "4. Forumla:**m = summation(x[i] - mean_x) * (y[i] - mean_y) / summation(x[i] - mean_x) ** 2**"
   ]
  },
  {
   "cell_type": "markdown",
   "id": "f5d07afa",
   "metadata": {},
   "source": [
    "1. value of m:\n",
    "    1. Now calculate (x - mean_x)\n",
    "    2. Now calculate (y - mean_y)"
   ]
  },
  {
   "cell_type": "markdown",
   "id": "dc0720f4",
   "metadata": {},
   "source": [
    "### Total No of Values"
   ]
  },
  {
   "cell_type": "code",
   "execution_count": 14,
   "id": "4230ba07",
   "metadata": {},
   "outputs": [
    {
     "name": "stdout",
     "output_type": "stream",
     "text": [
      "237\n"
     ]
    }
   ],
   "source": [
    "n = len(x) #Independent Variable\n",
    "print(n)"
   ]
  },
  {
   "cell_type": "markdown",
   "id": "8575a4d3",
   "metadata": {},
   "source": [
    "**Now we need to product of (x[i] - mean_x) and (y[i] - mean_y)**"
   ]
  },
  {
   "cell_type": "markdown",
   "id": "5648b70d",
   "metadata": {},
   "source": [
    "**using the Formula to calculate theta1 and theta2**"
   ]
  },
  {
   "cell_type": "code",
   "execution_count": 15,
   "id": "7f105217",
   "metadata": {},
   "outputs": [],
   "source": [
    "number = 0\n",
    "denom = 0\n",
    "\n",
    "for i in range(n):\n",
    "    number += (x[i] - mean_x) * (y[i] -mean_y)\n",
    "    denom += (x[i] - mean_x) ** 2\n",
    "    \n",
    "b1 = number / denom\n",
    "b0 = mean_y - (b1 * mean_x)"
   ]
  },
  {
   "cell_type": "code",
   "execution_count": 16,
   "id": "1adb55a8",
   "metadata": {},
   "outputs": [
    {
     "name": "stdout",
     "output_type": "stream",
     "text": [
      "0.26342933948939945\n",
      "325.57342104944223\n"
     ]
    }
   ],
   "source": [
    "print(b1)\n",
    "print(b0)"
   ]
  },
  {
   "cell_type": "markdown",
   "id": "b8ccac0b",
   "metadata": {},
   "source": [
    "1. y = mx + c\n",
    "1. where:\n",
    "    1. y = 3.6\n",
    "    2. m = 0.4\n",
    "    3. x = 3\n",
    "    4. c = ?\n",
    "    \n",
    "1. 3.6 = 0.4 * 3 + c\n",
    "2. 3.6 = 1.2 + c\n",
    "3. 3.6 - 1.2\n",
    "4. c = 2.4"
   ]
  },
  {
   "cell_type": "markdown",
   "id": "1bc086f8",
   "metadata": {},
   "source": [
    "1. Now calculate the Distance between Actual Value and Predicted value Reduce Distance (Least Square Method)\n",
    "2. so it will perform number of itration for different value of m it will equation of line"
   ]
  },
  {
   "cell_type": "code",
   "execution_count": 20,
   "id": "1f17e729",
   "metadata": {},
   "outputs": [
    {
     "data": {
      "image/png": "[encoded data removed]",
      "text/plain": [
       "<Figure size 720x360 with 1 Axes>"
      ]
     },
     "metadata": {
      "needs_background": "light"
     },
     "output_type": "display_data"
    }
   ],
   "source": [
    "%matplotlib inline\n",
    "plt.rcParams['figure.figsize'] = (10.0,5.0)\n",
    "\n",
    "y = b0 + b1 * x\n",
    "\n",
    "plt.plot(x, y, color ='red', label = 'Regression Line')\n",
    "plt.scatter(x,y, color = 'blue',label = \"DataPoints\")\n",
    "plt.legend()\n",
    "plt.show()"
   ]
  },
  {
   "cell_type": "code",
   "execution_count": null,
   "id": "96bb03b1",
   "metadata": {},
   "outputs": [],
   "source": []
  }
 ],
 "metadata": {
  "kernelspec": {
   "display_name": "Python 3",
   "language": "python",
   "name": "python3"
  },
  "language_info": {
   "codemirror_mode": {
    "name": "ipython",
    "version": 3
   },
   "file_extension": ".py",
   "mimetype": "text/x-python",
   "name": "python",
   "nbconvert_exporter": "python",
   "pygments_lexer": "ipython3",
   "version": "3.8.8"
  }
 },
 "nbformat": 4,
 "nbformat_minor": 5
}
