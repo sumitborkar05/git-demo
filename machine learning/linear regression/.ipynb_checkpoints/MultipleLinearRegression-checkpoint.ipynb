{
 "cells": [
  {
   "cell_type": "markdown",
   "id": "cb1df042",
   "metadata": {},
   "source": [
    "# Multiple Linear Regression"
   ]
  },
  {
   "cell_type": "markdown",
   "id": "5fd8b0c5",
   "metadata": {},
   "source": [
    "independent variable [x]\n",
    "dependent variable [y]"
   ]
  },
  {
   "cell_type": "code",
   "execution_count": 1,
   "id": "12fd5192",
   "metadata": {},
   "outputs": [],
   "source": [
    "x = [1,2,3,4,5] #on the x axis\n",
    "y = [3,4,2,4,5] #on the y axis"
   ]
  },
  {
   "cell_type": "markdown",
   "id": "736d8b34",
   "metadata": {},
   "source": [
    "# Formula:\n",
    "    1. y = mx + c\n",
    "    2. y = b0 + b1x1 + b2x2 + .......+bnxn + epsilon"
   ]
  },
  {
   "cell_type": "markdown",
   "id": "5f41b930",
   "metadata": {},
   "source": [
    "![](https://www.simplypsychology.org/correlation.jpg?ezimgfmt=rs:376x266/rscb30/ng:webp/ngcb30)"
   ]
  },
  {
   "cell_type": "markdown",
   "id": "2ed08395",
   "metadata": {},
   "source": [
    "Now calculate mean of x and y, plot on Graph"
   ]
  },
  {
   "cell_type": "code",
   "execution_count": 2,
   "id": "560d92ed",
   "metadata": {},
   "outputs": [],
   "source": [
    "x = 1 + 2 + 3 + 4 + 5 \n",
    "y = 3 + 4 + 2 + 4 + 5"
   ]
  },
  {
   "cell_type": "code",
   "execution_count": 3,
   "id": "91bf42fd",
   "metadata": {},
   "outputs": [
    {
     "name": "stdout",
     "output_type": "stream",
     "text": [
      "15\n",
      "18\n"
     ]
    }
   ],
   "source": [
    "print(x)\n",
    "print(y)"
   ]
  },
  {
   "cell_type": "code",
   "execution_count": 4,
   "id": "cfad7020",
   "metadata": {},
   "outputs": [],
   "source": [
    "x = 15 / 5\n",
    "y = 18 / 5"
   ]
  },
  {
   "cell_type": "code",
   "execution_count": 5,
   "id": "6d4b9aa4",
   "metadata": {},
   "outputs": [
    {
     "name": "stdout",
     "output_type": "stream",
     "text": [
      "3.0\n",
      "3.6\n"
     ]
    }
   ],
   "source": [
    "print(x)\n",
    "print(y)"
   ]
  },
  {
   "cell_type": "code",
   "execution_count": 6,
   "id": "374f1942",
   "metadata": {},
   "outputs": [],
   "source": [
    "x = [3.0]\n",
    "y = [3.6]"
   ]
  },
  {
   "cell_type": "markdown",
   "id": "69d02227",
   "metadata": {},
   "source": [
    "1. Step 3 :\n",
    "    1. Now calculate or Predict Best fit line using Least Square Method:\n",
    "        1. We use Regression Equation:\n",
    "            1. y = mx + c"
   ]
  },
  {
   "cell_type": "markdown",
   "id": "e149d754",
   "metadata": {},
   "source": [
    "Now, we have equation of line , we need to find line:"
   ]
  },
  {
   "cell_type": "markdown",
   "id": "28ca1fc8",
   "metadata": {},
   "source": [
    "#### m = summation(X[i] - mean_X) * (Y[i] - mean_Y) / summation (X[i]- mean_X) **2"
   ]
  },
  {
   "cell_type": "code",
   "execution_count": 7,
   "id": "d2b66bb8",
   "metadata": {},
   "outputs": [],
   "source": [
    "# x = [1,2,3,4,5]\n",
    "# mean_x = 3\n",
    "\n",
    "#  Formula: x- mean_x\n",
    "#         1. 1 - 3 = -2\n",
    "#         2. 2 - 3 = -1\n",
    "#         3. 3 - 3 = 0\n",
    "#         4. 4 - 3 = 1\n",
    "#         5. 5 - 3 = 2\n",
    "\n",
    "\n",
    "# y = [3,4,2,4,5]\n",
    "# mean_y = 3.6\n",
    "# Calculate (y[i] - mean_y):\n",
    "#     1. -0.6\n",
    "#     2. 0.4\n",
    "#     3. -1.6\n",
    "#     4. 0.4\n",
    "#     5. 1.4\n",
    "\n",
    "# summation = 4\n",
    "# summation = 10\n",
    "\n",
    "# Now we need to calculate product of (X[i] -mean_X) and (Y[i] - mean_Y):\n",
    "#     1. Formula (X[i] -mean_X) * (Y[i] - mean_Y):\n",
    "#         1. (-2) * (-0.6) = 1.2\n",
    "#         2. (-1) * (0.4) = -0.4\n",
    "#         3. (0) * (-1.6) = 0\n",
    "#         4. (1) * (0.4) = 0.4\n",
    "#         5. (2) * (1.4) = 2.8\n",
    "\n",
    "# m = 4 / 10 = 0.4\n",
    "# m = 0.4\n",
    "\n",
    "# Now y = mx + c:\n",
    "#     3.6 = 0.4 * 3 + c\n",
    "#     3.6 = 1.2 + c\n",
    "#     c =3.6 - 1.2\n",
    "#     c = 2.4\n",
    "\n",
    "\n",
    "# Now x ={1,2,3,4,5}\n",
    "#     m = 0.4\n",
    "#     c = 2.4\n",
    "\n",
    "\n",
    "# Now calculate Predict value X:\n",
    "#     y = mx + c\n",
    "#     y = 0.4 * 1 + 2.4 = 2.8\n",
    "#     y = 0.4 * 2 + 2.4 = 3.2\n",
    "#     y = 0.4 * 3 + 2.4 = 3.6\n",
    "#     y = 0.4 * 4 + 2.4 = 4.0\n",
    "#     y = 0.4 * 5 + 2.4 = 4.4"
   ]
  },
  {
   "cell_type": "code",
   "execution_count": 9,
   "id": "f3efb2ef",
   "metadata": {},
   "outputs": [],
   "source": [
    "# m = 0.4\n",
    "# c = 2.4\n",
    "# y = 0.4 * x + 2.4\n",
    "# so this is called as Regression Line"
   ]
  },
  {
   "cell_type": "code",
   "execution_count": null,
   "id": "5c861414",
   "metadata": {},
   "outputs": [],
   "source": []
  },
  {
   "cell_type": "markdown",
   "id": "d0df2b18",
   "metadata": {},
   "source": [
    "Now we need product of (x- mean[x]) . (y -mean(y))"
   ]
  },
  {
   "cell_type": "code",
   "execution_count": 8,
   "id": "b398e85e",
   "metadata": {},
   "outputs": [
    {
     "data": {
      "text/plain": [
       "2.8"
      ]
     },
     "execution_count": 8,
     "metadata": {},
     "output_type": "execute_result"
    }
   ],
   "source": [
    "x = (2) * (1.4)\n",
    "x"
   ]
  },
  {
   "cell_type": "code",
   "execution_count": null,
   "id": "db7140d7",
   "metadata": {},
   "outputs": [],
   "source": [
    "\n"
   ]
  }
 ],
 "metadata": {
  "kernelspec": {
   "display_name": "Python 3",
   "language": "python",
   "name": "python3"
  },
  "language_info": {
   "codemirror_mode": {
    "name": "ipython",
    "version": 3
   },
   "file_extension": ".py",
   "mimetype": "text/x-python",
   "name": "python",
   "nbconvert_exporter": "python",
   "pygments_lexer": "ipython3",
   "version": "3.8.8"
  }
 },
 "nbformat": 4,
 "nbformat_minor": 5
}
