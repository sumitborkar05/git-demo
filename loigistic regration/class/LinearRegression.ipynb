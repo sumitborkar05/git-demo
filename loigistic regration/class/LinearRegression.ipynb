{
 "cells": [
  {
   "cell_type": "markdown",
   "id": "f07a7f53",
   "metadata": {},
   "source": [
    "# Relatioship \n",
    "1. Positive Relationship:\n",
    "    [x,y] - when x increses then as well as y increses\n",
    "2. Negative Relationship:\n",
    "    [x,y] - when x increses and otherside y has decreses\n",
    "3. No Relationship:\n",
    "    when x and y are 0 "
   ]
  },
  {
   "cell_type": "markdown",
   "id": "69657e02",
   "metadata": {},
   "source": [
    "## Assumptions:\n",
    "    1. Homascedasticity\n",
    "    2. Independance of Observation\n",
    "    3. Normality\n",
    "    4. Linearity"
   ]
  },
  {
   "cell_type": "markdown",
   "id": "4e68d366",
   "metadata": {},
   "source": [
    "## Correlation:\n",
    "    1. Good Relationship - 1 or close to 1 [0.5 above value]\n",
    "    2. Average Relationship - 0.5\n",
    "    3. Bad Relationship - 0.49 and below value"
   ]
  },
  {
   "cell_type": "markdown",
   "id": "a7ef930a",
   "metadata": {},
   "source": [
    "1. R- Squared Method:\n",
    "    1. R -Squared method is a statatstical measure of how close data are to be the fitted regression line\n",
    "    2. It also known as coefficient of Determination or coefficient of multiple Determination\n",
    "    3. \n",
    "    4. Calculation:\n",
    "        1. Distance = Actual - Mean vs Distance = Predicted  - mean\n",
    "        2. this is nothing but R2:\n",
    "            **1.Formula: R2 = summation (Xp - mean_X) ** 2 / summation (Y - mean_Y) ** 2**\n",
    "            "
   ]
  },
  {
   "cell_type": "markdown",
   "id": "8bfab3cb",
   "metadata": {},
   "source": [
    "### where:\n",
    "    1. Y - Actual value\n",
    "    2. Yp - Predicted Value\n",
    "    3. mean_Y - mean value of y (3.6)"
   ]
  },
  {
   "cell_type": "code",
   "execution_count": null,
   "id": "1eea57b9",
   "metadata": {},
   "outputs": [],
   "source": [
    "F"
   ]
  }
 ],
 "metadata": {
  "kernelspec": {
   "display_name": "Python 3",
   "language": "python",
   "name": "python3"
  },
  "language_info": {
   "codemirror_mode": {
    "name": "ipython",
    "version": 3
   },
   "file_extension": ".py",
   "mimetype": "text/x-python",
   "name": "python",
   "nbconvert_exporter": "python",
   "pygments_lexer": "ipython3",
   "version": "3.8.8"
  }
 },
 "nbformat": 4,
 "nbformat_minor": 5
}
