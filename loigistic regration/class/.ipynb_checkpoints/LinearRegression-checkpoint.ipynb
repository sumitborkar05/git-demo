{
 "cells": [
  {
   "cell_type": "markdown",
   "id": "2c132703",
   "metadata": {},
   "source": [
    "# Relatioship \n",
    "1. Positive Relationship:\n",
    "    [x,y] - when x increses then as well as y increses\n",
    "2. Negative Relationship:\n",
    "    [x,y] - when x increses and otherside y has decreses\n",
    "3. No Relationship:\n",
    "    when x and y are 0 "
   ]
  },
  {
   "cell_type": "markdown",
   "id": "d1434f1c",
   "metadata": {},
   "source": [
    "## Assumptions:\n",
    "    1. Homascedasticity\n",
    "    2. Independance of Observation\n",
    "    3. Normality\n",
    "    4. Linearity"
   ]
  },
  {
   "cell_type": "markdown",
   "id": "79b2ff5d",
   "metadata": {},
   "source": [
    "## Correlation:\n",
    "    1. Good Relationship - 1 or close to 1 [0.5 above value]\n",
    "    2. Average Relationship - 0.5\n",
    "    3. Bad Relationship - 0.49 and below value"
   ]
  },
  {
   "cell_type": "code",
   "execution_count": null,
   "id": "d97f4dc5",
   "metadata": {},
   "outputs": [],
   "source": []
  }
 ],
 "metadata": {
  "kernelspec": {
   "display_name": "Python 3",
   "language": "python",
   "name": "python3"
  },
  "language_info": {
   "codemirror_mode": {
    "name": "ipython",
    "version": 3
   },
   "file_extension": ".py",
   "mimetype": "text/x-python",
   "name": "python",
   "nbconvert_exporter": "python",
   "pygments_lexer": "ipython3",
   "version": "3.8.8"
  }
 },
 "nbformat": 4,
 "nbformat_minor": 5
}
