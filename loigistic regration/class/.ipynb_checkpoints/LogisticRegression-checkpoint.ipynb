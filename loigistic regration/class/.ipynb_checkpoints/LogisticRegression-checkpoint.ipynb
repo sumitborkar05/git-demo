{
 "cells": [
  {
   "cell_type": "markdown",
   "id": "b2a58282",
   "metadata": {},
   "source": [
    "# Logistic Regression"
   ]
  },
  {
   "cell_type": "markdown",
   "id": "9095f3b4",
   "metadata": {},
   "source": [
    "1. Logistic Regression is predictive modeling technique\n",
    "2. It always involves in prediction\n",
    "3. It estimate the relationship between Independent variable[Y] and Dependent variable [Y]\n",
    "4. Dependent variable [Y] is nothing but variable which you want to predict and Independent variable different feature or values called Indepedent Variable\n",
    "5. Logistic Regression always create a result in binary format which is used to predict outcome of a categorical variable\n",
    "6. so we will get descrete categorical variable:\n",
    "    1.Exmple:\n",
    "        1. Yes or No\n",
    "        2. 0 or 1\n",
    "        3. Male or Female\n",
    "        4. True or False\n",
    "        5. High or Low\n",
    "7. Logistic regression use sigmoid Function / curve to predict the categorical data.\n",
    "8. Threshold decides the outcome (Win / Low)\n",
    "9. It is supervised Machine Learning Algorithm \n",
    "10. It is classification Algorithm"
   ]
  },
  {
   "cell_type": "markdown",
   "id": "59f58802",
   "metadata": {},
   "source": [
    "**Linear Regression Equation**"
   ]
  },
  {
   "cell_type": "markdown",
   "id": "1c5a4f7a",
   "metadata": {},
   "source": [
    "1. y = B0 +b1x1 +b2x2 + ........+bnxn:\n",
    "    1. y -dependent variable\n",
    "    2. b0 -Intercept\n",
    "    3. b1 - slope of line\n",
    "    4. x - Independent Variable"
   ]
  },
  {
   "cell_type": "markdown",
   "id": "17a86a07",
   "metadata": {},
   "source": [
    "1. Sigmoid Function:\n",
    "    **1. Formula: P = 1 / 1 + e rest to -y**"
   ]
  },
  {
   "cell_type": "markdown",
   "id": "7e569cd2",
   "metadata": {},
   "source": [
    "![](https://miro.medium.com/max/725/1*QY3CSyA4BzAU6sEPFwp9ZQ.png)"
   ]
  },
  {
   "cell_type": "markdown",
   "id": "e514512d",
   "metadata": {},
   "source": [
    "1. apply sigmoid function on the linear regression equation\n",
    "2. "
   ]
  },
  {
   "cell_type": "markdown",
   "id": "efb91ab1",
   "metadata": {},
   "source": [
    "1. Why Not Linear Regression:\n",
    "    1. Linear regression value of y is need to predict in range but in logistic regression which has only two outcomes either o or 1\n",
    "    2. our value y value o and 1, the linear line has to be clipped in o and 1"
   ]
  },
  {
   "cell_type": "markdown",
   "id": "0d28b9d9",
   "metadata": {},
   "source": [
    "**1. In Logistic Regression, dont need to be value below o and we dont have value above 1, so our Y value will be between o and 1** \n",
    "**2. this is the main rule of logistic Regression**"
   ]
  },
  {
   "cell_type": "markdown",
   "id": "2b9341a0",
   "metadata": {},
   "source": [
    "![](data:image/jpeg;base64,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)"
   ]
  },
  {
   "cell_type": "markdown",
   "id": "07607b12",
   "metadata": {},
   "source": [
    "# Types of Linear Regression:\n",
    "    1. Binary Logistic Regression:\n",
    "        1. It has only two outcomes\n",
    "        2. Exmples:\n",
    "            1. Yes or No\n",
    "            2. True or False\n",
    "    2. Multinomial Logistic Regression:\n",
    "        1. It has three or more than three value then it is called multinomial\n",
    "        2. Example:\n",
    "            1. Animals : Cat, Dog, Mouse etc.\n",
    "            2. Colors - Red, blue, black\n",
    "    3. Ordinal Logistic Regression:\n",
    "        1. It has three or more ordinal categories, ordinal meaning that the categoris will be in order\n",
    "        2. Example:\n",
    "            1. User Rating"
   ]
  },
  {
   "cell_type": "code",
   "execution_count": null,
   "id": "90bedd08",
   "metadata": {},
   "outputs": [],
   "source": []
  }
 ],
 "metadata": {
  "kernelspec": {
   "display_name": "Python 3",
   "language": "python",
   "name": "python3"
  },
  "language_info": {
   "codemirror_mode": {
    "name": "ipython",
    "version": 3
   },
   "file_extension": ".py",
   "mimetype": "text/x-python",
   "name": "python",
   "nbconvert_exporter": "python",
   "pygments_lexer": "ipython3",
   "version": "3.8.8"
  }
 },
 "nbformat": 4,
 "nbformat_minor": 5
}
